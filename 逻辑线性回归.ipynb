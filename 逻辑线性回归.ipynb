{
 "cells": [
  {
   "cell_type": "code",
   "execution_count": 1,
   "metadata": {},
   "outputs": [],
   "source": [
    "import torch\n",
    "import time\n",
    "\n",
    "# init variable a,b as 1000 dimension vector\n",
    "n=1000\n",
    "a=torch.ones(n)\n",
    "b=torch.ones(n)"
   ]
  },
  {
   "cell_type": "code",
   "execution_count": 2,
   "metadata": {},
   "outputs": [],
   "source": [
    "# define a  timer class to record time\n",
    "class Timer(object):\n",
    "    \"\"\"Record multiple running times.\"\"\"\n",
    "    def __init__(self):\n",
    "        self.times=[]\n",
    "        self.start()\n",
    "   \n",
    "    def start(self):\n",
    "        # start the timer\n",
    "        self.start_time=time.time()\n",
    "        \n",
    "    def stop(self):\n",
    "        # stop the timer and record time into a list\n",
    "        self.times.append(time.time()-self.start_time)\n",
    "        return self.times[-1]\n",
    "    \n",
    "    def avg(self):\n",
    "        # calculate the average and return\n",
    "        return sum(self.times)/len(self.times)\n",
    "    \n",
    "    def sum(self):\n",
    "        # return the sum of recorded time\n",
    "        return sum(self.times)"
   ]
  },
  {
   "cell_type": "markdown",
   "metadata": {},
   "source": [
    "向量加法的比较  \n",
    "- 标量加法：按元素逐一相加\n",
    "- 矢量加法：将两个向量直接做矢量加法  \n",
    "\n",
    "首先将两个向量使用for循环按元素逐一做标量加法"
   ]
  },
  {
   "cell_type": "code",
   "execution_count": 3,
   "metadata": {},
   "outputs": [
    {
     "data": {
      "text/plain": [
       "'0.02900 seconds'"
      ]
     },
     "execution_count": 3,
     "metadata": {},
     "output_type": "execute_result"
    }
   ],
   "source": [
    "timer=Timer()\n",
    "c=torch.zeros(n)\n",
    "for i in range(n):\n",
    "    c[i]=a[i]+b[i]\n",
    "\"%.5f seconds\"%timer.stop()"
   ]
  },
  {
   "cell_type": "markdown",
   "metadata": {},
   "source": [
    "然后使用torch直接对两个向量做矢量加法"
   ]
  },
  {
   "cell_type": "code",
   "execution_count": 4,
   "metadata": {},
   "outputs": [
    {
     "data": {
      "text/plain": [
       "'0.00100 seconds'"
      ]
     },
     "execution_count": 4,
     "metadata": {},
     "output_type": "execute_result"
    }
   ],
   "source": [
    "timer.start()\n",
    "d=a+b\n",
    "\"%.5f seconds\"%timer.stop()"
   ]
  },
  {
   "cell_type": "markdown",
   "metadata": {},
   "source": [
    "# 线性回归模型从零开始的实现"
   ]
  },
  {
   "cell_type": "code",
   "execution_count": 6,
   "metadata": {},
   "outputs": [],
   "source": [
    "# import packages and modules\n",
    "import torch\n",
    "from IPython import display\n",
    "from matplotlib import pyplot as plt\n",
    "import numpy as np\n",
    "import random\n",
    "# jupyter :内嵌绘图\n",
    "%matplotlib inline "
   ]
  },
  {
   "cell_type": "markdown",
   "metadata": {},
   "source": [
    "### 生成数据集\n",
    "使用linear module生成数据集，1000个样本  \n",
    "\n",
    "$$price=w_{area}*area+w_{age}*age+b$$\n"
   ]
  },
  {
   "cell_type": "code",
   "execution_count": 37,
   "metadata": {},
   "outputs": [],
   "source": [
    "# 输入特征数量\n",
    "NUM_INPUTS=2\n",
    "# 样本数量\n",
    "NUM_EXAMPELS=1000\n",
    "\n",
    "#设置真实参数,权重矩阵W[]，偏置bias，用来生成数据集的真实标签\n",
    "w=[2,-3.4]\n",
    "b=4.2\n",
    "\n",
    "features=torch.randn(NUM_EXAMPELS,NUM_INPUTS,dtype=torch.float32)\n",
    "labels=w[0]*features[:,0]+w[1]*features[:,1]+b\n",
    "# labels加入一点点噪声，噪声数据符合均值为0，宽度（标准差）为0.01的正态分布\n",
    "labels+=torch.tensor(np.random.normal(0,0.01,size=labels.size()),dtype=torch.float32)"
   ]
  },
  {
   "cell_type": "markdown",
   "metadata": {},
   "source": [
    "### 使用图像来展示生成的数据"
   ]
  },
  {
   "cell_type": "code",
   "execution_count": 11,
   "metadata": {
    "collapsed": true
   },
   "outputs": [
    {
     "data": {
      "text/plain": [
       "<matplotlib.collections.PathCollection at 0x203dd789e88>"
      ]
     },
     "execution_count": 11,
     "metadata": {},
     "output_type": "execute_result"
    },
    {
     "data": {
      "image/png": "[encoded data removed]",
      "text/plain": [
       "<Figure size 432x288 with 1 Axes>"
      ]
     },
     "metadata": {
      "needs_background": "light"
     },
     "output_type": "display_data"
    }
   ],
   "source": [
    "plt.scatter(features[:,0].numpy(),labels.numpy(),1)"
   ]
  },
  {
   "cell_type": "markdown",
   "metadata": {},
   "source": [
    "### 读取数据集"
   ]
  },
  {
   "cell_type": "code",
   "execution_count": 38,
   "metadata": {},
   "outputs": [],
   "source": [
    "def data_iter(batch_size,features,labels):\n",
    "    num_examples=len(features)\n",
    "    indices=list(range(num_examples))\n",
    "    random.shuffle(indices) # 随机打算indices的顺序\n",
    "    # i取值0~num_examples，步长为batch_size\n",
    "    for i in range(0,num_examples,batch_size):\n",
    "        # j每次取出一个batch_size的tensor，最后一次可能不够一个batch_size\n",
    "        j=torch.LongTensor(indices[i:min(i+batch_size,num_examples)])\n",
    "        # yield是一个生成器，index_select在指定维度取j指定的相应项返回新的tensor\n",
    "        yield features.index_select(0,j),labels.index_select(0,j)"
   ]
  },
  {
   "cell_type": "code",
   "execution_count": 39,
   "metadata": {},
   "outputs": [],
   "source": [
    "BATCH_SIZE=10\n",
    "\n",
    "# for X,y in data_iter(batch_size,features,labels):\n",
    "#     print(X,'\\n',y)\n",
    "#     break"
   ]
  },
  {
   "cell_type": "markdown",
   "metadata": {},
   "source": [
    "### 初始化模型参数"
   ]
  },
  {
   "cell_type": "code",
   "execution_count": 40,
   "metadata": {},
   "outputs": [
    {
     "data": {
      "text/plain": [
       "(tensor([[ 0.0159],\n",
       "         [-0.0008]], requires_grad=True),\n",
       " '\\n',\n",
       " tensor([0.], requires_grad=True))"
      ]
     },
     "execution_count": 40,
     "metadata": {},
     "output_type": "execute_result"
    }
   ],
   "source": [
    "# w_learn,b_learn是要通过训练学习的参数,在训练前先随机初始化\n",
    "w_learn=torch.tensor(np.random.normal(0,0.01,(num_inputs,1)),dtype=torch.float32)\n",
    "b_learn=torch.zeros(1,dtype=torch.float32)\n",
    "\n",
    "w_learn.requires_grad_(requires_grad=True)\n",
    "b_learn.requires_grad_(requires_grad=True)\n",
    "\n",
    "w_learn,b_learn"
   ]
  },
  {
   "cell_type": "markdown",
   "metadata": {},
   "source": [
    "### 定义模型\n",
    "定义用来训练参数的训练模型：  \n",
    "\n",
    "$$price=w_{area}*area+w_{age}*age+b$$\n"
   ]
  },
  {
   "cell_type": "code",
   "execution_count": 41,
   "metadata": {},
   "outputs": [],
   "source": [
    "def linearRegression(X,w,b):\n",
    "    return torch.mm(X,w)+b # torch.mm 矩阵相乘"
   ]
  },
  {
   "cell_type": "markdown",
   "metadata": {},
   "source": [
    "### 定义损失函数\n",
    "使用均方误差损失函数：  \n",
    "\n",
    "$$l^{(i)}(w,b)=\\frac{1}{2}(\\hat{y}^{(i)}-y^{(i)})^2$$  \n"
   ]
  },
  {
   "cell_type": "code",
   "execution_count": 42,
   "metadata": {},
   "outputs": [],
   "source": [
    "def squared_loss(y_hat,y):\n",
    "    return (y_hat-y.view(y_hat.size()))**2/2"
   ]
  },
  {
   "cell_type": "markdown",
   "metadata": {},
   "source": [
    "### 定义优化函数\n",
    "小批量随机梯度下降：  \n",
    "\n",
    "$$(w,b)\\leftarrow(w,b)-\\frac{\\eta}{|\\beta|}\\sum_{i\\in\\beta}\\partial_{(w,b)}l^{(i)}(w,b)$$\n"
   ]
  },
  {
   "cell_type": "code",
   "execution_count": 43,
   "metadata": {},
   "outputs": [],
   "source": [
    "def sgd(params,lr,batch_size):\n",
    "    for param in params:\n",
    "        param.data-=lr*param.grad/batch_size # 使用数据操作参数没有梯度跟踪"
   ]
  },
  {
   "cell_type": "markdown",
   "metadata": {},
   "source": [
    "### 训练模型"
   ]
  },
  {
   "cell_type": "code",
   "execution_count": 44,
   "metadata": {},
   "outputs": [
    {
     "name": "stdout",
     "output_type": "stream",
     "text": [
      "epoch: 1,loss: 0.041578203439712524\n",
      "epoch: 2,loss: 0.00015552206605207175\n",
      "epoch: 3,loss: 4.943608655594289e-05\n",
      "epoch: 4,loss: 4.8990626964950934e-05\n",
      "epoch: 5,loss: 4.8957488615997136e-05\n"
     ]
    }
   ],
   "source": [
    "# 超参数初始化\n",
    "LR=0.03\n",
    "NUM_EPOCHS=5\n",
    "\n",
    "# 训练\n",
    "for epoch in range(NUM_EPOCHS):\n",
    "    # X是特征向量，y是标签，尺寸是一个batch_size\n",
    "    for X,y in data_iter(batch_size,features,labels):\n",
    "        y_hat=linearRegression(X,w_learn,b_learn)\n",
    "        loss=squared_loss(y_hat,y).sum()\n",
    "        loss.backward() # 计算批量样本损失的梯度\n",
    "        sgd([w_learn,b_learn],LR,BATCH_SIZE) # 使用小批量随机梯度下降来迭代模型参数\n",
    "        # 重置参数梯度\n",
    "        w_learn.grad.data.zero_()\n",
    "        b_learn.grad.data.zero_()\n",
    "    train_loss=squared_loss(linearRegression(features,w_learn,b_learn),labels)\n",
    "    print(\"epoch: {},loss: {}\".format(epoch+1,train_loss.mean().item()))"
   ]
  },
  {
   "cell_type": "code",
   "execution_count": 45,
   "metadata": {},
   "outputs": [
    {
     "data": {
      "text/plain": [
       "([2, -3.4], tensor([[ 2.0000],\n",
       "         [-3.3999]], requires_grad=True), 4.2, tensor([4.2006], requires_grad=True))"
      ]
     },
     "execution_count": 45,
     "metadata": {},
     "output_type": "execute_result"
    }
   ],
   "source": [
    "w,w_learn,b,b_learn"
   ]
  },
  {
   "cell_type": "markdown",
   "metadata": {},
   "source": [
    "# 线性回归模型使用PyTorch的简洁实现"
   ]
  },
  {
   "cell_type": "code",
   "execution_count": 127,
   "metadata": {},
   "outputs": [],
   "source": [
    "import torch\n",
    "from torch import nn\n",
    "import numpy as np\n",
    "torch.manual_seed(1) #每次初始化相同，使得实验可以复现\n",
    "\n",
    "torch.set_default_tensor_type(\"torch.FloatTensor\")"
   ]
  },
  {
   "cell_type": "markdown",
   "metadata": {},
   "source": [
    "### 生成数据集"
   ]
  },
  {
   "cell_type": "code",
   "execution_count": 128,
   "metadata": {},
   "outputs": [],
   "source": [
    "NUM_INPUTS=2\n",
    "NUM_EXAMPLES=1000\n",
    "\n",
    "W=[2,-3.4]\n",
    "B=4.2\n",
    "\n",
    "features=torch.tensor(np.random.normal(0,1,(NUM_EXAMPELS,NUM_INPUTS)),dtype=torch.float)\n",
    "lables=W[0]*features[:,0]+W[1]*features[:,1]+B\n",
    "lables+=torch.tensor(np.random.normal(0,0.01,size=lables.size()),dtype=torch.float)"
   ]
  },
  {
   "cell_type": "markdown",
   "metadata": {},
   "source": [
    "### 读取数据集"
   ]
  },
  {
   "cell_type": "code",
   "execution_count": 142,
   "metadata": {},
   "outputs": [],
   "source": [
    "import torch.utils.data as Data\n",
    "\n",
    "BATCH_SIZE=10\n",
    "\n",
    "# 组合数据集的特征和标签\n",
    "dataset=Data.TensorDataset(features,labels)\n",
    "\n",
    "# 将数据集放入dataloader\n",
    "data_iter=Data.DataLoader(\n",
    "    dataset=dataset,          # torch TensorDataset format\n",
    "    batch_size=BATCH_SIZE,    # 批量大小\n",
    "    shuffle=True,             # 是否打乱顺利\n",
    "    num_workers=0,             # 多线程\n",
    ")"
   ]
  },
  {
   "cell_type": "code",
   "execution_count": 49,
   "metadata": {
    "collapsed": true
   },
   "outputs": [
    {
     "name": "stdout",
     "output_type": "stream",
     "text": [
      "tensor([[ 2.3894, -0.2153],\n",
      "        [ 1.0667, -0.9417],\n",
      "        [-0.1372, -0.0412],\n",
      "        [ 0.9436,  2.0076],\n",
      "        [-0.8629, -1.1596],\n",
      "        [ 0.9843,  0.5790],\n",
      "        [ 1.0678, -1.6272],\n",
      "        [ 1.1646, -0.9377],\n",
      "        [-0.9371,  0.9893],\n",
      "        [ 1.1103,  1.8677]]) \n",
      " tensor([-0.1295,  3.2085,  8.5177,  3.6092,  3.7359,  6.3555, -0.1464, 15.5801,\n",
      "         5.2434, -2.2822])\n"
     ]
    }
   ],
   "source": [
    "for X,y in data_iter:\n",
    "    print(X,'\\n',y)\n",
    "    break"
   ]
  },
  {
   "cell_type": "markdown",
   "metadata": {},
   "source": [
    "# 定义模型"
   ]
  },
  {
   "cell_type": "code",
   "execution_count": 143,
   "metadata": {},
   "outputs": [],
   "source": [
    "class LinearNet(nn.Module):\n",
    "    def __init__(self,n_feature):\n",
    "        super(LinearNet,self).__init__()  # 调用父类\n",
    "        self.linear=nn.Linear(n_feature,1) # 线性回归模型结果输出一维的预测值，原型torch.nnLinear(in_features,out_features,bias=True)\n",
    "        \n",
    "    def forward(self,x):\n",
    "        y=self.linear(x)\n",
    "        return y\n",
    "\n",
    "net=LinearNet(NUM_INPUTS)\n",
    "# print(net[0])"
   ]
  },
  {
   "cell_type": "markdown",
   "metadata": {},
   "source": [
    "初始化多层网络的3种方法  \n",
    "- 方法1  \n",
    "```python\n",
    "net=nn.Sequential(nn.Linear(NUM_INPUTS,1)\n",
    "                  # 其他层可以在这里添加\n",
    "                 )\n",
    "```\n",
    "- 方法2  \n",
    "```python\n",
    "net=nn.Sequential()\n",
    "net.add_module('linear',nn.Linear(NUM_INPUTS,1))\n",
    "#net.add_module......\n",
    "```\n",
    "- 方法3  \n",
    "```python\n",
    "from collections import OrderedDict\n",
    "net=nn.Sequential(OrderedDict([\n",
    "    ('linear',nn.Linear(NUM_INPUTS,1))\n",
    "    #......\n",
    "]))\n",
    "```"
   ]
  },
  {
   "cell_type": "code",
   "execution_count": 157,
   "metadata": {},
   "outputs": [
    {
     "name": "stdout",
     "output_type": "stream",
     "text": [
      "Sequential(\n",
      "  (0): Linear(in_features=2, out_features=1, bias=True)\n",
      ")\n",
      "Linear(in_features=2, out_features=1, bias=True)\n"
     ]
    }
   ],
   "source": [
    "# method one\n",
    "net = nn.Sequential(\n",
    "    nn.Linear(num_inputs, 1)\n",
    "    # other layers can be added here\n",
    "    )\n",
    "\n",
    "print(net)\n",
    "print(net[0])"
   ]
  },
  {
   "cell_type": "markdown",
   "metadata": {},
   "source": [
    "### 初始化模型参数"
   ]
  },
  {
   "cell_type": "code",
   "execution_count": 158,
   "metadata": {},
   "outputs": [
    {
     "data": {
      "text/plain": [
       "Parameter containing:\n",
       "tensor([0.], requires_grad=True)"
      ]
     },
     "execution_count": 158,
     "metadata": {},
     "output_type": "execute_result"
    }
   ],
   "source": [
    "from torch.nn import init\n",
    "\n",
    "init.normal_(net[0].weight,mean=0.0,std=0.01) #n维的torch.Tensor,正态分布的均值，标准差\n",
    "init.constant_(net[0].bias,val=0.0) #n维的torch.Tensor，用来填充的张量"
   ]
  },
  {
   "cell_type": "code",
   "execution_count": 106,
   "metadata": {},
   "outputs": [
    {
     "name": "stdout",
     "output_type": "stream",
     "text": [
      "Parameter containing:\n",
      "tensor([[-0.0034,  0.0019]], requires_grad=True)\n",
      "Parameter containing:\n",
      "tensor([0.], requires_grad=True)\n"
     ]
    }
   ],
   "source": [
    "for param in net.parameters():\n",
    "    print(param)"
   ]
  },
  {
   "cell_type": "markdown",
   "metadata": {},
   "source": [
    "### 定义损失函数"
   ]
  },
  {
   "cell_type": "code",
   "execution_count": 159,
   "metadata": {},
   "outputs": [],
   "source": [
    "loss=nn.MSELoss()"
   ]
  },
  {
   "cell_type": "markdown",
   "metadata": {},
   "source": [
    "### 定义优化函数"
   ]
  },
  {
   "cell_type": "code",
   "execution_count": 160,
   "metadata": {},
   "outputs": [
    {
     "name": "stdout",
     "output_type": "stream",
     "text": [
      "SGD (\n",
      "Parameter Group 0\n",
      "    dampening: 0\n",
      "    lr: 0.03\n",
      "    momentum: 0\n",
      "    nesterov: False\n",
      "    weight_decay: 0\n",
      ")\n"
     ]
    }
   ],
   "source": [
    "import torch.optim as optim\n",
    "\n",
    "optimizer=optim.SGD(net.parameters(),lr=0.03)\n",
    "print(optimizer)"
   ]
  },
  {
   "cell_type": "markdown",
   "metadata": {},
   "source": [
    "### 训练"
   ]
  },
  {
   "cell_type": "code",
   "execution_count": 161,
   "metadata": {},
   "outputs": [
    {
     "name": "stdout",
     "output_type": "stream",
     "text": [
      "epoch:1,loss:7.436114311218262\n",
      "epoch:2,loss:6.9896955490112305\n",
      "epoch:3,loss:21.924951553344727\n",
      "epoch:4,loss:11.167420387268066\n",
      "epoch:5,loss:14.600977897644043\n",
      "epoch:6,loss:11.437329292297363\n",
      "epoch:7,loss:10.282097816467285\n",
      "epoch:8,loss:11.784852981567383\n",
      "epoch:9,loss:8.335785865783691\n",
      "epoch:10,loss:12.937174797058105\n"
     ]
    }
   ],
   "source": [
    "NUM_EPOCHS=10\n",
    "for epoch in range(NUM_EPOCHS):\n",
    "    for X,y in data_iter:\n",
    "        y_hat=net(X)\n",
    "        loss_f=loss(y_hat,y.view(-1,1))\n",
    "        optimizer.zero_grad()\n",
    "        loss_f.backward()\n",
    "        optimizer.step()\n",
    "        \n",
    "    print(\"epoch:{},loss:{}\".format(epoch+1,loss_f.item()))"
   ]
  },
  {
   "cell_type": "code",
   "execution_count": 156,
   "metadata": {},
   "outputs": [
    {
     "name": "stdout",
     "output_type": "stream",
     "text": [
      "[2, -3.4] tensor([[-0.0845,  0.1310]])\n",
      "4.2 tensor([4.5577])\n"
     ]
    }
   ],
   "source": [
    "dense=net[0]\n",
    "print(W,dense.weight.data)\n",
    "print(B,dense.bias.data)"
   ]
  }
 ],
 "metadata": {
  "kernelspec": {
   "display_name": "Python 3",
   "language": "python",
   "name": "python3"
  },
  "language_info": {
   "codemirror_mode": {
    "name": "ipython",
    "version": 3
   },
   "file_extension": ".py",
   "mimetype": "text/x-python",
   "name": "python",
   "nbconvert_exporter": "python",
   "pygments_lexer": "ipython3",
   "version": "3.7.4"
  }
 },
 "nbformat": 4,
 "nbformat_minor": 2
}
