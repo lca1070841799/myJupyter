{
 "cells": [
  {
   "cell_type": "markdown",
   "metadata": {},
   "source": [
    "# 1 模块导入"
   ]
  },
  {
   "cell_type": "code",
   "execution_count": 2,
   "metadata": {},
   "outputs": [
    {
     "name": "stderr",
     "output_type": "stream",
     "text": [
      "C:\\Users\\LERRY\\Anaconda3\\lib\\site-packages\\statsmodels\\tools\\_testing.py:19: FutureWarning: pandas.util.testing is deprecated. Use the functions in the public API at pandas.testing instead.\n",
      "  import pandas.util.testing as tm\n"
     ]
    }
   ],
   "source": [
    "import numpy as np\n",
    "import pandas as pd\n",
    "%matplotlib inline\n",
    "import matplotlib.pyplot as plt\n",
    "import seaborn as sns\n",
    "import warnings\n",
    "from scipy import stats\n",
    "from scipy.stats import norm, skew\n",
    "from scipy.special import boxcox1p\n",
    "\n",
    "from sklearn.preprocessing import LabelEncoder\n",
    "from sklearn.linear_model import ElasticNet, Lasso, BayesianRidge, LassoLarsIC\n",
    "from sklearn.ensemble import RandomForestRegressor, GradientBoostingRegressor\n",
    "from sklearn.kernel_ridge import KernelRidge\n",
    "from sklearn.pipeline import make_pipeline\n",
    "from sklearn.preprocessing import RobustScaler\n",
    "from sklearn.base import BaseEstimator, TransformerMixin, RegressorMixin, clone\n",
    "from sklearn.model_selection import KFold, cross_val_score, train_test_split\n",
    "from sklearn.metrics import mean_squared_error\n",
    "import xgboost as xgb\n",
    "import lightgbm as lgb"
   ]
  },
  {
   "cell_type": "code",
   "execution_count": 110,
   "metadata": {},
   "outputs": [],
   "source": [
    "from sklearn.preprocessing import MinMaxScaler"
   ]
  },
  {
   "cell_type": "code",
   "execution_count": 1,
   "metadata": {},
   "outputs": [],
   "source": [
    "#不用print即可输出多个变量\n",
    "from IPython.core.interactiveshell import InteractiveShell\n",
    "InteractiveShell.ast_node_interactivity = \"all\""
   ]
  },
  {
   "cell_type": "code",
   "execution_count": 57,
   "metadata": {},
   "outputs": [],
   "source": [
    "#plot中文显示问题\n",
    "plt.rcParams['font.sans-serif'] = ['SimHei']\n",
    "plt.rcParams['axes.unicode_minus'] = False"
   ]
  },
  {
   "cell_type": "markdown",
   "metadata": {},
   "source": [
    "# 2 数据集合并与保存"
   ]
  },
  {
   "cell_type": "markdown",
   "metadata": {},
   "source": [
    "### 2.1 数据导入"
   ]
  },
  {
   "cell_type": "code",
   "execution_count": 3,
   "metadata": {},
   "outputs": [],
   "source": [
    "#定义加载数据集的方法\n",
    "def load_dataset(path,inputfile):\n",
    "    return pd.read_csv(path+inputfile)"
   ]
  },
  {
   "cell_type": "code",
   "execution_count": 4,
   "metadata": {},
   "outputs": [],
   "source": [
    "#数据所在路径\n",
    "path='data/enterprise_profit_forecast/'\n",
    "#导入所有数据集\n",
    "base_train=load_dataset(path,'base-train.csv')\n",
    "base_test=load_dataset(path,'base-test.csv')\n",
    "know_train=load_dataset(path,'knowledge-train.csv')\n",
    "know_test=load_dataset(path,'knowledge-test.csv')\n",
    "money_train=load_dataset(path,'money-train.csv')\n",
    "money_test=load_dataset(path,'money-test.csv')\n",
    "year_train=load_dataset(path,'year-train.csv')\n",
    "year_test=load_dataset(path,'year-test.csv')"
   ]
  },
  {
   "cell_type": "code",
   "execution_count": 5,
   "metadata": {},
   "outputs": [
    {
     "name": "stdout",
     "output_type": "stream",
     "text": [
      "base_train: (17319, 8)\n",
      "know_train: (17319, 4)\n",
      "money_train (51954, 10)\n",
      "year_train (51954, 11)\n",
      "----------------------------------------\n",
      "base_test: (4068, 8)\n",
      "know_test: (4068, 4)\n",
      "money_test (8136, 10)\n",
      "year_test (8136, 11)\n"
     ]
    }
   ],
   "source": [
    "#数据集维度\n",
    "print('base_train:',base_train.shape)\n",
    "print('know_train:',know_train.shape)\n",
    "print('money_train',money_train.shape)\n",
    "print('year_train',year_train.shape)\n",
    "print('-'*40)\n",
    "print('base_test:',base_test.shape)\n",
    "print('know_test:',know_test.shape)\n",
    "print('money_test',money_test.shape)\n",
    "print('year_test',year_test.shape)"
   ]
  },
  {
   "cell_type": "markdown",
   "metadata": {},
   "source": [
    "### 2.2 数据预处理"
   ]
  },
  {
   "cell_type": "markdown",
   "metadata": {},
   "source": [
    "###### 2.2.1 财报money和年报year数据集处理\n",
    "按年份(2015,2016,2017)拆分财报money和年报year数据集，子集的特征作为独立的特征后合并  \n",
    "拆分前查看year特征缺失情况：可看出只有train的年份有缺失值"
   ]
  },
  {
   "cell_type": "code",
   "execution_count": 10,
   "metadata": {
    "collapsed": true
   },
   "outputs": [
    {
     "name": "stdout",
     "output_type": "stream",
     "text": [
      "数据集：year_train\n"
     ]
    },
    {
     "data": {
      "text/plain": [
       "ID           0\n",
       "year       496\n",
       "从业人数       500\n",
       "资产总额       546\n",
       "负债总额       477\n",
       "营业总收入      513\n",
       "主营业务收入     490\n",
       "利润总额       508\n",
       "净利润        548\n",
       "纳税总额       523\n",
       "所有者权益合计    535\n",
       "dtype: int64"
      ]
     },
     "execution_count": 10,
     "metadata": {},
     "output_type": "execute_result"
    },
    {
     "name": "stdout",
     "output_type": "stream",
     "text": [
      "----------------------------------------\n",
      "数据集：money_train\n"
     ]
    },
    {
     "data": {
      "text/plain": [
       "ID               0\n",
       "year           525\n",
       "债权融资额度         480\n",
       "债权融资成本         521\n",
       "股权融资额度         525\n",
       "股权融资成本         530\n",
       "内部融资和贸易融资额度    481\n",
       "内部融资和贸易融资成本    502\n",
       "项目融资和政策融资额度    539\n",
       "项目融资和政策融资成本    526\n",
       "dtype: int64"
      ]
     },
     "execution_count": 10,
     "metadata": {},
     "output_type": "execute_result"
    },
    {
     "name": "stdout",
     "output_type": "stream",
     "text": [
      "----------------------------------------\n",
      "数据集：year_test\n"
     ]
    },
    {
     "data": {
      "text/plain": [
       "ID           0\n",
       "year         0\n",
       "从业人数        71\n",
       "资产总额       100\n",
       "负债总额        87\n",
       "营业总收入       90\n",
       "主营业务收入      77\n",
       "利润总额        69\n",
       "净利润         83\n",
       "纳税总额        79\n",
       "所有者权益合计     93\n",
       "dtype: int64"
      ]
     },
     "execution_count": 10,
     "metadata": {},
     "output_type": "execute_result"
    },
    {
     "name": "stdout",
     "output_type": "stream",
     "text": [
      "----------------------------------------\n",
      "数据集：money_test\n"
     ]
    },
    {
     "data": {
      "text/plain": [
       "ID              0\n",
       "year            0\n",
       "债权融资额度         86\n",
       "债权融资成本         84\n",
       "股权融资额度         88\n",
       "股权融资成本         86\n",
       "内部融资和贸易融资额度    95\n",
       "内部融资和贸易融资成本    73\n",
       "项目融资和政策融资额度    70\n",
       "项目融资和政策融资成本    87\n",
       "dtype: int64"
      ]
     },
     "execution_count": 10,
     "metadata": {},
     "output_type": "execute_result"
    },
    {
     "name": "stdout",
     "output_type": "stream",
     "text": [
      "----------------------------------------\n"
     ]
    }
   ],
   "source": [
    "print('数据集：year_train')\n",
    "year_train.isna().sum()\n",
    "print('-'*40)\n",
    "print('数据集：money_train')\n",
    "money_train.isna().sum()\n",
    "print('-'*40)\n",
    "print('数据集：year_test')\n",
    "year_test.isna().sum()\n",
    "print('-'*40)\n",
    "print('数据集：money_test')\n",
    "money_test.isna().sum()\n",
    "print('-'*40)"
   ]
  },
  {
   "cell_type": "markdown",
   "metadata": {},
   "source": [
    "###### 2.1.2 根据情况精确填充缺失年份"
   ]
  },
  {
   "cell_type": "code",
   "execution_count": 12,
   "metadata": {},
   "outputs": [],
   "source": [
    "#找到缺失年份的ID\n",
    "def findIdLackOfYear(df,col_id='ID',col_lack='year'):\n",
    "    return df[col_id][df[col_lack].isna()].values\n",
    "#通过ID填补缺失的年份\n",
    "def fillYearById(df,na_year_id,col_id='ID',col_lack='year'):\n",
    "    res=pd.DataFrame(columns=df.columns.values)\n",
    "    for idx in na_year_id:\n",
    "        temp=df[df[col_id].isin([idx])]\n",
    "        #若年份只缺失了一个，则根据另外两个反推\n",
    "        if temp[col_lack].isna().sum()==1:\n",
    "            if not temp[col_lack].isin([2015]).any():\n",
    "                temp[col_lack][temp[col_lack].isna()]=2015            \n",
    "            elif not temp[col_lack].isin([2016]).any():\n",
    "                temp[col_lack][temp[col_lack].isna()]=2016\n",
    "            elif not temp[col_lack].isin([2017]).any():\n",
    "                temp[col_lack][temp[col_lack].isna()]=2017\n",
    "        res=res.append(temp)\n",
    "    na_id=findIdLackOfYear(res)\n",
    "    res=res[~res[col_id].isin(na_id)]\n",
    "    return res\n",
    "#合并到year数据集\n",
    "def getFilledYear(df,res,col_id='ID'):\n",
    "    return df[~df[col_id].isin(res[col_id].values)].append(res)\n",
    "#精确填充ID缺失的年份\n",
    "def fillAndMerge(df,col_id='ID',col_lack='year'):\n",
    "    na_id=findIdLackOfYear(df)\n",
    "    fill=fillYearById(df,na_id)\n",
    "    return getFilledYear(df,fill)"
   ]
  },
  {
   "cell_type": "code",
   "execution_count": 13,
   "metadata": {
    "collapsed": true
   },
   "outputs": [
    {
     "name": "stderr",
     "output_type": "stream",
     "text": [
      "C:\\Users\\LERRY\\Anaconda3\\lib\\site-packages\\ipykernel_launcher.py:12: SettingWithCopyWarning: \n",
      "A value is trying to be set on a copy of a slice from a DataFrame\n",
      "\n",
      "See the caveats in the documentation: https://pandas.pydata.org/pandas-docs/stable/user_guide/indexing.html#returning-a-view-versus-a-copy\n",
      "  if sys.path[0] == '':\n",
      "C:\\Users\\LERRY\\Anaconda3\\lib\\site-packages\\pandas\\core\\generic.py:8765: SettingWithCopyWarning: \n",
      "A value is trying to be set on a copy of a slice from a DataFrame\n",
      "\n",
      "See the caveats in the documentation: https://pandas.pydata.org/pandas-docs/stable/user_guide/indexing.html#returning-a-view-versus-a-copy\n",
      "  self._update_inplace(new_data)\n",
      "C:\\Users\\LERRY\\Anaconda3\\lib\\site-packages\\ipykernel_launcher.py:14: SettingWithCopyWarning: \n",
      "A value is trying to be set on a copy of a slice from a DataFrame\n",
      "\n",
      "See the caveats in the documentation: https://pandas.pydata.org/pandas-docs/stable/user_guide/indexing.html#returning-a-view-versus-a-copy\n",
      "  \n",
      "C:\\Users\\LERRY\\Anaconda3\\lib\\site-packages\\ipykernel_launcher.py:16: SettingWithCopyWarning: \n",
      "A value is trying to be set on a copy of a slice from a DataFrame\n",
      "\n",
      "See the caveats in the documentation: https://pandas.pydata.org/pandas-docs/stable/user_guide/indexing.html#returning-a-view-versus-a-copy\n",
      "  app.launch_new_instance()\n"
     ]
    }
   ],
   "source": [
    "#填充train的年份缺失值\n",
    "year_train212=fillAndMerge(year_train)\n",
    "money_train212=fillAndMerge(money_train)"
   ]
  },
  {
   "cell_type": "code",
   "execution_count": 14,
   "metadata": {
    "scrolled": true
   },
   "outputs": [
    {
     "name": "stdout",
     "output_type": "stream",
     "text": [
      "year_train (51954, 11)\n",
      "year_train311 (51954, 11)\n",
      "money_train (51954, 10)\n",
      "money_train311 (51954, 10)\n"
     ]
    }
   ],
   "source": [
    "#填充后维度和原数据集是否一致\n",
    "print('year_train',year_train.shape)\n",
    "print('year_train212',year_train212.shape)\n",
    "print('money_train',money_train.shape)\n",
    "print('money_train212',money_train212.shape)"
   ]
  },
  {
   "cell_type": "markdown",
   "metadata": {},
   "source": [
    "###### 2.1.3 填充后删除year特征仍有缺失值的样本\n",
    "可看出year特征扔含有少量缺失值，原因是该部分样本每个都缺失了不止1个year特征，此时无法精确填充，直接删除该部分样本"
   ]
  },
  {
   "cell_type": "code",
   "execution_count": 30,
   "metadata": {},
   "outputs": [
    {
     "name": "stdout",
     "output_type": "stream",
     "text": [
      "数据集：year_train311 (51954, 11)\n"
     ]
    },
    {
     "data": {
      "text/plain": [
       "ID           0\n",
       "year        12\n",
       "从业人数       500\n",
       "资产总额       546\n",
       "负债总额       477\n",
       "营业总收入      513\n",
       "主营业务收入     490\n",
       "利润总额       508\n",
       "净利润        548\n",
       "纳税总额       523\n",
       "所有者权益合计    535\n",
       "dtype: int64"
      ]
     },
     "execution_count": 30,
     "metadata": {},
     "output_type": "execute_result"
    },
    {
     "name": "stdout",
     "output_type": "stream",
     "text": [
      "----------------------------------------\n",
      "数据集：money_train311 (51954, 10)\n"
     ]
    },
    {
     "data": {
      "text/plain": [
       "ID               0\n",
       "year             8\n",
       "债权融资额度         480\n",
       "债权融资成本         521\n",
       "股权融资额度         525\n",
       "股权融资成本         530\n",
       "内部融资和贸易融资额度    481\n",
       "内部融资和贸易融资成本    502\n",
       "项目融资和政策融资额度    539\n",
       "项目融资和政策融资成本    526\n",
       "dtype: int64"
      ]
     },
     "execution_count": 30,
     "metadata": {},
     "output_type": "execute_result"
    }
   ],
   "source": [
    "#填充后的缺失值统计\n",
    "print('数据集：year_train212',year_train212.shape)\n",
    "year_train212.isna().sum()\n",
    "print('-'*40)\n",
    "print('数据集：money_train212',money_train212.shape)\n",
    "money_train212.isna().sum()"
   ]
  },
  {
   "cell_type": "code",
   "execution_count": 16,
   "metadata": {},
   "outputs": [],
   "source": [
    "#删除yeart特征含有缺失值的样本\n",
    "year_train213=year_train212.dropna(subset=['year'])\n",
    "money_train213=money_train212.dropna(subset=['year'])"
   ]
  },
  {
   "cell_type": "code",
   "execution_count": 19,
   "metadata": {
    "collapsed": true
   },
   "outputs": [
    {
     "name": "stdout",
     "output_type": "stream",
     "text": [
      "数据集：year_train312 (51942, 11)\n"
     ]
    },
    {
     "data": {
      "text/plain": [
       "ID           0\n",
       "year         0\n",
       "从业人数       500\n",
       "资产总额       546\n",
       "负债总额       476\n",
       "营业总收入      513\n",
       "主营业务收入     490\n",
       "利润总额       508\n",
       "净利润        548\n",
       "纳税总额       522\n",
       "所有者权益合计    534\n",
       "dtype: int64"
      ]
     },
     "execution_count": 19,
     "metadata": {},
     "output_type": "execute_result"
    },
    {
     "name": "stdout",
     "output_type": "stream",
     "text": [
      "----------------------------------------\n",
      "数据集：money_train312 (51946, 10)\n"
     ]
    },
    {
     "data": {
      "text/plain": [
       "ID               0\n",
       "year             0\n",
       "债权融资额度         480\n",
       "债权融资成本         521\n",
       "股权融资额度         525\n",
       "股权融资成本         530\n",
       "内部融资和贸易融资额度    481\n",
       "内部融资和贸易融资成本    502\n",
       "项目融资和政策融资额度    539\n",
       "项目融资和政策融资成本    526\n",
       "dtype: int64"
      ]
     },
     "execution_count": 19,
     "metadata": {},
     "output_type": "execute_result"
    }
   ],
   "source": [
    "#填充后的缺失值统计\n",
    "print('数据集：year_train213',year_train213.shape)\n",
    "year_train213.isna().sum()\n",
    "print('-'*40)\n",
    "print('数据集：money_train213',money_train213.shape)\n",
    "money_train213.isna().sum()"
   ]
  },
  {
   "cell_type": "markdown",
   "metadata": {},
   "source": [
    "###### 2.1.4 拆分数据集\n",
    "按year特征(2015,2016,2017)拆分财报money和年报year数据集"
   ]
  },
  {
   "cell_type": "code",
   "execution_count": 20,
   "metadata": {},
   "outputs": [],
   "source": [
    "#定义拆分数据集的方法\n",
    "def split_dataset_by(df,col='year'):\n",
    "    \"\"\"\n",
    "    df：要处理的数据集的dataframe\n",
    "    col：要按哪一列处理\n",
    "    return:拆分后的数据集dataframe组成的列表\n",
    "    \"\"\"\n",
    "    split_df=[]\n",
    "    col_values=np.sort(df[col].value_counts().index.values)#col这一列的唯一值\n",
    "    columns=df.columns.values.tolist()#df所有列名\n",
    "    columns.remove(col)#删除掉要拆分的这一列的名称col\n",
    "    #循环拆分数据集\n",
    "    for col_value in col_values:\n",
    "        col_value=int(col_value)\n",
    "        locals()[col+str(col_value)]=df[df[col].isin([col_value])].drop([col],axis=1)\n",
    "        new_columns=['ID']\n",
    "        for column in columns:\n",
    "            if column=='ID':\n",
    "                continue\n",
    "            new_columns.append(column+str(col_value))\n",
    "        locals()[col+str(col_value)].columns=new_columns#拆分出来的数据集重新命名它的列名称\n",
    "        split_df.append(locals()[col+str(col_value)])#处理完成的数据集添加到列表中\n",
    "    return split_df"
   ]
  },
  {
   "cell_type": "code",
   "execution_count": 21,
   "metadata": {},
   "outputs": [],
   "source": [
    "#按年份拆分money_train,year_train,money_test,year-test四个数据集\n",
    "split_money_train=split_dataset_by(money_train213)\n",
    "split_year_train=split_dataset_by(year_train213)\n",
    "split_money_test=split_dataset_by(money_test)\n",
    "split_year_test=split_dataset_by(year_test)"
   ]
  },
  {
   "cell_type": "markdown",
   "metadata": {},
   "source": [
    "###### 2.1.5 合并拆分数据集"
   ]
  },
  {
   "cell_type": "code",
   "execution_count": 22,
   "metadata": {},
   "outputs": [],
   "source": [
    "#定义合并数据集的方法\n",
    "def merge_dataset(dfs,col='ID'):\n",
    "    \"\"\"\n",
    "    df：要处理的数据集的dataframe\n",
    "    col：要按哪一列处理\n",
    "    return:合并后的数据集dataframe\n",
    "    \"\"\"\n",
    "    df_res=pd.DataFrame()\n",
    "    for df in dfs:\n",
    "        if len(df_res)==0:\n",
    "            df_res=df\n",
    "        else:\n",
    "            df_res=pd.merge(df_res,df,on=col,how='outer')#按col列合并，outer表示保留两个表的信息\n",
    "    return df_res"
   ]
  },
  {
   "cell_type": "code",
   "execution_count": 23,
   "metadata": {},
   "outputs": [],
   "source": [
    "#分别合并money_train,year_train拆分后的数据集\n",
    "money_train_res=merge_dataset(split_money_train)\n",
    "year_train_res=merge_dataset(split_year_train)\n",
    "money_test_res=merge_dataset(split_money_test)\n",
    "year_test_res=merge_dataset(split_year_test)"
   ]
  },
  {
   "cell_type": "code",
   "execution_count": 25,
   "metadata": {},
   "outputs": [
    {
     "name": "stdout",
     "output_type": "stream",
     "text": [
      "数据集：money_train_res (17318, 25)\n",
      "数据集：year_train_res (17318, 28)\n",
      "数据集：money_test_res (4068, 17)\n",
      "数据集：year_test_res (4068, 19)\n"
     ]
    }
   ],
   "source": [
    "print('数据集：money_train_res',money_train_res.shape)\n",
    "print('数据集：year_train_res',year_train_res.shape)\n",
    "print('数据集：money_test_res',money_test_res.shape)\n",
    "print('数据集：year_test_res',year_test_res.shape)"
   ]
  },
  {
   "cell_type": "code",
   "execution_count": 27,
   "metadata": {},
   "outputs": [],
   "source": [
    "#合并所有数据集为train,test\n",
    "train=merge_dataset([base_train,know_train,money_train_res,year_train_res])\n",
    "test=merge_dataset([base_test,know_test,money_test_res,year_test_res])"
   ]
  },
  {
   "cell_type": "code",
   "execution_count": 41,
   "metadata": {},
   "outputs": [],
   "source": [
    "#删除train中除了'利润2017'以外其他2017年的特征\n",
    "#train.columns\n",
    "#test.columns\n",
    "cols215=test.columns.values.tolist()\n",
    "cols215.append('净利润2017')\n",
    "train215=train.loc[:,cols215].copy()"
   ]
  },
  {
   "cell_type": "markdown",
   "metadata": {},
   "source": [
    "###### 2.1.6 保存总数据集"
   ]
  },
  {
   "cell_type": "code",
   "execution_count": 42,
   "metadata": {
    "collapsed": true
   },
   "outputs": [
    {
     "data": {
      "text/plain": [
       "(17319, 46)"
      ]
     },
     "execution_count": 42,
     "metadata": {},
     "output_type": "execute_result"
    },
    {
     "data": {
      "text/plain": [
       "(4068, 45)"
      ]
     },
     "execution_count": 42,
     "metadata": {},
     "output_type": "execute_result"
    },
    {
     "data": {
      "text/html": [
       "<div>\n",
       "<style scoped>\n",
       "    .dataframe tbody tr th:only-of-type {\n",
       "        vertical-align: middle;\n",
       "    }\n",
       "\n",
       "    .dataframe tbody tr th {\n",
       "        vertical-align: top;\n",
       "    }\n",
       "\n",
       "    .dataframe thead th {\n",
       "        text-align: right;\n",
       "    }\n",
       "</style>\n",
       "<table border=\"1\" class=\"dataframe\">\n",
       "  <thead>\n",
       "    <tr style=\"text-align: right;\">\n",
       "      <th></th>\n",
       "      <th>ID</th>\n",
       "      <th>注册时间</th>\n",
       "      <th>注册资本</th>\n",
       "      <th>行业</th>\n",
       "      <th>区域</th>\n",
       "      <th>企业类型</th>\n",
       "      <th>控制人类型</th>\n",
       "      <th>控制人持股比例</th>\n",
       "      <th>专利</th>\n",
       "      <th>商标</th>\n",
       "      <th>...</th>\n",
       "      <th>从业人数2016</th>\n",
       "      <th>资产总额2016</th>\n",
       "      <th>负债总额2016</th>\n",
       "      <th>营业总收入2016</th>\n",
       "      <th>主营业务收入2016</th>\n",
       "      <th>利润总额2016</th>\n",
       "      <th>净利润2016</th>\n",
       "      <th>纳税总额2016</th>\n",
       "      <th>所有者权益合计2016</th>\n",
       "      <th>净利润2017</th>\n",
       "    </tr>\n",
       "  </thead>\n",
       "  <tbody>\n",
       "    <tr>\n",
       "      <th>0</th>\n",
       "      <td>5981446</td>\n",
       "      <td>2008.0</td>\n",
       "      <td>1190.0</td>\n",
       "      <td>服务业</td>\n",
       "      <td>湖南</td>\n",
       "      <td>农民专业合作社</td>\n",
       "      <td>自然人</td>\n",
       "      <td>0.91</td>\n",
       "      <td>1.0</td>\n",
       "      <td>NaN</td>\n",
       "      <td>...</td>\n",
       "      <td>631.0</td>\n",
       "      <td>47600.0</td>\n",
       "      <td>69615.0</td>\n",
       "      <td>52360.0</td>\n",
       "      <td>20944.0</td>\n",
       "      <td>15708.0</td>\n",
       "      <td>-5236.0</td>\n",
       "      <td>0.0</td>\n",
       "      <td>-22015.0</td>\n",
       "      <td>8353.8</td>\n",
       "    </tr>\n",
       "    <tr>\n",
       "      <th>1</th>\n",
       "      <td>5993858</td>\n",
       "      <td>2008.0</td>\n",
       "      <td>6670.0</td>\n",
       "      <td>零售业</td>\n",
       "      <td>湖南</td>\n",
       "      <td>集体所有制企业</td>\n",
       "      <td>企业法人</td>\n",
       "      <td>0.91</td>\n",
       "      <td>0.0</td>\n",
       "      <td>0.0</td>\n",
       "      <td>...</td>\n",
       "      <td>353.0</td>\n",
       "      <td>106720.0</td>\n",
       "      <td>150075.0</td>\n",
       "      <td>74704.0</td>\n",
       "      <td>37352.0</td>\n",
       "      <td>29881.6</td>\n",
       "      <td>-7470.4</td>\n",
       "      <td>0.0</td>\n",
       "      <td>-43355.0</td>\n",
       "      <td>-31215.6</td>\n",
       "    </tr>\n",
       "    <tr>\n",
       "      <th>2</th>\n",
       "      <td>5990025</td>\n",
       "      <td>2008.0</td>\n",
       "      <td>9100.0</td>\n",
       "      <td>社区服务</td>\n",
       "      <td>湖北</td>\n",
       "      <td>农民专业合作社</td>\n",
       "      <td>NaN</td>\n",
       "      <td>0.51</td>\n",
       "      <td>1.0</td>\n",
       "      <td>0.0</td>\n",
       "      <td>...</td>\n",
       "      <td>84.0</td>\n",
       "      <td>291200.0</td>\n",
       "      <td>282100.0</td>\n",
       "      <td>145600.0</td>\n",
       "      <td>87360.0</td>\n",
       "      <td>29120.0</td>\n",
       "      <td>43680.0</td>\n",
       "      <td>87360.0</td>\n",
       "      <td>9100.0</td>\n",
       "      <td>22932.0</td>\n",
       "    </tr>\n",
       "    <tr>\n",
       "      <th>3</th>\n",
       "      <td>5982670</td>\n",
       "      <td>2002.0</td>\n",
       "      <td>5870.0</td>\n",
       "      <td>商业服务业</td>\n",
       "      <td>广东</td>\n",
       "      <td>股份有限公司</td>\n",
       "      <td>企业法人</td>\n",
       "      <td>0.63</td>\n",
       "      <td>1.0</td>\n",
       "      <td>0.0</td>\n",
       "      <td>...</td>\n",
       "      <td>965.0</td>\n",
       "      <td>410900.0</td>\n",
       "      <td>607545.0</td>\n",
       "      <td>1150520.0</td>\n",
       "      <td>920416.0</td>\n",
       "      <td>115052.0</td>\n",
       "      <td>230104.0</td>\n",
       "      <td>230104.0</td>\n",
       "      <td>-196645.0</td>\n",
       "      <td>162012.0</td>\n",
       "    </tr>\n",
       "    <tr>\n",
       "      <th>4</th>\n",
       "      <td>5990751</td>\n",
       "      <td>2005.0</td>\n",
       "      <td>9850.0</td>\n",
       "      <td>工业</td>\n",
       "      <td>江西</td>\n",
       "      <td>集体所有制企业</td>\n",
       "      <td>企业法人</td>\n",
       "      <td>0.58</td>\n",
       "      <td>0.0</td>\n",
       "      <td>0.0</td>\n",
       "      <td>...</td>\n",
       "      <td>213.0</td>\n",
       "      <td>325050.0</td>\n",
       "      <td>472800.0</td>\n",
       "      <td>1137675.0</td>\n",
       "      <td>682605.0</td>\n",
       "      <td>341302.5</td>\n",
       "      <td>341302.5</td>\n",
       "      <td>455070.0</td>\n",
       "      <td>-147750.0</td>\n",
       "      <td>302592.0</td>\n",
       "    </tr>\n",
       "  </tbody>\n",
       "</table>\n",
       "<p>5 rows × 46 columns</p>\n",
       "</div>"
      ],
      "text/plain": [
       "        ID    注册时间    注册资本     行业  区域     企业类型 控制人类型  控制人持股比例   专利   商标  ...  \\\n",
       "0  5981446  2008.0  1190.0    服务业  湖南  农民专业合作社   自然人     0.91  1.0  NaN  ...   \n",
       "1  5993858  2008.0  6670.0    零售业  湖南  集体所有制企业  企业法人     0.91  0.0  0.0  ...   \n",
       "2  5990025  2008.0  9100.0   社区服务  湖北  农民专业合作社   NaN     0.51  1.0  0.0  ...   \n",
       "3  5982670  2002.0  5870.0  商业服务业  广东   股份有限公司  企业法人     0.63  1.0  0.0  ...   \n",
       "4  5990751  2005.0  9850.0     工业  江西  集体所有制企业  企业法人     0.58  0.0  0.0  ...   \n",
       "\n",
       "   从业人数2016  资产总额2016  负债总额2016  营业总收入2016  主营业务收入2016  利润总额2016   净利润2016  \\\n",
       "0     631.0   47600.0   69615.0    52360.0     20944.0   15708.0   -5236.0   \n",
       "1     353.0  106720.0  150075.0    74704.0     37352.0   29881.6   -7470.4   \n",
       "2      84.0  291200.0  282100.0   145600.0     87360.0   29120.0   43680.0   \n",
       "3     965.0  410900.0  607545.0  1150520.0    920416.0  115052.0  230104.0   \n",
       "4     213.0  325050.0  472800.0  1137675.0    682605.0  341302.5  341302.5   \n",
       "\n",
       "   纳税总额2016  所有者权益合计2016   净利润2017  \n",
       "0       0.0     -22015.0    8353.8  \n",
       "1       0.0     -43355.0  -31215.6  \n",
       "2   87360.0       9100.0   22932.0  \n",
       "3  230104.0    -196645.0  162012.0  \n",
       "4  455070.0    -147750.0  302592.0  \n",
       "\n",
       "[5 rows x 46 columns]"
      ]
     },
     "execution_count": 42,
     "metadata": {},
     "output_type": "execute_result"
    },
    {
     "data": {
      "text/html": [
       "<div>\n",
       "<style scoped>\n",
       "    .dataframe tbody tr th:only-of-type {\n",
       "        vertical-align: middle;\n",
       "    }\n",
       "\n",
       "    .dataframe tbody tr th {\n",
       "        vertical-align: top;\n",
       "    }\n",
       "\n",
       "    .dataframe thead th {\n",
       "        text-align: right;\n",
       "    }\n",
       "</style>\n",
       "<table border=\"1\" class=\"dataframe\">\n",
       "  <thead>\n",
       "    <tr style=\"text-align: right;\">\n",
       "      <th></th>\n",
       "      <th>ID</th>\n",
       "      <th>注册时间</th>\n",
       "      <th>注册资本</th>\n",
       "      <th>行业</th>\n",
       "      <th>区域</th>\n",
       "      <th>企业类型</th>\n",
       "      <th>控制人类型</th>\n",
       "      <th>控制人持股比例</th>\n",
       "      <th>专利</th>\n",
       "      <th>商标</th>\n",
       "      <th>...</th>\n",
       "      <th>所有者权益合计2015</th>\n",
       "      <th>从业人数2016</th>\n",
       "      <th>资产总额2016</th>\n",
       "      <th>负债总额2016</th>\n",
       "      <th>营业总收入2016</th>\n",
       "      <th>主营业务收入2016</th>\n",
       "      <th>利润总额2016</th>\n",
       "      <th>净利润2016</th>\n",
       "      <th>纳税总额2016</th>\n",
       "      <th>所有者权益合计2016</th>\n",
       "    </tr>\n",
       "  </thead>\n",
       "  <tbody>\n",
       "    <tr>\n",
       "      <th>0</th>\n",
       "      <td>5992473</td>\n",
       "      <td>2010.0</td>\n",
       "      <td>8670.0</td>\n",
       "      <td>交通运输业</td>\n",
       "      <td>广东</td>\n",
       "      <td>有限责任公司</td>\n",
       "      <td>企业法人</td>\n",
       "      <td>0.54</td>\n",
       "      <td>1.0</td>\n",
       "      <td>1.0</td>\n",
       "      <td>...</td>\n",
       "      <td>-8670.0</td>\n",
       "      <td>223.0</td>\n",
       "      <td>52020.0</td>\n",
       "      <td>86700.0</td>\n",
       "      <td>20808.0</td>\n",
       "      <td>12484.8</td>\n",
       "      <td>6242.4</td>\n",
       "      <td>2080.8</td>\n",
       "      <td>4161.6</td>\n",
       "      <td>-34680.0</td>\n",
       "    </tr>\n",
       "    <tr>\n",
       "      <th>1</th>\n",
       "      <td>5999375</td>\n",
       "      <td>2010.0</td>\n",
       "      <td>3400.0</td>\n",
       "      <td>服务业</td>\n",
       "      <td>广东</td>\n",
       "      <td>集体所有制企业</td>\n",
       "      <td>企业法人</td>\n",
       "      <td>0.90</td>\n",
       "      <td>0.0</td>\n",
       "      <td>1.0</td>\n",
       "      <td>...</td>\n",
       "      <td>18700.0</td>\n",
       "      <td>518.0</td>\n",
       "      <td>61200.0</td>\n",
       "      <td>86700.0</td>\n",
       "      <td>48960.0</td>\n",
       "      <td>39168.0</td>\n",
       "      <td>24480.0</td>\n",
       "      <td>-4896.0</td>\n",
       "      <td>0.0</td>\n",
       "      <td>-25500.0</td>\n",
       "    </tr>\n",
       "    <tr>\n",
       "      <th>2</th>\n",
       "      <td>5981121</td>\n",
       "      <td>2014.0</td>\n",
       "      <td>3350.0</td>\n",
       "      <td>商业服务业</td>\n",
       "      <td>福建</td>\n",
       "      <td>有限责任公司</td>\n",
       "      <td>企业法人</td>\n",
       "      <td>0.51</td>\n",
       "      <td>1.0</td>\n",
       "      <td>1.0</td>\n",
       "      <td>...</td>\n",
       "      <td>10050.0</td>\n",
       "      <td>931.0</td>\n",
       "      <td>33500.0</td>\n",
       "      <td>60300.0</td>\n",
       "      <td>123950.0</td>\n",
       "      <td>74370.0</td>\n",
       "      <td>24790.0</td>\n",
       "      <td>12395.0</td>\n",
       "      <td>49580.0</td>\n",
       "      <td>-26800.0</td>\n",
       "    </tr>\n",
       "    <tr>\n",
       "      <th>3</th>\n",
       "      <td>5978928</td>\n",
       "      <td>2012.0</td>\n",
       "      <td>7690.0</td>\n",
       "      <td>工业</td>\n",
       "      <td>广西</td>\n",
       "      <td>股份有限公司</td>\n",
       "      <td>企业法人</td>\n",
       "      <td>0.81</td>\n",
       "      <td>0.0</td>\n",
       "      <td>0.0</td>\n",
       "      <td>...</td>\n",
       "      <td>-46140.0</td>\n",
       "      <td>749.0</td>\n",
       "      <td>61520.0</td>\n",
       "      <td>107660.0</td>\n",
       "      <td>307600.0</td>\n",
       "      <td>153800.0</td>\n",
       "      <td>92280.0</td>\n",
       "      <td>-30760.0</td>\n",
       "      <td>0.0</td>\n",
       "      <td>-46140.0</td>\n",
       "    </tr>\n",
       "    <tr>\n",
       "      <th>4</th>\n",
       "      <td>5979981</td>\n",
       "      <td>2013.0</td>\n",
       "      <td>4850.0</td>\n",
       "      <td>交通运输业</td>\n",
       "      <td>广西</td>\n",
       "      <td>股份有限公司</td>\n",
       "      <td>企业法人</td>\n",
       "      <td>0.61</td>\n",
       "      <td>1.0</td>\n",
       "      <td>0.0</td>\n",
       "      <td>...</td>\n",
       "      <td>4850.0</td>\n",
       "      <td>135.0</td>\n",
       "      <td>72750.0</td>\n",
       "      <td>33950.0</td>\n",
       "      <td>189150.0</td>\n",
       "      <td>113490.0</td>\n",
       "      <td>75660.0</td>\n",
       "      <td>75660.0</td>\n",
       "      <td>113490.0</td>\n",
       "      <td>38800.0</td>\n",
       "    </tr>\n",
       "  </tbody>\n",
       "</table>\n",
       "<p>5 rows × 45 columns</p>\n",
       "</div>"
      ],
      "text/plain": [
       "        ID    注册时间    注册资本     行业  区域     企业类型 控制人类型  控制人持股比例   专利   商标  ...  \\\n",
       "0  5992473  2010.0  8670.0  交通运输业  广东   有限责任公司  企业法人     0.54  1.0  1.0  ...   \n",
       "1  5999375  2010.0  3400.0    服务业  广东  集体所有制企业  企业法人     0.90  0.0  1.0  ...   \n",
       "2  5981121  2014.0  3350.0  商业服务业  福建   有限责任公司  企业法人     0.51  1.0  1.0  ...   \n",
       "3  5978928  2012.0  7690.0     工业  广西   股份有限公司  企业法人     0.81  0.0  0.0  ...   \n",
       "4  5979981  2013.0  4850.0  交通运输业  广西   股份有限公司  企业法人     0.61  1.0  0.0  ...   \n",
       "\n",
       "   所有者权益合计2015  从业人数2016  资产总额2016  负债总额2016  营业总收入2016  主营业务收入2016  利润总额2016  \\\n",
       "0      -8670.0     223.0   52020.0   86700.0    20808.0     12484.8    6242.4   \n",
       "1      18700.0     518.0   61200.0   86700.0    48960.0     39168.0   24480.0   \n",
       "2      10050.0     931.0   33500.0   60300.0   123950.0     74370.0   24790.0   \n",
       "3     -46140.0     749.0   61520.0  107660.0   307600.0    153800.0   92280.0   \n",
       "4       4850.0     135.0   72750.0   33950.0   189150.0    113490.0   75660.0   \n",
       "\n",
       "   净利润2016  纳税总额2016  所有者权益合计2016  \n",
       "0   2080.8    4161.6     -34680.0  \n",
       "1  -4896.0       0.0     -25500.0  \n",
       "2  12395.0   49580.0     -26800.0  \n",
       "3 -30760.0       0.0     -46140.0  \n",
       "4  75660.0  113490.0      38800.0  \n",
       "\n",
       "[5 rows x 45 columns]"
      ]
     },
     "execution_count": 42,
     "metadata": {},
     "output_type": "execute_result"
    }
   ],
   "source": [
    "#查看总数据集\n",
    "train216.shape\n",
    "test.shape\n",
    "train216.head()\n",
    "test.head()"
   ]
  },
  {
   "cell_type": "code",
   "execution_count": 43,
   "metadata": {},
   "outputs": [],
   "source": [
    "train216=train214\n",
    "test216=test"
   ]
  },
  {
   "cell_type": "code",
   "execution_count": 44,
   "metadata": {},
   "outputs": [],
   "source": [
    "path216='data/enterprise_profit_forecast/all/'\n",
    "train216.to_csv(path216+'train216.txt',index=False)\n",
    "test216.to_csv(path216+'test216.txt',index=False)"
   ]
  },
  {
   "cell_type": "markdown",
   "metadata": {},
   "source": [
    "# 3 总数据集导入与预处理"
   ]
  },
  {
   "cell_type": "markdown",
   "metadata": {},
   "source": [
    "### 3.1 数据导入"
   ]
  },
  {
   "cell_type": "code",
   "execution_count": 45,
   "metadata": {},
   "outputs": [],
   "source": [
    "path31='data/enterprise_profit_forecast/all/'\n",
    "train31=pd.read_csv(path31+'train216.txt')\n",
    "test31=pd.read_csv(path31+'test216.txt')"
   ]
  },
  {
   "cell_type": "code",
   "execution_count": 46,
   "metadata": {
    "collapsed": true
   },
   "outputs": [
    {
     "data": {
      "text/html": [
       "<div>\n",
       "<style scoped>\n",
       "    .dataframe tbody tr th:only-of-type {\n",
       "        vertical-align: middle;\n",
       "    }\n",
       "\n",
       "    .dataframe tbody tr th {\n",
       "        vertical-align: top;\n",
       "    }\n",
       "\n",
       "    .dataframe thead th {\n",
       "        text-align: right;\n",
       "    }\n",
       "</style>\n",
       "<table border=\"1\" class=\"dataframe\">\n",
       "  <thead>\n",
       "    <tr style=\"text-align: right;\">\n",
       "      <th></th>\n",
       "      <th>ID</th>\n",
       "      <th>注册时间</th>\n",
       "      <th>注册资本</th>\n",
       "      <th>行业</th>\n",
       "      <th>区域</th>\n",
       "      <th>企业类型</th>\n",
       "      <th>控制人类型</th>\n",
       "      <th>控制人持股比例</th>\n",
       "      <th>专利</th>\n",
       "      <th>商标</th>\n",
       "      <th>...</th>\n",
       "      <th>从业人数2016</th>\n",
       "      <th>资产总额2016</th>\n",
       "      <th>负债总额2016</th>\n",
       "      <th>营业总收入2016</th>\n",
       "      <th>主营业务收入2016</th>\n",
       "      <th>利润总额2016</th>\n",
       "      <th>净利润2016</th>\n",
       "      <th>纳税总额2016</th>\n",
       "      <th>所有者权益合计2016</th>\n",
       "      <th>净利润2017</th>\n",
       "    </tr>\n",
       "  </thead>\n",
       "  <tbody>\n",
       "    <tr>\n",
       "      <th>0</th>\n",
       "      <td>5981446</td>\n",
       "      <td>2008.0</td>\n",
       "      <td>1190.0</td>\n",
       "      <td>服务业</td>\n",
       "      <td>湖南</td>\n",
       "      <td>农民专业合作社</td>\n",
       "      <td>自然人</td>\n",
       "      <td>0.91</td>\n",
       "      <td>1.0</td>\n",
       "      <td>NaN</td>\n",
       "      <td>...</td>\n",
       "      <td>631.0</td>\n",
       "      <td>47600.0</td>\n",
       "      <td>69615.0</td>\n",
       "      <td>52360.0</td>\n",
       "      <td>20944.0</td>\n",
       "      <td>15708.0</td>\n",
       "      <td>-5236.0</td>\n",
       "      <td>0.0</td>\n",
       "      <td>-22015.0</td>\n",
       "      <td>8353.8</td>\n",
       "    </tr>\n",
       "    <tr>\n",
       "      <th>1</th>\n",
       "      <td>5993858</td>\n",
       "      <td>2008.0</td>\n",
       "      <td>6670.0</td>\n",
       "      <td>零售业</td>\n",
       "      <td>湖南</td>\n",
       "      <td>集体所有制企业</td>\n",
       "      <td>企业法人</td>\n",
       "      <td>0.91</td>\n",
       "      <td>0.0</td>\n",
       "      <td>0.0</td>\n",
       "      <td>...</td>\n",
       "      <td>353.0</td>\n",
       "      <td>106720.0</td>\n",
       "      <td>150075.0</td>\n",
       "      <td>74704.0</td>\n",
       "      <td>37352.0</td>\n",
       "      <td>29881.6</td>\n",
       "      <td>-7470.4</td>\n",
       "      <td>0.0</td>\n",
       "      <td>-43355.0</td>\n",
       "      <td>-31215.6</td>\n",
       "    </tr>\n",
       "    <tr>\n",
       "      <th>2</th>\n",
       "      <td>5990025</td>\n",
       "      <td>2008.0</td>\n",
       "      <td>9100.0</td>\n",
       "      <td>社区服务</td>\n",
       "      <td>湖北</td>\n",
       "      <td>农民专业合作社</td>\n",
       "      <td>NaN</td>\n",
       "      <td>0.51</td>\n",
       "      <td>1.0</td>\n",
       "      <td>0.0</td>\n",
       "      <td>...</td>\n",
       "      <td>84.0</td>\n",
       "      <td>291200.0</td>\n",
       "      <td>282100.0</td>\n",
       "      <td>145600.0</td>\n",
       "      <td>87360.0</td>\n",
       "      <td>29120.0</td>\n",
       "      <td>43680.0</td>\n",
       "      <td>87360.0</td>\n",
       "      <td>9100.0</td>\n",
       "      <td>22932.0</td>\n",
       "    </tr>\n",
       "    <tr>\n",
       "      <th>3</th>\n",
       "      <td>5982670</td>\n",
       "      <td>2002.0</td>\n",
       "      <td>5870.0</td>\n",
       "      <td>商业服务业</td>\n",
       "      <td>广东</td>\n",
       "      <td>股份有限公司</td>\n",
       "      <td>企业法人</td>\n",
       "      <td>0.63</td>\n",
       "      <td>1.0</td>\n",
       "      <td>0.0</td>\n",
       "      <td>...</td>\n",
       "      <td>965.0</td>\n",
       "      <td>410900.0</td>\n",
       "      <td>607545.0</td>\n",
       "      <td>1150520.0</td>\n",
       "      <td>920416.0</td>\n",
       "      <td>115052.0</td>\n",
       "      <td>230104.0</td>\n",
       "      <td>230104.0</td>\n",
       "      <td>-196645.0</td>\n",
       "      <td>162012.0</td>\n",
       "    </tr>\n",
       "    <tr>\n",
       "      <th>4</th>\n",
       "      <td>5990751</td>\n",
       "      <td>2005.0</td>\n",
       "      <td>9850.0</td>\n",
       "      <td>工业</td>\n",
       "      <td>江西</td>\n",
       "      <td>集体所有制企业</td>\n",
       "      <td>企业法人</td>\n",
       "      <td>0.58</td>\n",
       "      <td>0.0</td>\n",
       "      <td>0.0</td>\n",
       "      <td>...</td>\n",
       "      <td>213.0</td>\n",
       "      <td>325050.0</td>\n",
       "      <td>472800.0</td>\n",
       "      <td>1137675.0</td>\n",
       "      <td>682605.0</td>\n",
       "      <td>341302.5</td>\n",
       "      <td>341302.5</td>\n",
       "      <td>455070.0</td>\n",
       "      <td>-147750.0</td>\n",
       "      <td>302592.0</td>\n",
       "    </tr>\n",
       "  </tbody>\n",
       "</table>\n",
       "<p>5 rows × 46 columns</p>\n",
       "</div>"
      ],
      "text/plain": [
       "        ID    注册时间    注册资本     行业  区域     企业类型 控制人类型  控制人持股比例   专利   商标  ...  \\\n",
       "0  5981446  2008.0  1190.0    服务业  湖南  农民专业合作社   自然人     0.91  1.0  NaN  ...   \n",
       "1  5993858  2008.0  6670.0    零售业  湖南  集体所有制企业  企业法人     0.91  0.0  0.0  ...   \n",
       "2  5990025  2008.0  9100.0   社区服务  湖北  农民专业合作社   NaN     0.51  1.0  0.0  ...   \n",
       "3  5982670  2002.0  5870.0  商业服务业  广东   股份有限公司  企业法人     0.63  1.0  0.0  ...   \n",
       "4  5990751  2005.0  9850.0     工业  江西  集体所有制企业  企业法人     0.58  0.0  0.0  ...   \n",
       "\n",
       "   从业人数2016  资产总额2016  负债总额2016  营业总收入2016  主营业务收入2016  利润总额2016   净利润2016  \\\n",
       "0     631.0   47600.0   69615.0    52360.0     20944.0   15708.0   -5236.0   \n",
       "1     353.0  106720.0  150075.0    74704.0     37352.0   29881.6   -7470.4   \n",
       "2      84.0  291200.0  282100.0   145600.0     87360.0   29120.0   43680.0   \n",
       "3     965.0  410900.0  607545.0  1150520.0    920416.0  115052.0  230104.0   \n",
       "4     213.0  325050.0  472800.0  1137675.0    682605.0  341302.5  341302.5   \n",
       "\n",
       "   纳税总额2016  所有者权益合计2016   净利润2017  \n",
       "0       0.0     -22015.0    8353.8  \n",
       "1       0.0     -43355.0  -31215.6  \n",
       "2   87360.0       9100.0   22932.0  \n",
       "3  230104.0    -196645.0  162012.0  \n",
       "4  455070.0    -147750.0  302592.0  \n",
       "\n",
       "[5 rows x 46 columns]"
      ]
     },
     "execution_count": 46,
     "metadata": {},
     "output_type": "execute_result"
    }
   ],
   "source": [
    "train31.head()"
   ]
  },
  {
   "cell_type": "code",
   "execution_count": 47,
   "metadata": {},
   "outputs": [
    {
     "name": "stdout",
     "output_type": "stream",
     "text": [
      "(17319, 46)\n",
      "(4068, 45)\n"
     ]
    }
   ],
   "source": [
    "#ID特征处理\n",
    "#处理前形状\n",
    "print(train31.shape)\n",
    "print(test31.shape)"
   ]
  },
  {
   "cell_type": "code",
   "execution_count": 49,
   "metadata": {},
   "outputs": [],
   "source": [
    "train_Id = train31['ID']\n",
    "test_Id = test31['ID']\n",
    "train31.drop('ID', axis=1, inplace=True)\n",
    "test31.drop('ID', axis=1, inplace=True)"
   ]
  },
  {
   "cell_type": "code",
   "execution_count": 50,
   "metadata": {},
   "outputs": [
    {
     "name": "stdout",
     "output_type": "stream",
     "text": [
      "(17319, 45)\n",
      "(4068, 44)\n"
     ]
    }
   ],
   "source": [
    "#处理后形状\n",
    "print(train31.shape)\n",
    "print(test31.shape)"
   ]
  },
  {
   "cell_type": "markdown",
   "metadata": {},
   "source": [
    "### 3.2 特征工程"
   ]
  },
  {
   "cell_type": "markdown",
   "metadata": {},
   "source": [
    "###### 3.2.1 数据集连接"
   ]
  },
  {
   "cell_type": "code",
   "execution_count": 51,
   "metadata": {},
   "outputs": [
    {
     "name": "stdout",
     "output_type": "stream",
     "text": [
      "all_data size is (21387, 44)\n"
     ]
    }
   ],
   "source": [
    "ntrain = train31.shape[0]\n",
    "ntest = test31.shape[0]\n",
    "y_train = train31['净利润2017'].values\n",
    "all_data = pd.concat((train31, test31)).reset_index(drop=True)\n",
    "all_data.drop(['净利润2017'], axis=1, inplace=True)\n",
    "print('all_data size is {}'.format(all_data.shape))"
   ]
  },
  {
   "cell_type": "markdown",
   "metadata": {},
   "source": [
    "###### 3.2.2 缺失值处理"
   ]
  },
  {
   "cell_type": "code",
   "execution_count": 52,
   "metadata": {
    "collapsed": true
   },
   "outputs": [
    {
     "data": {
      "text/plain": [
       "注册时间               228\n",
       "注册资本               215\n",
       "行业                 194\n",
       "区域                 204\n",
       "企业类型               216\n",
       "控制人类型              237\n",
       "控制人持股比例            222\n",
       "专利                 214\n",
       "商标                 220\n",
       "著作权                218\n",
       "债权融资额度2015         220\n",
       "债权融资成本2015         221\n",
       "股权融资额度2015         224\n",
       "股权融资成本2015         217\n",
       "内部融资和贸易融资额度2015    216\n",
       "内部融资和贸易融资成本2015    233\n",
       "项目融资和政策融资额度2015    212\n",
       "项目融资和政策融资成本2015    200\n",
       "债权融资额度2016         208\n",
       "债权融资成本2016         215\n",
       "股权融资额度2016         210\n",
       "股权融资成本2016         241\n",
       "内部融资和贸易融资额度2016    207\n",
       "内部融资和贸易融资成本2016    201\n",
       "项目融资和政策融资额度2016    218\n",
       "项目融资和政策融资成本2016    243\n",
       "从业人数2015           211\n",
       "资产总额2015           235\n",
       "负债总额2015           196\n",
       "营业总收入2015          244\n",
       "主营业务收入2015         199\n",
       "利润总额2015           203\n",
       "净利润2015            235\n",
       "纳税总额2015           212\n",
       "所有者权益合计2015        236\n",
       "从业人数2016           210\n",
       "资产总额2016           257\n",
       "负债总额2016           217\n",
       "营业总收入2016          202\n",
       "主营业务收入2016         199\n",
       "利润总额2016           213\n",
       "净利润2016            220\n",
       "纳税总额2016           216\n",
       "所有者权益合计2016        240\n",
       "dtype: int64"
      ]
     },
     "execution_count": 52,
     "metadata": {},
     "output_type": "execute_result"
    }
   ],
   "source": [
    "#缺失值统计信息\n",
    "all_data.isna().sum()"
   ]
  },
  {
   "cell_type": "code",
   "execution_count": 54,
   "metadata": {
    "collapsed": true
   },
   "outputs": [
    {
     "data": {
      "text/html": [
       "<div>\n",
       "<style scoped>\n",
       "    .dataframe tbody tr th:only-of-type {\n",
       "        vertical-align: middle;\n",
       "    }\n",
       "\n",
       "    .dataframe tbody tr th {\n",
       "        vertical-align: top;\n",
       "    }\n",
       "\n",
       "    .dataframe thead th {\n",
       "        text-align: right;\n",
       "    }\n",
       "</style>\n",
       "<table border=\"1\" class=\"dataframe\">\n",
       "  <thead>\n",
       "    <tr style=\"text-align: right;\">\n",
       "      <th></th>\n",
       "      <th>缺失比例</th>\n",
       "    </tr>\n",
       "  </thead>\n",
       "  <tbody>\n",
       "    <tr>\n",
       "      <th>资产总额2016</th>\n",
       "      <td>1.201665</td>\n",
       "    </tr>\n",
       "    <tr>\n",
       "      <th>营业总收入2015</th>\n",
       "      <td>1.140880</td>\n",
       "    </tr>\n",
       "    <tr>\n",
       "      <th>项目融资和政策融资成本2016</th>\n",
       "      <td>1.136204</td>\n",
       "    </tr>\n",
       "    <tr>\n",
       "      <th>股权融资成本2016</th>\n",
       "      <td>1.126853</td>\n",
       "    </tr>\n",
       "    <tr>\n",
       "      <th>所有者权益合计2016</th>\n",
       "      <td>1.122177</td>\n",
       "    </tr>\n",
       "    <tr>\n",
       "      <th>控制人类型</th>\n",
       "      <td>1.108150</td>\n",
       "    </tr>\n",
       "    <tr>\n",
       "      <th>所有者权益合计2015</th>\n",
       "      <td>1.103474</td>\n",
       "    </tr>\n",
       "    <tr>\n",
       "      <th>净利润2015</th>\n",
       "      <td>1.098798</td>\n",
       "    </tr>\n",
       "    <tr>\n",
       "      <th>资产总额2015</th>\n",
       "      <td>1.098798</td>\n",
       "    </tr>\n",
       "    <tr>\n",
       "      <th>内部融资和贸易融资成本2015</th>\n",
       "      <td>1.089447</td>\n",
       "    </tr>\n",
       "    <tr>\n",
       "      <th>注册时间</th>\n",
       "      <td>1.066068</td>\n",
       "    </tr>\n",
       "    <tr>\n",
       "      <th>股权融资额度2015</th>\n",
       "      <td>1.047365</td>\n",
       "    </tr>\n",
       "    <tr>\n",
       "      <th>控制人持股比例</th>\n",
       "      <td>1.038014</td>\n",
       "    </tr>\n",
       "    <tr>\n",
       "      <th>债权融资成本2015</th>\n",
       "      <td>1.033338</td>\n",
       "    </tr>\n",
       "    <tr>\n",
       "      <th>净利润2016</th>\n",
       "      <td>1.028662</td>\n",
       "    </tr>\n",
       "    <tr>\n",
       "      <th>债权融资额度2015</th>\n",
       "      <td>1.028662</td>\n",
       "    </tr>\n",
       "    <tr>\n",
       "      <th>商标</th>\n",
       "      <td>1.028662</td>\n",
       "    </tr>\n",
       "    <tr>\n",
       "      <th>著作权</th>\n",
       "      <td>1.019311</td>\n",
       "    </tr>\n",
       "    <tr>\n",
       "      <th>项目融资和政策融资额度2016</th>\n",
       "      <td>1.019311</td>\n",
       "    </tr>\n",
       "    <tr>\n",
       "      <th>股权融资成本2015</th>\n",
       "      <td>1.014635</td>\n",
       "    </tr>\n",
       "  </tbody>\n",
       "</table>\n",
       "</div>"
      ],
      "text/plain": [
       "                     缺失比例\n",
       "资产总额2016         1.201665\n",
       "营业总收入2015        1.140880\n",
       "项目融资和政策融资成本2016  1.136204\n",
       "股权融资成本2016       1.126853\n",
       "所有者权益合计2016      1.122177\n",
       "控制人类型            1.108150\n",
       "所有者权益合计2015      1.103474\n",
       "净利润2015          1.098798\n",
       "资产总额2015         1.098798\n",
       "内部融资和贸易融资成本2015  1.089447\n",
       "注册时间             1.066068\n",
       "股权融资额度2015       1.047365\n",
       "控制人持股比例          1.038014\n",
       "债权融资成本2015       1.033338\n",
       "净利润2016          1.028662\n",
       "债权融资额度2015       1.028662\n",
       "商标               1.028662\n",
       "著作权              1.019311\n",
       "项目融资和政策融资额度2016  1.019311\n",
       "股权融资成本2015       1.014635"
      ]
     },
     "execution_count": 54,
     "metadata": {},
     "output_type": "execute_result"
    }
   ],
   "source": [
    "#特征缺失率\n",
    "all_data_na = (all_data.isnull().sum()/len(all_data))*100\n",
    "all_data_na = all_data_na.drop(all_data_na[all_data_na == 0].index).sort_values(ascending=False)\n",
    "missing_data = pd.DataFrame({'缺失比例' : all_data_na})\n",
    "missing_data.head(20)"
   ]
  },
  {
   "cell_type": "code",
   "execution_count": 70,
   "metadata": {
    "collapsed": true
   },
   "outputs": [
    {
     "data": {
      "text/html": [
       "<div>\n",
       "<style scoped>\n",
       "    .dataframe tbody tr th:only-of-type {\n",
       "        vertical-align: middle;\n",
       "    }\n",
       "\n",
       "    .dataframe tbody tr th {\n",
       "        vertical-align: top;\n",
       "    }\n",
       "\n",
       "    .dataframe thead th {\n",
       "        text-align: right;\n",
       "    }\n",
       "</style>\n",
       "<table border=\"1\" class=\"dataframe\">\n",
       "  <thead>\n",
       "    <tr style=\"text-align: right;\">\n",
       "      <th></th>\n",
       "      <th>注册时间</th>\n",
       "      <th>注册资本</th>\n",
       "      <th>行业</th>\n",
       "      <th>区域</th>\n",
       "      <th>企业类型</th>\n",
       "      <th>控制人类型</th>\n",
       "      <th>控制人持股比例</th>\n",
       "      <th>专利</th>\n",
       "      <th>商标</th>\n",
       "      <th>著作权</th>\n",
       "      <th>...</th>\n",
       "      <th>所有者权益合计2015</th>\n",
       "      <th>从业人数2016</th>\n",
       "      <th>资产总额2016</th>\n",
       "      <th>负债总额2016</th>\n",
       "      <th>营业总收入2016</th>\n",
       "      <th>主营业务收入2016</th>\n",
       "      <th>利润总额2016</th>\n",
       "      <th>净利润2016</th>\n",
       "      <th>纳税总额2016</th>\n",
       "      <th>所有者权益合计2016</th>\n",
       "    </tr>\n",
       "  </thead>\n",
       "  <tbody>\n",
       "    <tr>\n",
       "      <th>0</th>\n",
       "      <td>2008.0</td>\n",
       "      <td>1190.0</td>\n",
       "      <td>服务业</td>\n",
       "      <td>湖南</td>\n",
       "      <td>农民专业合作社</td>\n",
       "      <td>自然人</td>\n",
       "      <td>0.91</td>\n",
       "      <td>1.0</td>\n",
       "      <td>NaN</td>\n",
       "      <td>0.0</td>\n",
       "      <td>...</td>\n",
       "      <td>-30940.0</td>\n",
       "      <td>631.0</td>\n",
       "      <td>47600.0</td>\n",
       "      <td>69615.0</td>\n",
       "      <td>52360.0</td>\n",
       "      <td>20944.0</td>\n",
       "      <td>15708.0</td>\n",
       "      <td>-5236.0</td>\n",
       "      <td>0.0</td>\n",
       "      <td>-22015.0</td>\n",
       "    </tr>\n",
       "    <tr>\n",
       "      <th>1</th>\n",
       "      <td>2008.0</td>\n",
       "      <td>6670.0</td>\n",
       "      <td>零售业</td>\n",
       "      <td>湖南</td>\n",
       "      <td>集体所有制企业</td>\n",
       "      <td>企业法人</td>\n",
       "      <td>0.91</td>\n",
       "      <td>0.0</td>\n",
       "      <td>0.0</td>\n",
       "      <td>0.0</td>\n",
       "      <td>...</td>\n",
       "      <td>96715.0</td>\n",
       "      <td>353.0</td>\n",
       "      <td>106720.0</td>\n",
       "      <td>150075.0</td>\n",
       "      <td>74704.0</td>\n",
       "      <td>37352.0</td>\n",
       "      <td>29881.6</td>\n",
       "      <td>-7470.4</td>\n",
       "      <td>0.0</td>\n",
       "      <td>-43355.0</td>\n",
       "    </tr>\n",
       "    <tr>\n",
       "      <th>2</th>\n",
       "      <td>2008.0</td>\n",
       "      <td>9100.0</td>\n",
       "      <td>社区服务</td>\n",
       "      <td>湖北</td>\n",
       "      <td>农民专业合作社</td>\n",
       "      <td>NaN</td>\n",
       "      <td>0.51</td>\n",
       "      <td>1.0</td>\n",
       "      <td>0.0</td>\n",
       "      <td>1.0</td>\n",
       "      <td>...</td>\n",
       "      <td>-109200.0</td>\n",
       "      <td>84.0</td>\n",
       "      <td>291200.0</td>\n",
       "      <td>282100.0</td>\n",
       "      <td>145600.0</td>\n",
       "      <td>87360.0</td>\n",
       "      <td>29120.0</td>\n",
       "      <td>43680.0</td>\n",
       "      <td>87360.0</td>\n",
       "      <td>9100.0</td>\n",
       "    </tr>\n",
       "    <tr>\n",
       "      <th>3</th>\n",
       "      <td>2002.0</td>\n",
       "      <td>5870.0</td>\n",
       "      <td>商业服务业</td>\n",
       "      <td>广东</td>\n",
       "      <td>股份有限公司</td>\n",
       "      <td>企业法人</td>\n",
       "      <td>0.63</td>\n",
       "      <td>1.0</td>\n",
       "      <td>0.0</td>\n",
       "      <td>1.0</td>\n",
       "      <td>...</td>\n",
       "      <td>-29350.0</td>\n",
       "      <td>965.0</td>\n",
       "      <td>410900.0</td>\n",
       "      <td>607545.0</td>\n",
       "      <td>1150520.0</td>\n",
       "      <td>920416.0</td>\n",
       "      <td>115052.0</td>\n",
       "      <td>230104.0</td>\n",
       "      <td>230104.0</td>\n",
       "      <td>-196645.0</td>\n",
       "    </tr>\n",
       "    <tr>\n",
       "      <th>4</th>\n",
       "      <td>2005.0</td>\n",
       "      <td>9850.0</td>\n",
       "      <td>工业</td>\n",
       "      <td>江西</td>\n",
       "      <td>集体所有制企业</td>\n",
       "      <td>企业法人</td>\n",
       "      <td>0.58</td>\n",
       "      <td>0.0</td>\n",
       "      <td>0.0</td>\n",
       "      <td>0.0</td>\n",
       "      <td>...</td>\n",
       "      <td>-78800.0</td>\n",
       "      <td>213.0</td>\n",
       "      <td>325050.0</td>\n",
       "      <td>472800.0</td>\n",
       "      <td>1137675.0</td>\n",
       "      <td>682605.0</td>\n",
       "      <td>341302.5</td>\n",
       "      <td>341302.5</td>\n",
       "      <td>455070.0</td>\n",
       "      <td>-147750.0</td>\n",
       "    </tr>\n",
       "  </tbody>\n",
       "</table>\n",
       "<p>5 rows × 44 columns</p>\n",
       "</div>"
      ],
      "text/plain": [
       "     注册时间    注册资本     行业  区域     企业类型 控制人类型  控制人持股比例   专利   商标  著作权  ...  \\\n",
       "0  2008.0  1190.0    服务业  湖南  农民专业合作社   自然人     0.91  1.0  NaN  0.0  ...   \n",
       "1  2008.0  6670.0    零售业  湖南  集体所有制企业  企业法人     0.91  0.0  0.0  0.0  ...   \n",
       "2  2008.0  9100.0   社区服务  湖北  农民专业合作社   NaN     0.51  1.0  0.0  1.0  ...   \n",
       "3  2002.0  5870.0  商业服务业  广东   股份有限公司  企业法人     0.63  1.0  0.0  1.0  ...   \n",
       "4  2005.0  9850.0     工业  江西  集体所有制企业  企业法人     0.58  0.0  0.0  0.0  ...   \n",
       "\n",
       "   所有者权益合计2015  从业人数2016  资产总额2016  负债总额2016  营业总收入2016  主营业务收入2016  利润总额2016  \\\n",
       "0     -30940.0     631.0   47600.0   69615.0    52360.0     20944.0   15708.0   \n",
       "1      96715.0     353.0  106720.0  150075.0    74704.0     37352.0   29881.6   \n",
       "2    -109200.0      84.0  291200.0  282100.0   145600.0     87360.0   29120.0   \n",
       "3     -29350.0     965.0  410900.0  607545.0  1150520.0    920416.0  115052.0   \n",
       "4     -78800.0     213.0  325050.0  472800.0  1137675.0    682605.0  341302.5   \n",
       "\n",
       "    净利润2016  纳税总额2016  所有者权益合计2016  \n",
       "0   -5236.0       0.0     -22015.0  \n",
       "1   -7470.4       0.0     -43355.0  \n",
       "2   43680.0   87360.0       9100.0  \n",
       "3  230104.0  230104.0    -196645.0  \n",
       "4  341302.5  455070.0    -147750.0  \n",
       "\n",
       "[5 rows x 44 columns]"
      ]
     },
     "execution_count": 70,
     "metadata": {},
     "output_type": "execute_result"
    }
   ],
   "source": [
    "all_data.head()"
   ]
  },
  {
   "cell_type": "code",
   "execution_count": 71,
   "metadata": {},
   "outputs": [],
   "source": [
    "#定义填充方法\n",
    "def fill_with_mode(df):\n",
    "    cols=df.columns\n",
    "    for col in cols:\n",
    "        df[col]=df[col].fillna(df[col].mode()[0])\n",
    "    return df"
   ]
  },
  {
   "cell_type": "code",
   "execution_count": 79,
   "metadata": {},
   "outputs": [],
   "source": [
    "#用众数填补缺失值\n",
    "train322=fill_with_mode(train31)\n",
    "test322=fill_with_mode(test31)\n",
    "all_data322=fill_with_mode(all_data)"
   ]
  },
  {
   "cell_type": "markdown",
   "metadata": {},
   "source": [
    "###### 3.2.3 数据相关性"
   ]
  },
  {
   "cell_type": "code",
   "execution_count": 74,
   "metadata": {
    "scrolled": false
   },
   "outputs": [
    {
     "data": {
      "text/plain": [
       "(<Figure size 1080x864 with 1 Axes>,\n",
       " <matplotlib.axes._subplots.AxesSubplot at 0x1d0cf49e788>)"
      ]
     },
     "execution_count": 74,
     "metadata": {},
     "output_type": "execute_result"
    },
    {
     "data": {
      "text/plain": [
       "<matplotlib.axes._subplots.AxesSubplot at 0x1d0cf49e788>"
      ]
     },
     "execution_count": 74,
     "metadata": {},
     "output_type": "execute_result"
    },
    {
     "data": {
      "image/png": "[encoded data removed]",
      "text/plain": [
       "<Figure size 1080x864 with 2 Axes>"
      ]
     },
     "metadata": {
      "needs_background": "light"
     },
     "output_type": "display_data"
    }
   ],
   "source": [
    "# 全部数值特征\n",
    "corrmat = train322.corr()\n",
    "plt.subplots(figsize=(15,12))\n",
    "sns.heatmap(corrmat, vmax=0.9, square=True)"
   ]
  },
  {
   "cell_type": "code",
   "execution_count": 78,
   "metadata": {},
   "outputs": [
    {
     "data": {
      "text/plain": [
       "(<Figure size 720x576 with 1 Axes>,\n",
       " <matplotlib.axes._subplots.AxesSubplot at 0x1d0d145f448>)"
      ]
     },
     "execution_count": 78,
     "metadata": {},
     "output_type": "execute_result"
    },
    {
     "data": {
      "text/plain": [
       "<matplotlib.axes._subplots.AxesSubplot at 0x1d0d145f448>"
      ]
     },
     "execution_count": 78,
     "metadata": {},
     "output_type": "execute_result"
    },
    {
     "data": {
      "image/png": "[encoded data removed]",
      "text/plain": [
       "<Figure size 720x576 with 2 Axes>"
      ]
     },
     "metadata": {
      "needs_background": "light"
     },
     "output_type": "display_data"
    }
   ],
   "source": [
    "# 相关性最大的10个特征\n",
    "corrmat = train322.corr()\n",
    "plt.subplots(figsize=(10,8))\n",
    "k = 10\n",
    "cols = corrmat.nlargest(k, '净利润2017')['净利润2017'].index\n",
    "cm = np.corrcoef(train322[cols].values.T)\n",
    "sns.heatmap(cm, cbar=True, annot=True, square=True, fmt='.2f', annot_kws={'size': 10}, yticklabels=cols.values, xticklabels=cols.values)"
   ]
  },
  {
   "cell_type": "markdown",
   "metadata": {},
   "source": [
    "###### 3.2.4 标签编码"
   ]
  },
  {
   "cell_type": "code",
   "execution_count": 142,
   "metadata": {},
   "outputs": [],
   "source": [
    "#待编码的特征\n",
    "cols_encode=['注册时间']"
   ]
  },
  {
   "cell_type": "code",
   "execution_count": 143,
   "metadata": {},
   "outputs": [],
   "source": [
    "#将数值类型（数值作为类型的列）转化为字符串类型\n",
    "feature=['注册时间']\n",
    "for i in feature:\n",
    "    train[i]=train[i].astype(str)"
   ]
  },
  {
   "cell_type": "code",
   "execution_count": 144,
   "metadata": {},
   "outputs": [],
   "source": [
    "#对不连续的数字或文本进行编号，转换成连续的数值型变量\n",
    "for c in cols_encode:\n",
    "    le=LabelEncoder()\n",
    "    all_data322[c]=le.fit_transform(list(all_data322[c].values))"
   ]
  },
  {
   "cell_type": "code",
   "execution_count": 145,
   "metadata": {},
   "outputs": [
    {
     "data": {
      "text/html": [
       "<div>\n",
       "<style scoped>\n",
       "    .dataframe tbody tr th:only-of-type {\n",
       "        vertical-align: middle;\n",
       "    }\n",
       "\n",
       "    .dataframe tbody tr th {\n",
       "        vertical-align: top;\n",
       "    }\n",
       "\n",
       "    .dataframe thead th {\n",
       "        text-align: right;\n",
       "    }\n",
       "</style>\n",
       "<table border=\"1\" class=\"dataframe\">\n",
       "  <thead>\n",
       "    <tr style=\"text-align: right;\">\n",
       "      <th></th>\n",
       "      <th>注册时间</th>\n",
       "    </tr>\n",
       "  </thead>\n",
       "  <tbody>\n",
       "    <tr>\n",
       "      <th>0</th>\n",
       "      <td>8</td>\n",
       "    </tr>\n",
       "    <tr>\n",
       "      <th>1</th>\n",
       "      <td>8</td>\n",
       "    </tr>\n",
       "    <tr>\n",
       "      <th>2</th>\n",
       "      <td>8</td>\n",
       "    </tr>\n",
       "    <tr>\n",
       "      <th>3</th>\n",
       "      <td>2</td>\n",
       "    </tr>\n",
       "    <tr>\n",
       "      <th>4</th>\n",
       "      <td>5</td>\n",
       "    </tr>\n",
       "  </tbody>\n",
       "</table>\n",
       "</div>"
      ],
      "text/plain": [
       "   注册时间\n",
       "0     8\n",
       "1     8\n",
       "2     8\n",
       "3     2\n",
       "4     5"
      ]
     },
     "execution_count": 145,
     "metadata": {},
     "output_type": "execute_result"
    }
   ],
   "source": [
    "#查看编码后的情况\n",
    "all_data322[cols_encode].head()"
   ]
  },
  {
   "cell_type": "markdown",
   "metadata": {},
   "source": [
    "###### 3.2.5 独热编码"
   ]
  },
  {
   "cell_type": "code",
   "execution_count": 146,
   "metadata": {},
   "outputs": [
    {
     "data": {
      "text/html": [
       "<div>\n",
       "<style scoped>\n",
       "    .dataframe tbody tr th:only-of-type {\n",
       "        vertical-align: middle;\n",
       "    }\n",
       "\n",
       "    .dataframe tbody tr th {\n",
       "        vertical-align: top;\n",
       "    }\n",
       "\n",
       "    .dataframe thead th {\n",
       "        text-align: right;\n",
       "    }\n",
       "</style>\n",
       "<table border=\"1\" class=\"dataframe\">\n",
       "  <thead>\n",
       "    <tr style=\"text-align: right;\">\n",
       "      <th></th>\n",
       "      <th>注册时间</th>\n",
       "      <th>注册资本</th>\n",
       "      <th>行业</th>\n",
       "      <th>区域</th>\n",
       "      <th>企业类型</th>\n",
       "      <th>控制人类型</th>\n",
       "      <th>控制人持股比例</th>\n",
       "      <th>专利</th>\n",
       "      <th>商标</th>\n",
       "      <th>著作权</th>\n",
       "      <th>...</th>\n",
       "      <th>所有者权益合计2015</th>\n",
       "      <th>从业人数2016</th>\n",
       "      <th>资产总额2016</th>\n",
       "      <th>负债总额2016</th>\n",
       "      <th>营业总收入2016</th>\n",
       "      <th>主营业务收入2016</th>\n",
       "      <th>利润总额2016</th>\n",
       "      <th>净利润2016</th>\n",
       "      <th>纳税总额2016</th>\n",
       "      <th>所有者权益合计2016</th>\n",
       "    </tr>\n",
       "  </thead>\n",
       "  <tbody>\n",
       "    <tr>\n",
       "      <th>0</th>\n",
       "      <td>8</td>\n",
       "      <td>1190.0</td>\n",
       "      <td>3</td>\n",
       "      <td>5</td>\n",
       "      <td>0</td>\n",
       "      <td>1</td>\n",
       "      <td>0.91</td>\n",
       "      <td>1.0</td>\n",
       "      <td>0.0</td>\n",
       "      <td>0.0</td>\n",
       "      <td>...</td>\n",
       "      <td>-30940.0</td>\n",
       "      <td>631.0</td>\n",
       "      <td>47600.0</td>\n",
       "      <td>69615.0</td>\n",
       "      <td>52360.0</td>\n",
       "      <td>20944.0</td>\n",
       "      <td>15708.0</td>\n",
       "      <td>-5236.0</td>\n",
       "      <td>0.0</td>\n",
       "      <td>-22015.0</td>\n",
       "    </tr>\n",
       "    <tr>\n",
       "      <th>1</th>\n",
       "      <td>8</td>\n",
       "      <td>6670.0</td>\n",
       "      <td>5</td>\n",
       "      <td>5</td>\n",
       "      <td>4</td>\n",
       "      <td>0</td>\n",
       "      <td>0.91</td>\n",
       "      <td>0.0</td>\n",
       "      <td>0.0</td>\n",
       "      <td>0.0</td>\n",
       "      <td>...</td>\n",
       "      <td>96715.0</td>\n",
       "      <td>353.0</td>\n",
       "      <td>106720.0</td>\n",
       "      <td>150075.0</td>\n",
       "      <td>74704.0</td>\n",
       "      <td>37352.0</td>\n",
       "      <td>29881.6</td>\n",
       "      <td>-7470.4</td>\n",
       "      <td>0.0</td>\n",
       "      <td>-43355.0</td>\n",
       "    </tr>\n",
       "    <tr>\n",
       "      <th>2</th>\n",
       "      <td>8</td>\n",
       "      <td>9100.0</td>\n",
       "      <td>4</td>\n",
       "      <td>4</td>\n",
       "      <td>0</td>\n",
       "      <td>0</td>\n",
       "      <td>0.51</td>\n",
       "      <td>1.0</td>\n",
       "      <td>0.0</td>\n",
       "      <td>1.0</td>\n",
       "      <td>...</td>\n",
       "      <td>-109200.0</td>\n",
       "      <td>84.0</td>\n",
       "      <td>291200.0</td>\n",
       "      <td>282100.0</td>\n",
       "      <td>145600.0</td>\n",
       "      <td>87360.0</td>\n",
       "      <td>29120.0</td>\n",
       "      <td>43680.0</td>\n",
       "      <td>87360.0</td>\n",
       "      <td>9100.0</td>\n",
       "    </tr>\n",
       "    <tr>\n",
       "      <th>3</th>\n",
       "      <td>2</td>\n",
       "      <td>5870.0</td>\n",
       "      <td>1</td>\n",
       "      <td>1</td>\n",
       "      <td>3</td>\n",
       "      <td>0</td>\n",
       "      <td>0.63</td>\n",
       "      <td>1.0</td>\n",
       "      <td>0.0</td>\n",
       "      <td>1.0</td>\n",
       "      <td>...</td>\n",
       "      <td>-29350.0</td>\n",
       "      <td>965.0</td>\n",
       "      <td>410900.0</td>\n",
       "      <td>607545.0</td>\n",
       "      <td>1150520.0</td>\n",
       "      <td>920416.0</td>\n",
       "      <td>115052.0</td>\n",
       "      <td>230104.0</td>\n",
       "      <td>230104.0</td>\n",
       "      <td>-196645.0</td>\n",
       "    </tr>\n",
       "    <tr>\n",
       "      <th>4</th>\n",
       "      <td>5</td>\n",
       "      <td>9850.0</td>\n",
       "      <td>2</td>\n",
       "      <td>3</td>\n",
       "      <td>4</td>\n",
       "      <td>0</td>\n",
       "      <td>0.58</td>\n",
       "      <td>0.0</td>\n",
       "      <td>0.0</td>\n",
       "      <td>0.0</td>\n",
       "      <td>...</td>\n",
       "      <td>-78800.0</td>\n",
       "      <td>213.0</td>\n",
       "      <td>325050.0</td>\n",
       "      <td>472800.0</td>\n",
       "      <td>1137675.0</td>\n",
       "      <td>682605.0</td>\n",
       "      <td>341302.5</td>\n",
       "      <td>341302.5</td>\n",
       "      <td>455070.0</td>\n",
       "      <td>-147750.0</td>\n",
       "    </tr>\n",
       "  </tbody>\n",
       "</table>\n",
       "<p>5 rows × 44 columns</p>\n",
       "</div>"
      ],
      "text/plain": [
       "   注册时间    注册资本  行业  区域  企业类型  控制人类型  控制人持股比例   专利   商标  著作权  ...  \\\n",
       "0     8  1190.0   3   5     0      1     0.91  1.0  0.0  0.0  ...   \n",
       "1     8  6670.0   5   5     4      0     0.91  0.0  0.0  0.0  ...   \n",
       "2     8  9100.0   4   4     0      0     0.51  1.0  0.0  1.0  ...   \n",
       "3     2  5870.0   1   1     3      0     0.63  1.0  0.0  1.0  ...   \n",
       "4     5  9850.0   2   3     4      0     0.58  0.0  0.0  0.0  ...   \n",
       "\n",
       "   所有者权益合计2015  从业人数2016  资产总额2016  负债总额2016  营业总收入2016  主营业务收入2016  利润总额2016  \\\n",
       "0     -30940.0     631.0   47600.0   69615.0    52360.0     20944.0   15708.0   \n",
       "1      96715.0     353.0  106720.0  150075.0    74704.0     37352.0   29881.6   \n",
       "2    -109200.0      84.0  291200.0  282100.0   145600.0     87360.0   29120.0   \n",
       "3     -29350.0     965.0  410900.0  607545.0  1150520.0    920416.0  115052.0   \n",
       "4     -78800.0     213.0  325050.0  472800.0  1137675.0    682605.0  341302.5   \n",
       "\n",
       "    净利润2016  纳税总额2016  所有者权益合计2016  \n",
       "0   -5236.0       0.0     -22015.0  \n",
       "1   -7470.4       0.0     -43355.0  \n",
       "2   43680.0   87360.0       9100.0  \n",
       "3  230104.0  230104.0    -196645.0  \n",
       "4  341302.5  455070.0    -147750.0  \n",
       "\n",
       "[5 rows x 44 columns]"
      ]
     },
     "execution_count": 146,
     "metadata": {},
     "output_type": "execute_result"
    }
   ],
   "source": [
    "# 独热编码用来解决类别型数据的离散值问题\n",
    "all_data325 = pd.get_dummies(all_data322)\n",
    "all_data325.head()"
   ]
  },
  {
   "cell_type": "markdown",
   "metadata": {},
   "source": [
    "###### 3.2.6 重新划分数据集"
   ]
  },
  {
   "cell_type": "code",
   "execution_count": 88,
   "metadata": {},
   "outputs": [],
   "source": [
    "# 将处理好的数据重新划分成训练集和测试集，为模型训练与测试做准备\n",
    "train326 = all_data325[:ntrain]\n",
    "test326 = all_data325[ntrain:]"
   ]
  },
  {
   "cell_type": "markdown",
   "metadata": {},
   "source": [
    "###### 3.2.7 特征重要性检测"
   ]
  },
  {
   "cell_type": "code",
   "execution_count": 89,
   "metadata": {},
   "outputs": [
    {
     "name": "stderr",
     "output_type": "stream",
     "text": [
      "C:\\Users\\LERRY\\Anaconda3\\lib\\site-packages\\sklearn\\linear_model\\coordinate_descent.py:475: ConvergenceWarning: Objective did not converge. You might want to increase the number of iterations. Duality gap: 126347730693849.92, tolerance: 28415992188.507782\n",
      "  positive)\n"
     ]
    },
    {
     "data": {
      "text/plain": [
       "Lasso(alpha=0.001, copy_X=True, fit_intercept=True, max_iter=1000,\n",
       "      normalize=False, positive=False, precompute=False, random_state=None,\n",
       "      selection='cyclic', tol=0.0001, warm_start=False)"
      ]
     },
     "execution_count": 89,
     "metadata": {},
     "output_type": "execute_result"
    }
   ],
   "source": [
    "lasso=Lasso(alpha=0.001)\n",
    "lasso.fit(train326,y_train)"
   ]
  },
  {
   "cell_type": "code",
   "execution_count": 90,
   "metadata": {
    "scrolled": true
   },
   "outputs": [
    {
     "data": {
      "text/html": [
       "<div>\n",
       "<style scoped>\n",
       "    .dataframe tbody tr th:only-of-type {\n",
       "        vertical-align: middle;\n",
       "    }\n",
       "\n",
       "    .dataframe tbody tr th {\n",
       "        vertical-align: top;\n",
       "    }\n",
       "\n",
       "    .dataframe thead th {\n",
       "        text-align: right;\n",
       "    }\n",
       "</style>\n",
       "<table border=\"1\" class=\"dataframe\">\n",
       "  <thead>\n",
       "    <tr style=\"text-align: right;\">\n",
       "      <th></th>\n",
       "      <th>特征重要性</th>\n",
       "    </tr>\n",
       "  </thead>\n",
       "  <tbody>\n",
       "    <tr>\n",
       "      <th>著作权</th>\n",
       "      <td>1668.159810</td>\n",
       "    </tr>\n",
       "    <tr>\n",
       "      <th>企业类型</th>\n",
       "      <td>143.605531</td>\n",
       "    </tr>\n",
       "    <tr>\n",
       "      <th>注册资本</th>\n",
       "      <td>7.996649</td>\n",
       "    </tr>\n",
       "    <tr>\n",
       "      <th>股权融资成本2015</th>\n",
       "      <td>6.415303</td>\n",
       "    </tr>\n",
       "    <tr>\n",
       "      <th>债权融资成本2016</th>\n",
       "      <td>3.943163</td>\n",
       "    </tr>\n",
       "    <tr>\n",
       "      <th>内部融资和贸易融资成本2015</th>\n",
       "      <td>2.838004</td>\n",
       "    </tr>\n",
       "    <tr>\n",
       "      <th>从业人数2015</th>\n",
       "      <td>2.762574</td>\n",
       "    </tr>\n",
       "    <tr>\n",
       "      <th>债权融资额度2015</th>\n",
       "      <td>1.258808</td>\n",
       "    </tr>\n",
       "    <tr>\n",
       "      <th>项目融资和政策融资额度2016</th>\n",
       "      <td>1.013722</td>\n",
       "    </tr>\n",
       "    <tr>\n",
       "      <th>股权融资成本2016</th>\n",
       "      <td>0.578048</td>\n",
       "    </tr>\n",
       "    <tr>\n",
       "      <th>项目融资和政策融资额度2015</th>\n",
       "      <td>0.344947</td>\n",
       "    </tr>\n",
       "    <tr>\n",
       "      <th>内部融资和贸易融资额度2016</th>\n",
       "      <td>0.277150</td>\n",
       "    </tr>\n",
       "    <tr>\n",
       "      <th>资产总额2016</th>\n",
       "      <td>0.044915</td>\n",
       "    </tr>\n",
       "    <tr>\n",
       "      <th>资产总额2015</th>\n",
       "      <td>0.041624</td>\n",
       "    </tr>\n",
       "    <tr>\n",
       "      <th>负债总额2015</th>\n",
       "      <td>0.036664</td>\n",
       "    </tr>\n",
       "    <tr>\n",
       "      <th>利润总额2016</th>\n",
       "      <td>0.027135</td>\n",
       "    </tr>\n",
       "    <tr>\n",
       "      <th>负债总额2016</th>\n",
       "      <td>0.019151</td>\n",
       "    </tr>\n",
       "    <tr>\n",
       "      <th>所有者权益合计2016</th>\n",
       "      <td>0.015696</td>\n",
       "    </tr>\n",
       "    <tr>\n",
       "      <th>营业总收入2015</th>\n",
       "      <td>0.013726</td>\n",
       "    </tr>\n",
       "    <tr>\n",
       "      <th>纳税总额2016</th>\n",
       "      <td>0.012255</td>\n",
       "    </tr>\n",
       "    <tr>\n",
       "      <th>主营业务收入2016</th>\n",
       "      <td>0.010307</td>\n",
       "    </tr>\n",
       "    <tr>\n",
       "      <th>所有者权益合计2015</th>\n",
       "      <td>0.008274</td>\n",
       "    </tr>\n",
       "    <tr>\n",
       "      <th>纳税总额2015</th>\n",
       "      <td>0.002295</td>\n",
       "    </tr>\n",
       "    <tr>\n",
       "      <th>净利润2015</th>\n",
       "      <td>0.001475</td>\n",
       "    </tr>\n",
       "    <tr>\n",
       "      <th>主营业务收入2015</th>\n",
       "      <td>-0.005207</td>\n",
       "    </tr>\n",
       "    <tr>\n",
       "      <th>营业总收入2016</th>\n",
       "      <td>-0.012219</td>\n",
       "    </tr>\n",
       "    <tr>\n",
       "      <th>利润总额2015</th>\n",
       "      <td>-0.031221</td>\n",
       "    </tr>\n",
       "    <tr>\n",
       "      <th>净利润2016</th>\n",
       "      <td>-0.042845</td>\n",
       "    </tr>\n",
       "    <tr>\n",
       "      <th>股权融资额度2016</th>\n",
       "      <td>-0.089566</td>\n",
       "    </tr>\n",
       "    <tr>\n",
       "      <th>内部融资和贸易融资额度2015</th>\n",
       "      <td>-0.173665</td>\n",
       "    </tr>\n",
       "    <tr>\n",
       "      <th>股权融资额度2015</th>\n",
       "      <td>-0.411562</td>\n",
       "    </tr>\n",
       "    <tr>\n",
       "      <th>债权融资额度2016</th>\n",
       "      <td>-0.477694</td>\n",
       "    </tr>\n",
       "    <tr>\n",
       "      <th>内部融资和贸易融资成本2016</th>\n",
       "      <td>-4.349163</td>\n",
       "    </tr>\n",
       "    <tr>\n",
       "      <th>从业人数2016</th>\n",
       "      <td>-4.876867</td>\n",
       "    </tr>\n",
       "    <tr>\n",
       "      <th>项目融资和政策融资成本2015</th>\n",
       "      <td>-12.436486</td>\n",
       "    </tr>\n",
       "    <tr>\n",
       "      <th>项目融资和政策融资成本2016</th>\n",
       "      <td>-14.322888</td>\n",
       "    </tr>\n",
       "    <tr>\n",
       "      <th>区域</th>\n",
       "      <td>-15.633030</td>\n",
       "    </tr>\n",
       "    <tr>\n",
       "      <th>债权融资成本2015</th>\n",
       "      <td>-16.094931</td>\n",
       "    </tr>\n",
       "    <tr>\n",
       "      <th>控制人持股比例</th>\n",
       "      <td>-209.112423</td>\n",
       "    </tr>\n",
       "    <tr>\n",
       "      <th>专利</th>\n",
       "      <td>-273.485066</td>\n",
       "    </tr>\n",
       "    <tr>\n",
       "      <th>行业</th>\n",
       "      <td>-308.161493</td>\n",
       "    </tr>\n",
       "    <tr>\n",
       "      <th>商标</th>\n",
       "      <td>-810.487969</td>\n",
       "    </tr>\n",
       "    <tr>\n",
       "      <th>控制人类型</th>\n",
       "      <td>-1204.352113</td>\n",
       "    </tr>\n",
       "    <tr>\n",
       "      <th>注册时间</th>\n",
       "      <td>-3478.315782</td>\n",
       "    </tr>\n",
       "  </tbody>\n",
       "</table>\n",
       "</div>"
      ],
      "text/plain": [
       "                       特征重要性\n",
       "著作权              1668.159810\n",
       "企业类型              143.605531\n",
       "注册资本                7.996649\n",
       "股权融资成本2015          6.415303\n",
       "债权融资成本2016          3.943163\n",
       "内部融资和贸易融资成本2015     2.838004\n",
       "从业人数2015            2.762574\n",
       "债权融资额度2015          1.258808\n",
       "项目融资和政策融资额度2016     1.013722\n",
       "股权融资成本2016          0.578048\n",
       "项目融资和政策融资额度2015     0.344947\n",
       "内部融资和贸易融资额度2016     0.277150\n",
       "资产总额2016            0.044915\n",
       "资产总额2015            0.041624\n",
       "负债总额2015            0.036664\n",
       "利润总额2016            0.027135\n",
       "负债总额2016            0.019151\n",
       "所有者权益合计2016         0.015696\n",
       "营业总收入2015           0.013726\n",
       "纳税总额2016            0.012255\n",
       "主营业务收入2016          0.010307\n",
       "所有者权益合计2015         0.008274\n",
       "纳税总额2015            0.002295\n",
       "净利润2015             0.001475\n",
       "主营业务收入2015         -0.005207\n",
       "营业总收入2016          -0.012219\n",
       "利润总额2015           -0.031221\n",
       "净利润2016            -0.042845\n",
       "股权融资额度2016         -0.089566\n",
       "内部融资和贸易融资额度2015    -0.173665\n",
       "股权融资额度2015         -0.411562\n",
       "债权融资额度2016         -0.477694\n",
       "内部融资和贸易融资成本2016    -4.349163\n",
       "从业人数2016           -4.876867\n",
       "项目融资和政策融资成本2015   -12.436486\n",
       "项目融资和政策融资成本2016   -14.322888\n",
       "区域                -15.633030\n",
       "债权融资成本2015        -16.094931\n",
       "控制人持股比例          -209.112423\n",
       "专利               -273.485066\n",
       "行业               -308.161493\n",
       "商标               -810.487969\n",
       "控制人类型           -1204.352113\n",
       "注册时间            -3478.315782"
      ]
     },
     "execution_count": 90,
     "metadata": {},
     "output_type": "execute_result"
    }
   ],
   "source": [
    "FI_lasso = pd.DataFrame({\"特征重要性\":lasso.coef_}, index=train326.columns)\n",
    "FI_lasso.sort_values(\"特征重要性\",ascending=False)"
   ]
  },
  {
   "cell_type": "code",
   "execution_count": 98,
   "metadata": {
    "collapsed": true
   },
   "outputs": [
    {
     "data": {
      "text/plain": [
       "['著作权',\n",
       " '企业类型',\n",
       " '注册资本',\n",
       " '从业人数2015',\n",
       " '资产总额2015',\n",
       " '负债总额2015',\n",
       " '营业总收入2015',\n",
       " '主营业务收入2015',\n",
       " '利润总额2015',\n",
       " '净利润2015',\n",
       " '纳税总额2015',\n",
       " '所有者权益合计2015',\n",
       " '从业人数2016',\n",
       " '资产总额2016',\n",
       " '负债总额2016',\n",
       " '营业总收入2016',\n",
       " '主营业务收入2016',\n",
       " '利润总额2016',\n",
       " '净利润2016',\n",
       " '纳税总额2016',\n",
       " '所有者权益合计2016',\n",
       " '债权融资额度2015',\n",
       " '债权融资成本2015',\n",
       " '股权融资额度2015',\n",
       " '股权融资成本2015',\n",
       " '内部融资和贸易融资额度2015',\n",
       " '内部融资和贸易融资成本2015',\n",
       " '项目融资和政策融资额度2015',\n",
       " '项目融资和政策融资成本2015',\n",
       " '债权融资额度2016',\n",
       " '债权融资成本2016',\n",
       " '股权融资额度2016',\n",
       " '股权融资成本2016',\n",
       " '内部融资和贸易融资额度2016',\n",
       " '内部融资和贸易融资成本2016',\n",
       " '项目融资和政策融资额度2016',\n",
       " '项目融资和政策融资成本2016']"
      ]
     },
     "execution_count": 98,
     "metadata": {},
     "output_type": "execute_result"
    }
   ],
   "source": [
    "#只保存较重要的特征\n",
    "cols327_1=year_train_res.columns.drop(['ID','净利润2017', '从业人数2017','资产总额2017','负债总额2017','营业总收入2017','主营业务收入2017','利润总额2017','纳税总额2017','所有者权益合计2017']).values.tolist()\n",
    "cols327_2=money_train_res.columns.drop(['ID','债权融资额度2017','债权融资成本2017','股权融资额度2017','股权融资成本2017', '内部融资和贸易融资额度2017','内部融资和贸易融资成本2017','项目融资和政策融资额度2017','项目融资和政策融资成本2017']).values.tolist()\n",
    "cols327_1.extend(cols327_2)\n",
    "cols327=['著作权','企业类型','注册资本']\n",
    "cols327.extend(cols327_1)\n",
    "cols327"
   ]
  },
  {
   "cell_type": "code",
   "execution_count": 99,
   "metadata": {},
   "outputs": [],
   "source": [
    "all_data327=all_data325.loc[:,cols327].copy()"
   ]
  },
  {
   "cell_type": "code",
   "execution_count": 100,
   "metadata": {},
   "outputs": [],
   "source": [
    "# 将处理好的数据重新划分成训练集和测试集，为模型训练与测试做准备\n",
    "train327 = all_data327[:ntrain]\n",
    "test327 = all_data327[ntrain:]"
   ]
  },
  {
   "cell_type": "code",
   "execution_count": 103,
   "metadata": {},
   "outputs": [
    {
     "data": {
      "text/plain": [
       "(17319, 37)"
      ]
     },
     "execution_count": 103,
     "metadata": {},
     "output_type": "execute_result"
    },
    {
     "data": {
      "text/plain": [
       "(4068, 37)"
      ]
     },
     "execution_count": 103,
     "metadata": {},
     "output_type": "execute_result"
    }
   ],
   "source": [
    "train327.shape\n",
    "test327.shape"
   ]
  },
  {
   "cell_type": "markdown",
   "metadata": {},
   "source": [
    "# 4 基础模型"
   ]
  },
  {
   "cell_type": "markdown",
   "metadata": {},
   "source": [
    "### 4.1 定义交叉验证策略"
   ]
  },
  {
   "cell_type": "code",
   "execution_count": 123,
   "metadata": {},
   "outputs": [],
   "source": [
    "# cross_val_score默认使用K折交叉验证策略。此处先使用KFold的shuffle参数混洗数据\n",
    "# neg_mean_squared_error：负均方误差，是损失函数，优化目标是使其最小化\n",
    "n_splits = 5\n",
    "def nmse_cv(model,train,y_train):\n",
    "    kf = KFold(n_splits, shuffle=True, random_state=42).get_n_splits(train)\n",
    "    nmse = np.sqrt(-cross_val_score(model, train, y_train, scoring='neg_mean_squared_error', cv=kf))\n",
    "    return(nmse)"
   ]
  },
  {
   "cell_type": "markdown",
   "metadata": {},
   "source": [
    "### 4.2 建立基础模型"
   ]
  },
  {
   "cell_type": "code",
   "execution_count": 102,
   "metadata": {},
   "outputs": [],
   "source": [
    "model_xgb = xgb.XGBRegressor(colsample_bytree=0.4603, gamma=0.0468, \n",
    "                             learning_rate=0.05, max_depth=3, \n",
    "                             min_child_weight=1.7817, n_estimators=2200,\n",
    "                             reg_alpha=0.4640, reg_lambda=0.8571,\n",
    "                             subsample=0.5213, silent=1,\n",
    "                             random_state =7, nthread = -1)"
   ]
  },
  {
   "cell_type": "markdown",
   "metadata": {},
   "source": [
    "### 4.3 基础模型分数"
   ]
  },
  {
   "cell_type": "code",
   "execution_count": 111,
   "metadata": {},
   "outputs": [],
   "source": [
    "#y_train归一化\n",
    "mm=MinMaxScaler()\n",
    "y_train43=mm.fit_transform(y_train.reshape(-1,1))"
   ]
  },
  {
   "cell_type": "code",
   "execution_count": 124,
   "metadata": {},
   "outputs": [],
   "source": [
    "x_train43=train327.values"
   ]
  },
  {
   "cell_type": "code",
   "execution_count": 125,
   "metadata": {},
   "outputs": [
    {
     "name": "stdout",
     "output_type": "stream",
     "text": [
      "model_xgb score:0.0674 (0.0004) \n",
      "\n"
     ]
    }
   ],
   "source": [
    "score = nmse_cv(model_xgb,x_train43,y_train43)\n",
    "# 验证结果返回1个分数，求均值和标准差\n",
    "print('model_xgb score:{:.4f} ({:.4f}) \\n'.format(score.mean(), score.std()))"
   ]
  },
  {
   "cell_type": "markdown",
   "metadata": {},
   "source": [
    "# 5 模型训练与预测"
   ]
  },
  {
   "cell_type": "markdown",
   "metadata": {},
   "source": [
    "### 5.1 定义评估函数"
   ]
  },
  {
   "cell_type": "code",
   "execution_count": 106,
   "metadata": {},
   "outputs": [],
   "source": [
    "# 均方差：MSE的值越小，预测模型具有更好的精确度\n",
    "def mse(y, y_pred):\n",
    "    return np.sqrt(mean_squared_error(y, y_pred))"
   ]
  },
  {
   "cell_type": "markdown",
   "metadata": {},
   "source": [
    "### 5.2 模型训练、评估、预测"
   ]
  },
  {
   "cell_type": "code",
   "execution_count": 126,
   "metadata": {},
   "outputs": [],
   "source": [
    "#训练集测试集8:2划分\n",
    "X_train,X_test,y_train,y_test=train_test_split(x_train43, y_train43, test_size=0.2, random_state=2020)"
   ]
  },
  {
   "cell_type": "code",
   "execution_count": 128,
   "metadata": {},
   "outputs": [
    {
     "name": "stdout",
     "output_type": "stream",
     "text": [
      "X_train (13855, 37)\n",
      "y_train (13855, 1)\n",
      "X_test (3464, 37)\n",
      "y_test (3464, 1)\n"
     ]
    },
    {
     "data": {
      "text/plain": [
       "array([[0.0000e+00, 2.0000e+00, 2.2000e+02, ..., 0.0000e+00, 0.0000e+00,\n",
       "        0.0000e+00],\n",
       "       [0.0000e+00, 1.0000e+00, 8.3000e+02, ..., 0.0000e+00, 0.0000e+00,\n",
       "        0.0000e+00],\n",
       "       [0.0000e+00, 1.0000e+00, 2.1800e+03, ..., 7.8480e+02, 0.0000e+00,\n",
       "        0.0000e+00],\n",
       "       ...,\n",
       "       [0.0000e+00, 3.0000e+00, 8.9700e+03, ..., 0.0000e+00, 0.0000e+00,\n",
       "        0.0000e+00],\n",
       "       [0.0000e+00, 1.0000e+00, 9.0800e+03, ..., 0.0000e+00, 3.6320e+02,\n",
       "        2.1792e+01],\n",
       "       [0.0000e+00, 3.0000e+00, 5.1300e+03, ..., 0.0000e+00, 0.0000e+00,\n",
       "        0.0000e+00]])"
      ]
     },
     "execution_count": 128,
     "metadata": {},
     "output_type": "execute_result"
    }
   ],
   "source": [
    "print('X_train',X_train.shape)\n",
    "print('y_train',y_train.shape)\n",
    "print('X_test',X_test.shape)\n",
    "print('y_test',y_test.shape)\n",
    "X_train"
   ]
  },
  {
   "cell_type": "code",
   "execution_count": 129,
   "metadata": {
    "scrolled": false
   },
   "outputs": [
    {
     "data": {
      "text/plain": [
       "XGBRegressor(base_score=0.5, booster=None, colsample_bylevel=1,\n",
       "             colsample_bynode=1, colsample_bytree=0.4603, gamma=0.0468,\n",
       "             gpu_id=-1, importance_type='gain', interaction_constraints=None,\n",
       "             learning_rate=0.05, max_delta_step=0, max_depth=3,\n",
       "             min_child_weight=1.7817, missing=nan, monotone_constraints=None,\n",
       "             n_estimators=2200, n_jobs=-1, nthread=-1, num_parallel_tree=1,\n",
       "             objective='reg:squarederror', random_state=7, reg_alpha=0.464,\n",
       "             reg_lambda=0.8571, scale_pos_weight=1, silent=1, subsample=0.5213,\n",
       "             tree_method=None, validate_parameters=False, verbosity=None)"
      ]
     },
     "execution_count": 129,
     "metadata": {},
     "output_type": "execute_result"
    },
    {
     "name": "stdout",
     "output_type": "stream",
     "text": [
      "0.0710739186571407\n"
     ]
    }
   ],
   "source": [
    "model_xgb.fit(X_train, y_train)\n",
    "xgb_train_pred = model_xgb.predict(X_test)\n",
    "print(mse(y_test, xgb_train_pred))"
   ]
  },
  {
   "cell_type": "code",
   "execution_count": 139,
   "metadata": {},
   "outputs": [],
   "source": [
    "#模型保存\n",
    "import joblib"
   ]
  },
  {
   "cell_type": "code",
   "execution_count": 141,
   "metadata": {},
   "outputs": [
    {
     "data": {
      "text/plain": [
       "['data//enterprise_profit_forecast/model/xgb.model']"
      ]
     },
     "execution_count": 141,
     "metadata": {},
     "output_type": "execute_result"
    }
   ],
   "source": [
    "joblib.dump(model_xgb,'data//enterprise_profit_forecast/model/xgb.model')"
   ]
  },
  {
   "cell_type": "code",
   "execution_count": null,
   "metadata": {},
   "outputs": [],
   "source": [
    "#加载模型\n",
    "# model_xgb=joblib.load('data//enterprise_profit_forecast/model/xgb.model')"
   ]
  },
  {
   "cell_type": "markdown",
   "metadata": {},
   "source": [
    "### 5.3 生成结果文件"
   ]
  },
  {
   "cell_type": "code",
   "execution_count": 131,
   "metadata": {},
   "outputs": [],
   "source": [
    "pre52=test327.values"
   ]
  },
  {
   "cell_type": "code",
   "execution_count": 134,
   "metadata": {},
   "outputs": [],
   "source": [
    "xgb_pred = np.expm1(model_xgb.predict(pre52))"
   ]
  },
  {
   "cell_type": "code",
   "execution_count": 135,
   "metadata": {},
   "outputs": [
    {
     "data": {
      "text/plain": [
       "array([0.2827106 , 0.26691648, 0.2659227 , ..., 0.2593621 , 0.31098577,\n",
       "       0.2810961 ], dtype=float32)"
      ]
     },
     "execution_count": 135,
     "metadata": {},
     "output_type": "execute_result"
    }
   ],
   "source": [
    "xgb_pred"
   ]
  },
  {
   "cell_type": "code",
   "execution_count": 137,
   "metadata": {},
   "outputs": [],
   "source": [
    "res = pd.DataFrame()\n",
    "res['Id'] = test_Id\n",
    "res['净利润'] = xgb_pred\n",
    "res.to_csv('data/enterprise_profit_forecast/output/res.txt', index=False)"
   ]
  }
 ],
 "metadata": {
  "kernelspec": {
   "display_name": "Python 3",
   "language": "python",
   "name": "python3"
  },
  "language_info": {
   "codemirror_mode": {
    "name": "ipython",
    "version": 3
   },
   "file_extension": ".py",
   "mimetype": "text/x-python",
   "name": "python",
   "nbconvert_exporter": "python",
   "pygments_lexer": "ipython3",
   "version": "3.7.4"
  }
 },
 "nbformat": 4,
 "nbformat_minor": 4
}
