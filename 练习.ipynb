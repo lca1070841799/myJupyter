{
 "cells": [
  {
   "cell_type": "code",
   "execution_count": 25,
   "metadata": {},
   "outputs": [],
   "source": [
    "import pandas as pd\n",
    "from pandas import read_csv\n",
    "import numpy as np"
   ]
  },
  {
   "cell_type": "code",
   "execution_count": 4,
   "metadata": {},
   "outputs": [],
   "source": [
    "#加载数据集中的前N条样本的句子，将标准句与其组成一个列表 数据集 前多少条样本\n",
    "data=read_csv('data/t2.txt',header=None)"
   ]
  },
  {
   "cell_type": "code",
   "execution_count": 48,
   "metadata": {},
   "outputs": [],
   "source": [
    "# list=[]\n",
    "res=np.append(data[0].values[:10],data[1].values[:10])\n",
    "res=np.append(['你好'],res)"
   ]
  },
  {
   "cell_type": "code",
   "execution_count": 49,
   "metadata": {},
   "outputs": [
    {
     "data": {
      "text/plain": [
       "(21,)"
      ]
     },
     "execution_count": 49,
     "metadata": {},
     "output_type": "execute_result"
    }
   ],
   "source": [
    "res.shape"
   ]
  },
  {
   "cell_type": "code",
   "execution_count": 50,
   "metadata": {},
   "outputs": [],
   "source": [
    "str=res.tolist()"
   ]
  },
  {
   "cell_type": "code",
   "execution_count": 51,
   "metadata": {},
   "outputs": [
    {
     "data": {
      "text/plain": [
       "['你好',\n",
       " '还钱需要哪些操作',\n",
       " '还钱需要哪些操作',\n",
       " '还钱需要哪些步骤',\n",
       " '还钱需要哪些步骤',\n",
       " '还钱需要进行什么操作',\n",
       " '还钱需要进行什么操作',\n",
       " '好人贷申请要什么资料',\n",
       " '好人贷申请要啥资料',\n",
       " '申请好人贷要准备啥资料',\n",
       " '好人贷要准备啥资料',\n",
       " '还钱需要进行什么操作',\n",
       " '还钱需要哪些步骤',\n",
       " '还钱需要进行什么操作',\n",
       " '还钱需要哪些操作',\n",
       " '还钱需要哪些操作',\n",
       " '还钱需要哪些步骤',\n",
       " '申请好人贷需要哪些资料',\n",
       " '申请好人贷需要哪些资料',\n",
       " '申请好人贷需要哪些资料',\n",
       " '申请好人贷需要哪些资料']"
      ]
     },
     "execution_count": 51,
     "metadata": {},
     "output_type": "execute_result"
    }
   ],
   "source": [
    "str"
   ]
  }
 ],
 "metadata": {
  "kernelspec": {
   "display_name": "Python 3",
   "language": "python",
   "name": "python3"
  },
  "language_info": {
   "codemirror_mode": {
    "name": "ipython",
    "version": 3
   },
   "file_extension": ".py",
   "mimetype": "text/x-python",
   "name": "python",
   "nbconvert_exporter": "python",
   "pygments_lexer": "ipython3",
   "version": "3.7.4"
  }
 },
 "nbformat": 4,
 "nbformat_minor": 2
}
