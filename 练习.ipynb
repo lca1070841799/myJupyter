{
 "cells": [
  {
   "cell_type": "code",
   "execution_count": 1,
   "metadata": {},
   "outputs": [],
   "source": [
    "import pandas as pd\n",
    "import numpy as np"
   ]
  },
  {
   "cell_type": "code",
   "execution_count": 32,
   "metadata": {},
   "outputs": [],
   "source": [
    "df=pd.read_csv('D:/datas/资料/研究生/实验室/智能客服/bert测试/标准问-相似问_4799.csv',header=None)"
   ]
  },
  {
   "cell_type": "code",
   "execution_count": 37,
   "metadata": {},
   "outputs": [],
   "source": [
    "lines=list(df.head(10)[1].values)"
   ]
  },
  {
   "cell_type": "code",
   "execution_count": 39,
   "metadata": {},
   "outputs": [
    {
     "data": {
      "text/html": [
       "<div>\n",
       "<style scoped>\n",
       "    .dataframe tbody tr th:only-of-type {\n",
       "        vertical-align: middle;\n",
       "    }\n",
       "\n",
       "    .dataframe tbody tr th {\n",
       "        vertical-align: top;\n",
       "    }\n",
       "\n",
       "    .dataframe thead th {\n",
       "        text-align: right;\n",
       "    }\n",
       "</style>\n",
       "<table border=\"1\" class=\"dataframe\">\n",
       "  <thead>\n",
       "    <tr style=\"text-align: right;\">\n",
       "      <th></th>\n",
       "      <th>0</th>\n",
       "      <th>1</th>\n",
       "      <th>2</th>\n",
       "    </tr>\n",
       "  </thead>\n",
       "  <tbody>\n",
       "    <tr>\n",
       "      <td>0</td>\n",
       "      <td>58车金融客服电话是多少</td>\n",
       "      <td>58金融公司的客服电话是多少</td>\n",
       "      <td>1</td>\n",
       "    </tr>\n",
       "    <tr>\n",
       "      <td>1</td>\n",
       "      <td>按期还款和任性还款的区别是什么</td>\n",
       "      <td>按期还款和任性还款的区别是什么</td>\n",
       "      <td>1</td>\n",
       "    </tr>\n",
       "    <tr>\n",
       "      <td>2</td>\n",
       "      <td>按期还款是什么</td>\n",
       "      <td>按期还款完后面就不会有多出的费用了把</td>\n",
       "      <td>1</td>\n",
       "    </tr>\n",
       "    <tr>\n",
       "      <td>3</td>\n",
       "      <td>白骑士认证失败是什么意思</td>\n",
       "      <td>白骑士认证失败</td>\n",
       "      <td>1</td>\n",
       "    </tr>\n",
       "    <tr>\n",
       "      <td>4</td>\n",
       "      <td>白骑士认证失败是什么意思</td>\n",
       "      <td>白骑士认证失败是什么意思呢</td>\n",
       "      <td>1</td>\n",
       "    </tr>\n",
       "    <tr>\n",
       "      <td>5</td>\n",
       "      <td>白骑士认证失败是什么意思</td>\n",
       "      <td>白骑士认证失败是怎么回事</td>\n",
       "      <td>1</td>\n",
       "    </tr>\n",
       "    <tr>\n",
       "      <td>6</td>\n",
       "      <td>白骑士认证失败是什么意思</td>\n",
       "      <td>显示白骑士认证失败</td>\n",
       "      <td>1</td>\n",
       "    </tr>\n",
       "    <tr>\n",
       "      <td>7</td>\n",
       "      <td>白骑士认证失败是什么意思</td>\n",
       "      <td>登陆显示白骑士认证失败是什么原因</td>\n",
       "      <td>1</td>\n",
       "    </tr>\n",
       "    <tr>\n",
       "      <td>8</td>\n",
       "      <td>半年得利提前支取影响已发放利息吗</td>\n",
       "      <td>季得利满180天取出不扣利息吗</td>\n",
       "      <td>1</td>\n",
       "    </tr>\n",
       "    <tr>\n",
       "      <td>9</td>\n",
       "      <td>绑定银行卡产生费用吗</td>\n",
       "      <td>绑定银行卡不收费吧</td>\n",
       "      <td>1</td>\n",
       "    </tr>\n",
       "  </tbody>\n",
       "</table>\n",
       "</div>"
      ],
      "text/plain": [
       "                  0                   1  2\n",
       "0      58车金融客服电话是多少      58金融公司的客服电话是多少  1\n",
       "1   按期还款和任性还款的区别是什么     按期还款和任性还款的区别是什么  1\n",
       "2           按期还款是什么  按期还款完后面就不会有多出的费用了把  1\n",
       "3      白骑士认证失败是什么意思             白骑士认证失败  1\n",
       "4      白骑士认证失败是什么意思       白骑士认证失败是什么意思呢  1\n",
       "5      白骑士认证失败是什么意思        白骑士认证失败是怎么回事  1\n",
       "6      白骑士认证失败是什么意思           显示白骑士认证失败  1\n",
       "7      白骑士认证失败是什么意思    登陆显示白骑士认证失败是什么原因  1\n",
       "8  半年得利提前支取影响已发放利息吗     季得利满180天取出不扣利息吗  1\n",
       "9        绑定银行卡产生费用吗           绑定银行卡不收费吧  1"
      ]
     },
     "execution_count": 39,
     "metadata": {},
     "output_type": "execute_result"
    }
   ],
   "source": [
    "df.head(10)"
   ]
  },
  {
   "cell_type": "code",
   "execution_count": 4,
   "metadata": {},
   "outputs": [],
   "source": [
    "df=pd.read_clipboard()"
   ]
  },
  {
   "cell_type": "code",
   "execution_count": 10,
   "metadata": {},
   "outputs": [
    {
     "data": {
      "text/plain": [
       "array([1., 1., 1., ..., 1., 1., 1.])"
      ]
     },
     "execution_count": 10,
     "metadata": {},
     "output_type": "execute_result"
    }
   ],
   "source": [
    "np.ones(4799)"
   ]
  },
  {
   "cell_type": "code",
   "execution_count": 29,
   "metadata": {},
   "outputs": [],
   "source": [
    "df2=pd.DataFrame({'标签':np.ones(4799,dtype=int)})"
   ]
  },
  {
   "cell_type": "code",
   "execution_count": 17,
   "metadata": {},
   "outputs": [],
   "source": [
    "df=df.join(df2)"
   ]
  },
  {
   "cell_type": "code",
   "execution_count": 28,
   "metadata": {},
   "outputs": [
    {
     "data": {
      "text/plain": [
       "False"
      ]
     },
     "execution_count": 28,
     "metadata": {},
     "output_type": "execute_result"
    }
   ],
   "source": [
    "df.index.duplicated().any()"
   ]
  },
  {
   "cell_type": "code",
   "execution_count": 30,
   "metadata": {
    "scrolled": true
   },
   "outputs": [
    {
     "data": {
      "text/html": [
       "<div>\n",
       "<style scoped>\n",
       "    .dataframe tbody tr th:only-of-type {\n",
       "        vertical-align: middle;\n",
       "    }\n",
       "\n",
       "    .dataframe tbody tr th {\n",
       "        vertical-align: top;\n",
       "    }\n",
       "\n",
       "    .dataframe thead th {\n",
       "        text-align: right;\n",
       "    }\n",
       "</style>\n",
       "<table border=\"1\" class=\"dataframe\">\n",
       "  <thead>\n",
       "    <tr style=\"text-align: right;\">\n",
       "      <th></th>\n",
       "      <th>标准问</th>\n",
       "      <th>相似问</th>\n",
       "      <th>标签：</th>\n",
       "    </tr>\n",
       "  </thead>\n",
       "  <tbody>\n",
       "    <tr>\n",
       "      <td>0</td>\n",
       "      <td>58车金融客服电话是多少</td>\n",
       "      <td>58金融公司的客服电话是多少</td>\n",
       "      <td>1</td>\n",
       "    </tr>\n",
       "    <tr>\n",
       "      <td>1</td>\n",
       "      <td>按期还款和任性还款的区别是什么</td>\n",
       "      <td>按期还款和任性还款的区别是什么</td>\n",
       "      <td>1</td>\n",
       "    </tr>\n",
       "    <tr>\n",
       "      <td>2</td>\n",
       "      <td>按期还款是什么</td>\n",
       "      <td>按期还款完后面就不会有多出的费用了把</td>\n",
       "      <td>1</td>\n",
       "    </tr>\n",
       "    <tr>\n",
       "      <td>3</td>\n",
       "      <td>白骑士认证失败是什么意思</td>\n",
       "      <td>白骑士认证失败</td>\n",
       "      <td>1</td>\n",
       "    </tr>\n",
       "    <tr>\n",
       "      <td>4</td>\n",
       "      <td>白骑士认证失败是什么意思</td>\n",
       "      <td>白骑士认证失败是什么意思呢</td>\n",
       "      <td>1</td>\n",
       "    </tr>\n",
       "    <tr>\n",
       "      <td>...</td>\n",
       "      <td>...</td>\n",
       "      <td>...</td>\n",
       "      <td>...</td>\n",
       "    </tr>\n",
       "    <tr>\n",
       "      <td>4794</td>\n",
       "      <td>新网银行存款产品为何暂停交易</td>\n",
       "      <td>陆金所的季得利停售了吗</td>\n",
       "      <td>1</td>\n",
       "    </tr>\n",
       "    <tr>\n",
       "      <td>4795</td>\n",
       "      <td>存款产品如何修改手机号</td>\n",
       "      <td>修改京东金融电子账户的手机号码</td>\n",
       "      <td>1</td>\n",
       "    </tr>\n",
       "    <tr>\n",
       "      <td>4796</td>\n",
       "      <td>下一次开放时间是什么意思</td>\n",
       "      <td>下次开放时间是什么意思</td>\n",
       "      <td>1</td>\n",
       "    </tr>\n",
       "    <tr>\n",
       "      <td>4797</td>\n",
       "      <td>存款产品支取通用路径</td>\n",
       "      <td>怎么提前支取</td>\n",
       "      <td>1</td>\n",
       "    </tr>\n",
       "    <tr>\n",
       "      <td>4798</td>\n",
       "      <td>存款产品支取通用路径</td>\n",
       "      <td>怎么支取</td>\n",
       "      <td>1</td>\n",
       "    </tr>\n",
       "  </tbody>\n",
       "</table>\n",
       "<p>4799 rows × 3 columns</p>\n",
       "</div>"
      ],
      "text/plain": [
       "                  标准问                 相似问  标签：\n",
       "0        58车金融客服电话是多少      58金融公司的客服电话是多少    1\n",
       "1     按期还款和任性还款的区别是什么     按期还款和任性还款的区别是什么    1\n",
       "2             按期还款是什么  按期还款完后面就不会有多出的费用了把    1\n",
       "3        白骑士认证失败是什么意思             白骑士认证失败    1\n",
       "4        白骑士认证失败是什么意思       白骑士认证失败是什么意思呢    1\n",
       "...               ...                 ...  ...\n",
       "4794   新网银行存款产品为何暂停交易         陆金所的季得利停售了吗    1\n",
       "4795      存款产品如何修改手机号     修改京东金融电子账户的手机号码    1\n",
       "4796     下一次开放时间是什么意思         下次开放时间是什么意思    1\n",
       "4797       存款产品支取通用路径              怎么提前支取    1\n",
       "4798       存款产品支取通用路径                怎么支取    1\n",
       "\n",
       "[4799 rows x 3 columns]"
      ]
     },
     "execution_count": 30,
     "metadata": {},
     "output_type": "execute_result"
    }
   ],
   "source": [
    "df"
   ]
  },
  {
   "cell_type": "code",
   "execution_count": 31,
   "metadata": {},
   "outputs": [],
   "source": [
    "df.to_csv('D:/datas/资料/研究生/实验室/智能客服/bert测试/标准问-相似问_4799.csv',index=False,header=None)"
   ]
  },
  {
   "cell_type": "code",
   "execution_count": 88,
   "metadata": {},
   "outputs": [],
   "source": [
    "\n",
    "df2=pd.read_json('D:/Download/Dataset/蚂蚁金服语义数据集/train.json',orient='records',lines=True,encoding='utf-8')\n",
    "df3=pd.read_json('D:/Download/Dataset/蚂蚁金服语义数据集/test.json',orient='records',lines=True,encoding='utf-8')"
   ]
  },
  {
   "cell_type": "code",
   "execution_count": 89,
   "metadata": {},
   "outputs": [],
   "source": [
    "df2.to_csv('D:/Download/Dataset/蚂蚁金服语义数据集/train.csv',header=None,index=False)\n",
    "df3.to_csv('D:/Download/Dataset/蚂蚁金服语义数据集/test.csv',header=None,index=False)"
   ]
  },
  {
   "cell_type": "code",
   "execution_count": 68,
   "metadata": {},
   "outputs": [],
   "source": [
    "df=pd.read_csv('D:/project/bert/bert_dataset/bq/500/train.csv',header=None)\n"
   ]
  },
  {
   "cell_type": "code",
   "execution_count": 77,
   "metadata": {},
   "outputs": [
    {
     "data": {
      "text/plain": [
       "0    251\n",
       "1    249\n",
       "Name: 2, dtype: int64"
      ]
     },
     "execution_count": 77,
     "metadata": {},
     "output_type": "execute_result"
    }
   ],
   "source": [
    "df[2].value_counts()"
   ]
  },
  {
   "cell_type": "code",
   "execution_count": 70,
   "metadata": {},
   "outputs": [],
   "source": [
    "df1=pd.DataFrame(df[0].values,columns=['str'])\n",
    "df2=pd.DataFrame(df[1].values,columns=['str'])\n",
    "df3=df1.append(df2).reset_index(drop=True)"
   ]
  },
  {
   "cell_type": "code",
   "execution_count": 72,
   "metadata": {},
   "outputs": [],
   "source": [
    "df3.to_csv('D:/project/bert/bert_dataset/bq/500/标准问1000-bq500train.csv',header=None,index=False)"
   ]
  },
  {
   "cell_type": "code",
   "execution_count": 65,
   "metadata": {},
   "outputs": [],
   "source": [
    "df1=pd.read_csv('D:/project/bert/bert_dataset/bq/500/train.tsv',header=None,sep='\\t')\n",
    "df2=pd.read_csv('D:/project/bert/bert_dataset/bq/500/test.tsv',header=None,sep='\\t')\n",
    "df3=pd.read_csv('D:/project/bert/bert_dataset/bq/500/dev.tsv',header=None,sep='\\t')"
   ]
  },
  {
   "cell_type": "code",
   "execution_count": 67,
   "metadata": {},
   "outputs": [],
   "source": [
    "df1.to_csv('D:/project/bert/bert_dataset/bq/500/train.csv',header=None,index=False)\n",
    "df2.to_csv('D:/project/bert/bert_dataset/bq/500/test.csv',header=None,index=False)\n",
    "df3.to_csv('D:/project/bert/bert_dataset/bq/500/dev.csv',header=None,index=False)"
   ]
  },
  {
   "cell_type": "code",
   "execution_count": 25,
   "metadata": {},
   "outputs": [],
   "source": [
    "df=pd.read_csv('D:/datas/资料/研究生/实验室/智能客服/bert测试/010/001/train.csv',header=None)"
   ]
  },
  {
   "cell_type": "code",
   "execution_count": 48,
   "metadata": {},
   "outputs": [],
   "source": [
    "df1=pd.DataFrame(df[0].values,columns=['str'])\n",
    "df2=pd.DataFrame(df[1].values,columns=['str'])"
   ]
  },
  {
   "cell_type": "code",
   "execution_count": 61,
   "metadata": {},
   "outputs": [],
   "source": [
    "df3=df1.append(df2).reset_index(drop=True)"
   ]
  },
  {
   "cell_type": "code",
   "execution_count": 55,
   "metadata": {},
   "outputs": [],
   "source": [
    "df4=df3.duplicated()"
   ]
  },
  {
   "cell_type": "code",
   "execution_count": 63,
   "metadata": {},
   "outputs": [],
   "source": [
    "df3.to_csv('D:/datas/资料/研究生/实验室/智能客服/bert测试/010/001/标准问185_001train.csv',header=None,index=False)"
   ]
  },
  {
   "cell_type": "code",
   "execution_count": 19,
   "metadata": {},
   "outputs": [],
   "source": [
    "tp1=(1,)"
   ]
  },
  {
   "cell_type": "code",
   "execution_count": 22,
   "metadata": {},
   "outputs": [
    {
     "data": {
      "text/plain": [
       "tuple"
      ]
     },
     "execution_count": 22,
     "metadata": {},
     "output_type": "execute_result"
    }
   ],
   "source": [
    "type(tp1)"
   ]
  },
  {
   "cell_type": "code",
   "execution_count": 8,
   "metadata": {},
   "outputs": [],
   "source": [
    "tp1=(1,2,3)\n",
    "tp2=(4,5,6)\n",
    "arr1=np.array(tp1)\n",
    "arr2=np.array(tp2)"
   ]
  },
  {
   "cell_type": "code",
   "execution_count": 10,
   "metadata": {},
   "outputs": [],
   "source": [
    "f1_all=(2*arr1*arr2)/(arr1+arr2)"
   ]
  },
  {
   "cell_type": "code",
   "execution_count": 15,
   "metadata": {},
   "outputs": [
    {
     "data": {
      "text/plain": [
       "2.8166666666666664"
      ]
     },
     "execution_count": 15,
     "metadata": {},
     "output_type": "execute_result"
    }
   ],
   "source": [
    "(1.6+2.85+4)/3"
   ]
  },
  {
   "cell_type": "code",
   "execution_count": 13,
   "metadata": {},
   "outputs": [
    {
     "name": "stdout",
     "output_type": "stream",
     "text": [
      "[1.6        2.85714286 4.        ]\n"
     ]
    },
    {
     "data": {
      "text/plain": [
       "2.8190476190476192"
      ]
     },
     "execution_count": 13,
     "metadata": {},
     "output_type": "execute_result"
    }
   ],
   "source": [
    "print(f1_all)\n",
    "f1_all.mean()"
   ]
  },
  {
   "cell_type": "code",
   "execution_count": 21,
   "metadata": {},
   "outputs": [],
   "source": [
    "df=pd.read_csv('data/train.csv',header=None)"
   ]
  },
  {
   "cell_type": "code",
   "execution_count": 23,
   "metadata": {},
   "outputs": [
    {
     "data": {
      "text/plain": [
       "1    92\n",
       "0    36\n",
       "Name: 2, dtype: int64"
      ]
     },
     "execution_count": 23,
     "metadata": {},
     "output_type": "execute_result"
    }
   ],
   "source": [
    "df[2].value_counts()"
   ]
  },
  {
   "cell_type": "code",
   "execution_count": 16,
   "metadata": {
    "collapsed": true
   },
   "outputs": [
    {
     "name": "stderr",
     "output_type": "stream",
     "text": [
      "b'Skipping line 3125: expected 1 fields, saw 2\\n'\n"
     ]
    }
   ],
   "source": [
    "df=pd.read_csv('data/相似问.csv',header=None,error_bad_lines=False)"
   ]
  },
  {
   "cell_type": "code",
   "execution_count": 17,
   "metadata": {},
   "outputs": [
    {
     "data": {
      "text/plain": [
       "(4797, 1)"
      ]
     },
     "execution_count": 17,
     "metadata": {},
     "output_type": "execute_result"
    }
   ],
   "source": [
    "df.shape"
   ]
  },
  {
   "cell_type": "code",
   "execution_count": 18,
   "metadata": {},
   "outputs": [],
   "source": [
    "df1=df.drop_duplicates()"
   ]
  },
  {
   "cell_type": "code",
   "execution_count": 19,
   "metadata": {},
   "outputs": [
    {
     "data": {
      "text/plain": [
       "4797"
      ]
     },
     "execution_count": 19,
     "metadata": {},
     "output_type": "execute_result"
    }
   ],
   "source": [
    "df1.shape[0]"
   ]
  },
  {
   "cell_type": "code",
   "execution_count": 20,
   "metadata": {},
   "outputs": [],
   "source": [
    "df1.to_csv('output/相似问4797_2019-12.csv',header=None,index=False)"
   ]
  },
  {
   "cell_type": "code",
   "execution_count": 13,
   "metadata": {},
   "outputs": [],
   "source": [
    "df=pd.read_csv('output/train.tsv',sep='\\t',header=None)"
   ]
  },
  {
   "cell_type": "code",
   "execution_count": 26,
   "metadata": {
    "collapsed": true
   },
   "outputs": [
    {
     "data": {
      "text/html": [
       "<div>\n",
       "<style scoped>\n",
       "    .dataframe tbody tr th:only-of-type {\n",
       "        vertical-align: middle;\n",
       "    }\n",
       "\n",
       "    .dataframe tbody tr th {\n",
       "        vertical-align: top;\n",
       "    }\n",
       "\n",
       "    .dataframe thead th {\n",
       "        text-align: right;\n",
       "    }\n",
       "</style>\n",
       "<table border=\"1\" class=\"dataframe\">\n",
       "  <thead>\n",
       "    <tr style=\"text-align: right;\">\n",
       "      <th></th>\n",
       "      <th>0</th>\n",
       "    </tr>\n",
       "  </thead>\n",
       "  <tbody>\n",
       "    <tr>\n",
       "      <td>0</td>\n",
       "      <td>微粒贷图案突然不见了是怎么回事,以前有微粒贷页面，现在不见了怎么办啊,1.0</td>\n",
       "    </tr>\n",
       "    <tr>\n",
       "      <td>1</td>\n",
       "      <td>换卡后能赶上今天的移动扣款么,换卡处理时间,0.0</td>\n",
       "    </tr>\n",
       "    <tr>\n",
       "      <td>2</td>\n",
       "      <td>开户失败,还是开不了,1.0</td>\n",
       "    </tr>\n",
       "    <tr>\n",
       "      <td>3</td>\n",
       "      <td>我把联众银行删除去,还款会不会在到期前两天通知应还款金额,0.0</td>\n",
       "    </tr>\n",
       "    <tr>\n",
       "      <td>4</td>\n",
       "      <td>借款如何取消,可否取消,0.0</td>\n",
       "    </tr>\n",
       "    <tr>\n",
       "      <td>...</td>\n",
       "      <td>...</td>\n",
       "    </tr>\n",
       "    <tr>\n",
       "      <td>995</td>\n",
       "      <td>借款取消,刚刚提交的贷款申请可以取消吗？,1.0</td>\n",
       "    </tr>\n",
       "    <tr>\n",
       "      <td>996</td>\n",
       "      <td>借款后多久电话审核,昨晚申请借款后为什么没有来电就说工作人员联系过我了？,0.0</td>\n",
       "    </tr>\n",
       "    <tr>\n",
       "      <td>997</td>\n",
       "      <td>怎么我的齐鲁设有显示了，求解释,你好 这两天我的微众账户的“齐鲁稳固21（0303）”没办法...</td>\n",
       "    </tr>\n",
       "    <tr>\n",
       "      <td>998</td>\n",
       "      <td>解绑,菜单,0.0</td>\n",
       "    </tr>\n",
       "    <tr>\n",
       "      <td>999</td>\n",
       "      <td>你好 如果一共借2万 用几天 提前还款 利息是不是就算这几天的？,不可以提前还款吗,1.0</td>\n",
       "    </tr>\n",
       "  </tbody>\n",
       "</table>\n",
       "<p>1000 rows × 1 columns</p>\n",
       "</div>"
      ],
      "text/plain": [
       "                                                     0\n",
       "0               微粒贷图案突然不见了是怎么回事,以前有微粒贷页面，现在不见了怎么办啊,1.0\n",
       "1                            换卡后能赶上今天的移动扣款么,换卡处理时间,0.0\n",
       "2                                       开户失败,还是开不了,1.0\n",
       "3                     我把联众银行删除去,还款会不会在到期前两天通知应还款金额,0.0\n",
       "4                                      借款如何取消,可否取消,0.0\n",
       "..                                                 ...\n",
       "995                           借款取消,刚刚提交的贷款申请可以取消吗？,1.0\n",
       "996           借款后多久电话审核,昨晚申请借款后为什么没有来电就说工作人员联系过我了？,0.0\n",
       "997  怎么我的齐鲁设有显示了，求解释,你好 这两天我的微众账户的“齐鲁稳固21（0303）”没办法...\n",
       "998                                          解绑,菜单,0.0\n",
       "999      你好 如果一共借2万 用几天 提前还款 利息是不是就算这几天的？,不可以提前还款吗,1.0\n",
       "\n",
       "[1000 rows x 1 columns]"
      ]
     },
     "execution_count": 26,
     "metadata": {},
     "output_type": "execute_result"
    }
   ],
   "source": [
    "df"
   ]
  },
  {
   "cell_type": "code",
   "execution_count": 5,
   "metadata": {
    "collapsed": true
   },
   "outputs": [
    {
     "name": "stderr",
     "output_type": "stream",
     "text": [
      "b'Skipping line 20746: expected 3 fields, saw 4\\nSkipping line 54107: expected 3 fields, saw 4\\nSkipping line 65083: expected 3 fields, saw 4\\nSkipping line 69869: expected 3 fields, saw 4\\n'\n"
     ]
    }
   ],
   "source": [
    "train=pd.read_csv('D:/project/bert/bert_dataset/bq/train.txt',sep='\\t',header=None,error_bad_lines=False)\n",
    "dev=pd.read_csv('D:/project/bert/bert_dataset/bq/dev.txt',sep='\\t',header=None,error_bad_lines=False)\n",
    "test=pd.read_csv('D:/project/bert/bert_dataset/bq/test.txt',sep='\\t',header=None,error_bad_lines=False)"
   ]
  },
  {
   "cell_type": "code",
   "execution_count": 35,
   "metadata": {},
   "outputs": [],
   "source": [
    "df1=train.sample(500)\n",
    "df2=dev.sample(50)\n",
    "df3=test.sample(50)"
   ]
  },
  {
   "cell_type": "code",
   "execution_count": 36,
   "metadata": {},
   "outputs": [],
   "source": [
    "df1[2]=df1[2].astype('int')\n",
    "df2[2]=df2[2].astype('int')\n",
    "df3[2]=df2[2].astype('int')"
   ]
  },
  {
   "cell_type": "code",
   "execution_count": 32,
   "metadata": {},
   "outputs": [
    {
     "data": {
      "text/html": [
       "<div>\n",
       "<style scoped>\n",
       "    .dataframe tbody tr th:only-of-type {\n",
       "        vertical-align: middle;\n",
       "    }\n",
       "\n",
       "    .dataframe tbody tr th {\n",
       "        vertical-align: top;\n",
       "    }\n",
       "\n",
       "    .dataframe thead th {\n",
       "        text-align: right;\n",
       "    }\n",
       "</style>\n",
       "<table border=\"1\" class=\"dataframe\">\n",
       "  <thead>\n",
       "    <tr style=\"text-align: right;\">\n",
       "      <th></th>\n",
       "      <th>0</th>\n",
       "      <th>1</th>\n",
       "      <th>2</th>\n",
       "    </tr>\n",
       "  </thead>\n",
       "  <tbody>\n",
       "    <tr>\n",
       "      <td>37262</td>\n",
       "      <td>微粒贷图案突然不见了是怎么回事</td>\n",
       "      <td>以前有微粒贷页面，现在不见了怎么办啊</td>\n",
       "      <td>1</td>\n",
       "    </tr>\n",
       "    <tr>\n",
       "      <td>79743</td>\n",
       "      <td>换卡后能赶上今天的移动扣款么</td>\n",
       "      <td>换卡处理时间</td>\n",
       "      <td>0</td>\n",
       "    </tr>\n",
       "    <tr>\n",
       "      <td>85996</td>\n",
       "      <td>开户失败</td>\n",
       "      <td>还是开不了</td>\n",
       "      <td>1</td>\n",
       "    </tr>\n",
       "    <tr>\n",
       "      <td>65369</td>\n",
       "      <td>我把联众银行删除去</td>\n",
       "      <td>还款会不会在到期前两天通知应还款金额</td>\n",
       "      <td>0</td>\n",
       "    </tr>\n",
       "    <tr>\n",
       "      <td>25085</td>\n",
       "      <td>借款如何取消</td>\n",
       "      <td>可否取消</td>\n",
       "      <td>0</td>\n",
       "    </tr>\n",
       "    <tr>\n",
       "      <td>...</td>\n",
       "      <td>...</td>\n",
       "      <td>...</td>\n",
       "      <td>...</td>\n",
       "    </tr>\n",
       "    <tr>\n",
       "      <td>41247</td>\n",
       "      <td>借款取消</td>\n",
       "      <td>刚刚提交的贷款申请可以取消吗？</td>\n",
       "      <td>1</td>\n",
       "    </tr>\n",
       "    <tr>\n",
       "      <td>25428</td>\n",
       "      <td>借款后多久电话审核</td>\n",
       "      <td>昨晚申请借款后为什么没有来电就说工作人员联系过我了？</td>\n",
       "      <td>0</td>\n",
       "    </tr>\n",
       "    <tr>\n",
       "      <td>23984</td>\n",
       "      <td>怎么我的齐鲁设有显示了，求解释</td>\n",
       "      <td>你好 这两天我的微众账户的“齐鲁稳固21（0303）”没办法修改到期后安排。</td>\n",
       "      <td>0</td>\n",
       "    </tr>\n",
       "    <tr>\n",
       "      <td>17297</td>\n",
       "      <td>解绑</td>\n",
       "      <td>菜单</td>\n",
       "      <td>0</td>\n",
       "    </tr>\n",
       "    <tr>\n",
       "      <td>7683</td>\n",
       "      <td>你好 如果一共借2万 用几天 提前还款 利息是不是就算这几天的？</td>\n",
       "      <td>不可以提前还款吗</td>\n",
       "      <td>1</td>\n",
       "    </tr>\n",
       "  </tbody>\n",
       "</table>\n",
       "<p>1000 rows × 3 columns</p>\n",
       "</div>"
      ],
      "text/plain": [
       "                                      0  \\\n",
       "37262                   微粒贷图案突然不见了是怎么回事   \n",
       "79743                    换卡后能赶上今天的移动扣款么   \n",
       "85996                              开户失败   \n",
       "65369                         我把联众银行删除去   \n",
       "25085                            借款如何取消   \n",
       "...                                 ...   \n",
       "41247                              借款取消   \n",
       "25428                         借款后多久电话审核   \n",
       "23984                   怎么我的齐鲁设有显示了，求解释   \n",
       "17297                                解绑   \n",
       "7683   你好 如果一共借2万 用几天 提前还款 利息是不是就算这几天的？   \n",
       "\n",
       "                                            1  2  \n",
       "37262                      以前有微粒贷页面，现在不见了怎么办啊  1  \n",
       "79743                                  换卡处理时间  0  \n",
       "85996                                   还是开不了  1  \n",
       "65369                      还款会不会在到期前两天通知应还款金额  0  \n",
       "25085                                    可否取消  0  \n",
       "...                                       ... ..  \n",
       "41247                         刚刚提交的贷款申请可以取消吗？  1  \n",
       "25428              昨晚申请借款后为什么没有来电就说工作人员联系过我了？  0  \n",
       "23984  你好 这两天我的微众账户的“齐鲁稳固21（0303）”没办法修改到期后安排。  0  \n",
       "17297                                      菜单  0  \n",
       "7683                                 不可以提前还款吗  1  \n",
       "\n",
       "[1000 rows x 3 columns]"
      ]
     },
     "execution_count": 32,
     "metadata": {},
     "output_type": "execute_result"
    }
   ],
   "source": [
    "df1"
   ]
  },
  {
   "cell_type": "code",
   "execution_count": 37,
   "metadata": {},
   "outputs": [],
   "source": [
    "df1.to_csv('output/train.tsv',header=None,index=False,sep='\\t')\n",
    "df2.to_csv('output/dev.tsv',header=None,index=False,sep='\\t')\n",
    "df3.to_csv('output/test.tsv',header=None,index=False,sep='\\t')"
   ]
  },
  {
   "cell_type": "code",
   "execution_count": 29,
   "metadata": {
    "scrolled": false
   },
   "outputs": [],
   "source": [
    "df_1=pd.read_csv('data/xinwang_1.txt',header=None)\n",
    "df_0=pd.read_csv('data/4000_0.txt',header=None)"
   ]
  },
  {
   "cell_type": "code",
   "execution_count": 6,
   "metadata": {},
   "outputs": [],
   "source": [
    "df_1=df_1.sample(frac=1)"
   ]
  },
  {
   "cell_type": "code",
   "execution_count": 30,
   "metadata": {},
   "outputs": [],
   "source": [
    "df_1=df_1[~df_1[0].str.contains('客户通过--场景入口')]"
   ]
  },
  {
   "cell_type": "code",
   "execution_count": 31,
   "metadata": {},
   "outputs": [],
   "source": [
    "n=df_1.shape[0]"
   ]
  },
  {
   "cell_type": "code",
   "execution_count": 32,
   "metadata": {},
   "outputs": [],
   "source": [
    "df_0=df_0.sample(n=n)"
   ]
  },
  {
   "cell_type": "code",
   "execution_count": 35,
   "metadata": {},
   "outputs": [],
   "source": [
    "df1=df_1.reset_index(drop=True)\n",
    "df0=df_0.reset_index(drop=True)"
   ]
  },
  {
   "cell_type": "code",
   "execution_count": 39,
   "metadata": {},
   "outputs": [],
   "source": [
    "df=df1.append(df0)"
   ]
  },
  {
   "cell_type": "code",
   "execution_count": 41,
   "metadata": {},
   "outputs": [],
   "source": [
    "df=df.reset_index(drop=True)"
   ]
  },
  {
   "cell_type": "code",
   "execution_count": 43,
   "metadata": {},
   "outputs": [],
   "source": [
    "df.to_csv('output/alldata.csv',header=None,index=False)"
   ]
  },
  {
   "cell_type": "code",
   "execution_count": 51,
   "metadata": {},
   "outputs": [],
   "source": [
    "df_bas=pd.DataFrame(df1[1])"
   ]
  },
  {
   "cell_type": "code",
   "execution_count": 55,
   "metadata": {},
   "outputs": [],
   "source": [
    "df_basic=df_bas[~df_bas[1].str.contains('客户通过--场景入口')]"
   ]
  },
  {
   "cell_type": "code",
   "execution_count": 70,
   "metadata": {},
   "outputs": [],
   "source": [
    "df_basic1=df_basic[df_basic[1].str.contains('？')]"
   ]
  },
  {
   "cell_type": "code",
   "execution_count": 78,
   "metadata": {},
   "outputs": [],
   "source": [
    "res=df_basic[1].str.replace('？','')"
   ]
  },
  {
   "cell_type": "code",
   "execution_count": 80,
   "metadata": {},
   "outputs": [],
   "source": [
    "res=pd.DataFrame(res)"
   ]
  },
  {
   "cell_type": "code",
   "execution_count": 81,
   "metadata": {},
   "outputs": [],
   "source": [
    "res.to_csv('output/sentences.csv',header=None,index=False)"
   ]
  },
  {
   "cell_type": "code",
   "execution_count": 82,
   "metadata": {},
   "outputs": [],
   "source": [
    "query=[1,2]\n",
    "library=[2,1,3]\n",
    "sim_list=[[0.2,1,0.3],[1,0.1,0.3]]"
   ]
  },
  {
   "cell_type": "code",
   "execution_count": 101,
   "metadata": {},
   "outputs": [
    {
     "name": "stdout",
     "output_type": "stream",
     "text": [
      "用户查询： 1\n",
      "   语句  相似度\n",
      "1   1  1.0\n",
      "2   3  0.3\n",
      "0   2  0.2\n",
      "用户查询： 2\n",
      "   语句  相似度\n",
      "0   2  1.0\n",
      "2   3  0.3\n",
      "1   1  0.1\n"
     ]
    }
   ],
   "source": [
    "\n",
    "for idx,elem in enumerate(query):\n",
    "    df=pd.DataFrame({\n",
    "                    '语句':library,\n",
    "                     '相似度':sim_list[idx]\n",
    "                    }).sort_values(by='相似度',ascending=False)\n",
    "#     df=df.sort_values(by='相似度',ascending=False)\n",
    "    print('用户查询：',elem)\n",
    "    print(df)"
   ]
  },
  {
   "cell_type": "code",
   "execution_count": 102,
   "metadata": {},
   "outputs": [],
   "source": [
    "data=pd.read_csv('output/sentences.csv',header=None)\n"
   ]
  },
  {
   "cell_type": "code",
   "execution_count": 104,
   "metadata": {},
   "outputs": [],
   "source": [
    "d1=data.drop_duplicates()"
   ]
  },
  {
   "cell_type": "code",
   "execution_count": 105,
   "metadata": {},
   "outputs": [],
   "source": [
    "d1.to_csv('output/sentences.csv',header=None,index=False)"
   ]
  }
 ],
 "metadata": {
  "kernelspec": {
   "display_name": "Python 3",
   "language": "python",
   "name": "python3"
  },
  "language_info": {
   "codemirror_mode": {
    "name": "ipython",
    "version": 3
   },
   "file_extension": ".py",
   "mimetype": "text/x-python",
   "name": "python",
   "nbconvert_exporter": "python",
   "pygments_lexer": "ipython3",
   "version": "3.7.4"
  }
 },
 "nbformat": 4,
 "nbformat_minor": 2
}
