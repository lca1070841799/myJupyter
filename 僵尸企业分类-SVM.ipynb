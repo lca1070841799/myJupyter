{
 "cells": [
  {
   "cell_type": "code",
   "execution_count": 171,
   "metadata": {},
   "outputs": [],
   "source": [
    "# -*- coding: utf-8 -*-\n",
    "from pandas import read_csv\n",
    "from sklearn.svm import SVC\n",
    "from sklearn.preprocessing import MinMaxScaler\n",
    "from sklearn.model_selection import train_test_split\n",
    "from sklearn.model_selection import GridSearchCV\n",
    "from sklearn import preprocessing  # 预处理模块\n",
    "import numpy as np\n",
    "import pandas as pd\n",
    "import time\n",
    "\n",
    "import warnings\n",
    "warnings.filterwarnings(\"ignore\")"
   ]
  },
  {
   "cell_type": "markdown",
   "metadata": {},
   "source": [
    "# 加载数据集与预处理"
   ]
  },
  {
   "cell_type": "code",
   "execution_count": 381,
   "metadata": {},
   "outputs": [],
   "source": [
    "#加载训练集\n",
    "df_base=read_csv(\"data/base-train.csv\",encoding='gbk')# 加载base数据集，gbk编码读取中文字符\n",
    "df_knowledge=read_csv(\"data/knowledge-train.csv\")#加载knowlege数据集\n",
    "df_money=read_csv(\"data/money-train.csv\")#加载money数据集\n",
    "df_year=read_csv(\"data/year-train.csv\",encoding='gbk')#加载year数据集\n",
    "\n",
    "#同样方法加载测试集\n",
    "df_baseT=read_csv(\"data/base-test.csv\")# 加载base数据集，gbk编码读取中文字符\n",
    "df_knowledgeT=read_csv(\"data/knowledge-test.csv\")#加载knowlege数据集\n",
    "df_moneyT=read_csv(\"data/money-test.csv\")#加载money数据集\n",
    "df_yearT=read_csv(\"data/year-test.csv\",encoding='gbk')#加载year数据集"
   ]
  },
  {
   "cell_type": "code",
   "execution_count": 282,
   "metadata": {
    "collapsed": true
   },
   "outputs": [
    {
     "data": {
      "text/html": [
       "<div>\n",
       "<style scoped>\n",
       "    .dataframe tbody tr th:only-of-type {\n",
       "        vertical-align: middle;\n",
       "    }\n",
       "\n",
       "    .dataframe tbody tr th {\n",
       "        vertical-align: top;\n",
       "    }\n",
       "\n",
       "    .dataframe thead th {\n",
       "        text-align: right;\n",
       "    }\n",
       "</style>\n",
       "<table border=\"1\" class=\"dataframe\">\n",
       "  <thead>\n",
       "    <tr style=\"text-align: right;\">\n",
       "      <th></th>\n",
       "      <th>ID</th>\n",
       "      <th>注册时间</th>\n",
       "      <th>注册资本</th>\n",
       "      <th>行业</th>\n",
       "      <th>区域</th>\n",
       "      <th>企业类型</th>\n",
       "      <th>控制人类型</th>\n",
       "      <th>控制人持股比例</th>\n",
       "      <th>flag</th>\n",
       "    </tr>\n",
       "  </thead>\n",
       "  <tbody>\n",
       "    <tr>\n",
       "      <td>0</td>\n",
       "      <td>5986361</td>\n",
       "      <td>2014.0</td>\n",
       "      <td>7090.0</td>\n",
       "      <td>服务业</td>\n",
       "      <td>湖北</td>\n",
       "      <td>有限责任公司</td>\n",
       "      <td>自然人</td>\n",
       "      <td>0.93</td>\n",
       "      <td>0</td>\n",
       "    </tr>\n",
       "    <tr>\n",
       "      <td>1</td>\n",
       "      <td>5991749</td>\n",
       "      <td>2007.0</td>\n",
       "      <td>5940.0</td>\n",
       "      <td>零售业</td>\n",
       "      <td>湖南</td>\n",
       "      <td>合伙企业</td>\n",
       "      <td>企业法人</td>\n",
       "      <td>0.57</td>\n",
       "      <td>0</td>\n",
       "    </tr>\n",
       "    <tr>\n",
       "      <td>2</td>\n",
       "      <td>5998154</td>\n",
       "      <td>2002.0</td>\n",
       "      <td>9720.0</td>\n",
       "      <td>工业</td>\n",
       "      <td>福建</td>\n",
       "      <td>合伙企业</td>\n",
       "      <td>自然人</td>\n",
       "      <td>0.74</td>\n",
       "      <td>0</td>\n",
       "    </tr>\n",
       "    <tr>\n",
       "      <td>3</td>\n",
       "      <td>5984390</td>\n",
       "      <td>2000.0</td>\n",
       "      <td>4800.0</td>\n",
       "      <td>商业服务业</td>\n",
       "      <td>山东</td>\n",
       "      <td>股份有限公司</td>\n",
       "      <td>NaN</td>\n",
       "      <td>0.90</td>\n",
       "      <td>0</td>\n",
       "    </tr>\n",
       "    <tr>\n",
       "      <td>4</td>\n",
       "      <td>5980535</td>\n",
       "      <td>2004.0</td>\n",
       "      <td>4530.0</td>\n",
       "      <td>零售业</td>\n",
       "      <td>广东</td>\n",
       "      <td>农民专业合作社</td>\n",
       "      <td>自然人</td>\n",
       "      <td>0.95</td>\n",
       "      <td>0</td>\n",
       "    </tr>\n",
       "    <tr>\n",
       "      <td>...</td>\n",
       "      <td>...</td>\n",
       "      <td>...</td>\n",
       "      <td>...</td>\n",
       "      <td>...</td>\n",
       "      <td>...</td>\n",
       "      <td>...</td>\n",
       "      <td>...</td>\n",
       "      <td>...</td>\n",
       "      <td>...</td>\n",
       "    </tr>\n",
       "    <tr>\n",
       "      <td>28514</td>\n",
       "      <td>2253874</td>\n",
       "      <td>2012.0</td>\n",
       "      <td>110.0</td>\n",
       "      <td>工业</td>\n",
       "      <td>广东</td>\n",
       "      <td>股份有限公司</td>\n",
       "      <td>自然人</td>\n",
       "      <td>0.89</td>\n",
       "      <td>1</td>\n",
       "    </tr>\n",
       "    <tr>\n",
       "      <td>28515</td>\n",
       "      <td>2823789</td>\n",
       "      <td>2000.0</td>\n",
       "      <td>3110.0</td>\n",
       "      <td>服务业</td>\n",
       "      <td>湖南</td>\n",
       "      <td>股份有限公司</td>\n",
       "      <td>自然人</td>\n",
       "      <td>0.64</td>\n",
       "      <td>1</td>\n",
       "    </tr>\n",
       "    <tr>\n",
       "      <td>28516</td>\n",
       "      <td>1680634</td>\n",
       "      <td>2003.0</td>\n",
       "      <td>1030.0</td>\n",
       "      <td>服务业</td>\n",
       "      <td>山东</td>\n",
       "      <td>农民专业合作社</td>\n",
       "      <td>企业法人</td>\n",
       "      <td>0.55</td>\n",
       "      <td>1</td>\n",
       "    </tr>\n",
       "    <tr>\n",
       "      <td>28517</td>\n",
       "      <td>101731</td>\n",
       "      <td>2004.0</td>\n",
       "      <td>5260.0</td>\n",
       "      <td>零售业</td>\n",
       "      <td>湖北</td>\n",
       "      <td>集体所有制企业</td>\n",
       "      <td>自然人</td>\n",
       "      <td>0.62</td>\n",
       "      <td>1</td>\n",
       "    </tr>\n",
       "    <tr>\n",
       "      <td>28518</td>\n",
       "      <td>2026324</td>\n",
       "      <td>2011.0</td>\n",
       "      <td>140.0</td>\n",
       "      <td>社区服务</td>\n",
       "      <td>福建</td>\n",
       "      <td>农民专业合作社</td>\n",
       "      <td>自然人</td>\n",
       "      <td>0.73</td>\n",
       "      <td>1</td>\n",
       "    </tr>\n",
       "  </tbody>\n",
       "</table>\n",
       "<p>28519 rows × 9 columns</p>\n",
       "</div>"
      ],
      "text/plain": [
       "            ID    注册时间    注册资本     行业  区域     企业类型 控制人类型  控制人持股比例  flag\n",
       "0      5986361  2014.0  7090.0    服务业  湖北   有限责任公司   自然人     0.93     0\n",
       "1      5991749  2007.0  5940.0    零售业  湖南     合伙企业  企业法人     0.57     0\n",
       "2      5998154  2002.0  9720.0     工业  福建     合伙企业   自然人     0.74     0\n",
       "3      5984390  2000.0  4800.0  商业服务业  山东   股份有限公司   NaN     0.90     0\n",
       "4      5980535  2004.0  4530.0    零售业  广东  农民专业合作社   自然人     0.95     0\n",
       "...        ...     ...     ...    ...  ..      ...   ...      ...   ...\n",
       "28514  2253874  2012.0   110.0     工业  广东   股份有限公司   自然人     0.89     1\n",
       "28515  2823789  2000.0  3110.0    服务业  湖南   股份有限公司   自然人     0.64     1\n",
       "28516  1680634  2003.0  1030.0    服务业  山东  农民专业合作社  企业法人     0.55     1\n",
       "28517   101731  2004.0  5260.0    零售业  湖北  集体所有制企业   自然人     0.62     1\n",
       "28518  2026324  2011.0   140.0   社区服务  福建  农民专业合作社   自然人     0.73     1\n",
       "\n",
       "[28519 rows x 9 columns]"
      ]
     },
     "execution_count": 282,
     "metadata": {},
     "output_type": "execute_result"
    }
   ],
   "source": [
    "df_base"
   ]
  },
  {
   "cell_type": "markdown",
   "metadata": {},
   "source": [
    "#### 填补缺失值"
   ]
  },
  {
   "cell_type": "code",
   "execution_count": 342,
   "metadata": {},
   "outputs": [],
   "source": [
    "#前向填充，默认参数按行来，即使用上一行的值\n",
    "df_base=df_base.fillna(method='ffill')\n",
    "df_knowledge=df_knowledge.fillna(method='ffill')\n",
    "df_money=df_money.fillna(method='ffill')\n",
    "df_year=df_year.fillna(method='ffill')\n",
    "df_baseT=df_baseT.fillna(method='ffill')\n",
    "df_knowledgeT=df_knowledgeT.fillna(method='ffill')\n",
    "df_moneyT=df_moneyT.fillna(method='ffill')\n",
    "df_yearT=df_yearT.fillna(method='ffill')"
   ]
  },
  {
   "cell_type": "code",
   "execution_count": 343,
   "metadata": {},
   "outputs": [
    {
     "data": {
      "text/plain": [
       "(7132, 8)"
      ]
     },
     "execution_count": 343,
     "metadata": {},
     "output_type": "execute_result"
    }
   ],
   "source": [
    "df_baseT.shape"
   ]
  },
  {
   "cell_type": "markdown",
   "metadata": {},
   "source": [
    "#### 按年份拆分money和year两个数据集  \n",
    "```\n",
    "(['ID', 'year', '债权融资额度', '债权融资成本', '股权融资额度', '股权融资成本', '内部融资和贸易融资额度','内部融资和贸易融资成本', '项目融资和政策融资额度', '项目融资和政策融资成本'],dtype='object')\n",
    "(['ID', 'year', '从业人数', '资产总额', '负债总额', '营业总收入', '主营业务收入', '利润总额', '纳税总额','所有者权益合计'],dtype='object')\n",
    "```\n",
    "money数据集拆分为money15,money16,money16三个不同的数据集  \n",
    "year数据集拆分为year15,year16,year16三个不同的数据集"
   ]
  },
  {
   "cell_type": "code",
   "execution_count": 382,
   "metadata": {},
   "outputs": [],
   "source": [
    "#取year这一列中值为2015的样本\n",
    "df_money15=df_money[df_money['year'].isin([2015])]\n",
    "#删除year这一列\n",
    "df_money15=df_money15.drop(columns=['year'])\n",
    "#除ID外，修改其余列名\n",
    "df_money15.columns=['ID','债权融资额度2015', '债权融资成本2015', '股权融资额度2015', '股权融资成本2015', '内部融资和贸易融资额度2015','内部融资和贸易融资成本2015', '项目融资和政策融资额度2015', '项目融资和政策融资成本2015']\n",
    "\n",
    "df_money16=df_money[df_money['year'].isin([2016])]\n",
    "df_money16=df_money16.drop(columns=['year'])\n",
    "df_money16.columns=['ID', '债权融资额度2016', '债权融资成本2016', '股权融资额度2016', '股权融资成本2016', '内部融资和贸易融资额度2016','内部融资和贸易融资成本2016', '项目融资和政策融资额度2016', '项目融资和政策融资成本2016']\n",
    "\n",
    "df_money17=df_money[df_money['year'].isin([2017])]\n",
    "df_money17=df_money17.drop(columns=['year'])\n",
    "df_money17.columns=['ID',  '债权融资额度2017', '债权融资成本2017', '股权融资额度2017', '股权融资成本2017', '内部融资和贸易融资额度2017','内部融资和贸易融资成本2017', '项目融资和政策融资额度2017', '项目融资和政策融资成本2017']\n",
    "\n",
    "df_year15=df_year[df_year['year'].isin([2015])]\n",
    "df_year15=df_year15.drop(columns=['year'])\n",
    "df_year15.columns=['ID', '从业人数2015', '资产总额2015', '负债总额2015', '营业总收入2015', '主营业务收入2015', '利润总额2015', '纳税总额2015','所有者权益合计2015']\n",
    "\n",
    "\n",
    "df_year16=df_year[df_year['year'].isin([2016])]\n",
    "df_year16=df_year16.drop(columns=['year'])\n",
    "df_year16.columns=['ID', '从业人数2016', '资产总额2016', '负债总额2016', '营业总收入2016', '主营业务收入2016', '利润总额2016', '纳税总额2016','所有者权益合计2016']\n",
    "\n",
    "\n",
    "df_year17=df_year[df_year['year'].isin([2017])]\n",
    "df_year17=df_year17.drop(columns=['year'])\n",
    "df_year17.columns=['ID', '从业人数2017', '资产总额2017', '负债总额2017', '营业总收入2017', '主营业务收入2017', '利润总额2017', '纳税总额2017','所有者权益合计2017']\n",
    "\n",
    "\n",
    "#同样方法处理测试集\n",
    "\n",
    "df_money15T=df_moneyT[df_moneyT['year'].isin([2015])]\n",
    "df_money15T=df_money15T.drop(columns=['year'])\n",
    "df_money15T.columns=['ID','债权融资额度2015', '债权融资成本2015', '股权融资额度2015', '股权融资成本2015', '内部融资和贸易融资额度2015','内部融资和贸易融资成本2015', '项目融资和政策融资额度2015', '项目融资和政策融资成本2015']\n",
    "\n",
    "df_money16T=df_moneyT[df_moneyT['year'].isin([2016])]\n",
    "df_money16T=df_money16T.drop(columns=['year'])\n",
    "df_money16T.columns=['ID',  '债权融资额度2016', '债权融资成本2016', '股权融资额度2016', '股权融资成本2016', '内部融资和贸易融资额度2016','内部融资和贸易融资成本2016', '项目融资和政策融资额度2016', '项目融资和政策融资成本2016']\n",
    "\n",
    "\n",
    "df_money17T=df_moneyT[df_moneyT['year'].isin([2017])]\n",
    "df_money17T=df_money17T.drop(columns=['year'])\n",
    "df_money17T.columns=['ID',  '债权融资额度2017', '债权融资成本2017', '股权融资额度2017', '股权融资成本2017', '内部融资和贸易融资额度2017','内部融资和贸易融资成本2017', '项目融资和政策融资额度2017', '项目融资和政策融资成本2017']\n",
    "\n",
    "\n",
    "df_year15T=df_yearT[df_yearT['year'].isin([2015])]\n",
    "df_year15T=df_year15T.drop(columns=['year'])\n",
    "df_year15T.columns=['ID',  '从业人数2015', '资产总额2015', '负债总额2015', '营业总收入2015', '主营业务收入2015', '利润总额2015', '纳税总额2015','所有者权益合计2015']\n",
    "\n",
    "\n",
    "df_year16T=df_yearT[df_yearT['year'].isin([2016])]\n",
    "df_year16T=df_year16T.drop(columns=['year'])\n",
    "df_year16T.columns=['ID', '从业人数2016', '资产总额2016', '负债总额2016', '营业总收入2016', '主营业务收入2016', '利润总额2016', '纳税总额2016','所有者权益合计2016']\n",
    "\n",
    "\n",
    "df_year17T=df_yearT[df_yearT['year'].isin([2017])]\n",
    "df_year17T=df_year17T.drop(columns=['year'])\n",
    "df_year17T.columns=['ID', '从业人数2017', '资产总额2017', '负债总额2017', '营业总收入2017', '主营业务收入2017', '利润总额2017', '纳税总额2017','所有者权益合计2017']\n"
   ]
  },
  {
   "cell_type": "markdown",
   "metadata": {},
   "source": [
    "#### 按ID合并数据集"
   ]
  },
  {
   "cell_type": "code",
   "execution_count": 383,
   "metadata": {},
   "outputs": [],
   "source": [
    "df1=pd.merge(df_base,df_knowledge,on='ID',how='outer')#on表示按那个属性合并，how=outer表示保留两个df的所有信息\n",
    "df2=pd.merge(df1,df_money15,on='ID',how='outer')\n",
    "df3=pd.merge(df2,df_money16,on='ID',how='outer')\n",
    "df4=pd.merge(df3,df_money17,on='ID',how='outer')\n",
    "df5=pd.merge(df4,df_year15,on='ID',how='outer')\n",
    "df6=pd.merge(df5,df_year16,on='ID',how='outer')\n",
    "df=pd.merge(df6,df_year17,on='ID',how='outer')\n",
    "\n",
    "#同样方式合并测试集\n",
    "df1T=pd.merge(df_baseT,df_knowledgeT,on='ID',how='outer')\n",
    "df2T=pd.merge(df1T,df_money15T,on='ID',how='outer')\n",
    "df3T=pd.merge(df2T,df_money16T,on='ID',how='outer')\n",
    "df4T=pd.merge(df3T,df_money17T,on='ID',how='outer')\n",
    "df5T=pd.merge(df4T,df_year15T,on='ID',how='outer')\n",
    "df6T=pd.merge(df5T,df_year16T,on='ID',how='outer')\n",
    "dfT=pd.merge(df6T,df_year17T,on='ID',how='outer')"
   ]
  },
  {
   "cell_type": "code",
   "execution_count": 384,
   "metadata": {},
   "outputs": [
    {
     "data": {
      "text/plain": [
       "(7132, 59)"
      ]
     },
     "execution_count": 384,
     "metadata": {},
     "output_type": "execute_result"
    }
   ],
   "source": [
    "dfT.shape"
   ]
  },
  {
   "cell_type": "markdown",
   "metadata": {},
   "source": [
    "#### 将flag列放到最后一列"
   ]
  },
  {
   "cell_type": "code",
   "execution_count": 385,
   "metadata": {
    "collapsed": true
   },
   "outputs": [
    {
     "data": {
      "text/plain": [
       "Index(['ID', '注册时间', '注册资本', '行业', '区域', '企业类型', '控制人类型', '控制人持股比例', '专利',\n",
       "       '商标', '著作权', '债权融资额度2015', '债权融资成本2015', '股权融资额度2015', '股权融资成本2015',\n",
       "       '内部融资和贸易融资额度2015', '内部融资和贸易融资成本2015', '项目融资和政策融资额度2015',\n",
       "       '项目融资和政策融资成本2015', '债权融资额度2016', '债权融资成本2016', '股权融资额度2016',\n",
       "       '股权融资成本2016', '内部融资和贸易融资额度2016', '内部融资和贸易融资成本2016', '项目融资和政策融资额度2016',\n",
       "       '项目融资和政策融资成本2016', '债权融资额度2017', '债权融资成本2017', '股权融资额度2017',\n",
       "       '股权融资成本2017', '内部融资和贸易融资额度2017', '内部融资和贸易融资成本2017', '项目融资和政策融资额度2017',\n",
       "       '项目融资和政策融资成本2017', '从业人数2015', '资产总额2015', '负债总额2015', '营业总收入2015',\n",
       "       '主营业务收入2015', '利润总额2015', '纳税总额2015', '所有者权益合计2015', '从业人数2016',\n",
       "       '资产总额2016', '负债总额2016', '营业总收入2016', '主营业务收入2016', '利润总额2016',\n",
       "       '纳税总额2016', '所有者权益合计2016', '从业人数2017', '资产总额2017', '负债总额2017',\n",
       "       '营业总收入2017', '主营业务收入2017', '利润总额2017', '纳税总额2017', '所有者权益合计2017',\n",
       "       'flag'],\n",
       "      dtype='object')"
      ]
     },
     "execution_count": 385,
     "metadata": {},
     "output_type": "execute_result"
    }
   ],
   "source": [
    "cols=list(df.columns)\n",
    "#将flag列删除并添加到cols最后一列\n",
    "cols.insert(len(cols)-1,cols.pop(cols.index('flag')))\n",
    "\n",
    "#改变列顺序为cols\n",
    "df=df.loc[:,cols] #获取所有的行，按照cols列表来依次取原df的列，得到新的DataFrame赋给新的变量df\n",
    "# df.columns"
   ]
  },
  {
   "cell_type": "markdown",
   "metadata": {},
   "source": [
    "#### 非数值型特征获取"
   ]
  },
  {
   "cell_type": "markdown",
   "metadata": {},
   "source": [
    "```\n",
    "df.columns=[\"ID\",\"注册时间\",\"注册资本\",\"行业\",\"区域\",\"企业类型\",\"控制人类型\",\"控制人持股比例\",\"flag\"]  \n",
    "industry={nan, '交通运输业', '商业服务业', '工业', '服务业', '社区服务', '零售业'}\n",
    "location={nan, '山东', '广东', '广西', '江西', '湖北', '湖南', '福建'}\n",
    "companyType={nan, '农民专业合作社', '合伙企业', '有限责任公司', '股份有限公司', '集体所有制企业'}\n",
    "controllerType={nan, '企业法人', '自然人'}\n",
    "```"
   ]
  },
  {
   "cell_type": "markdown",
   "metadata": {},
   "source": [
    "#### 映射有序特征"
   ]
  },
  {
   "cell_type": "code",
   "execution_count": 348,
   "metadata": {},
   "outputs": [],
   "source": [
    "industry_mapping={\n",
    "    '交通运输业':1,\n",
    "    '商业服务业':2,\n",
    "    '工业':3,\n",
    "    '服务业':4,\n",
    "    '社区服务':5,\n",
    "    '零售业':6\n",
    "}\n",
    "location_mapping={\n",
    "    '山东':1,\n",
    "    '广东':2,\n",
    "    '广西':3,\n",
    "    '江西':4,\n",
    "    '湖北':5,\n",
    "    '湖南':6,\n",
    "    '福建':7\n",
    "}\n",
    "companyType_mapping={\n",
    "    '农民专业合作社':1,\n",
    "    '合伙企业':2,\n",
    "    '有限责任公司':3,\n",
    "    '股份有限公司':4,\n",
    "    '集体所有制企业':5\n",
    "}\n",
    "controllerType_mapping={\n",
    "    '企业法人':1,\n",
    "    '自然人':2,\n",
    "}"
   ]
  },
  {
   "cell_type": "code",
   "execution_count": 386,
   "metadata": {},
   "outputs": [],
   "source": [
    "df['行业']=df['行业'].map(industry_mapping)\n",
    "df['区域']=df['区域'].map(location_mapping)\n",
    "df['企业类型']=df['企业类型'].map(companyType_mapping)\n",
    "df['控制人类型']=df['控制人类型'].map(controllerType_mapping)\n",
    "df=df.fillna(method='ffill')\n",
    "\n",
    "#同样方式处理测试集\n",
    "dfT['行业']=dfT['行业'].map(industry_mapping)\n",
    "dfT['区域']=dfT['区域'].map(location_mapping)\n",
    "dfT['企业类型']=dfT['企业类型'].map(companyType_mapping)\n",
    "dfT['控制人类型']=dfT['控制人类型'].map(controllerType_mapping)\n",
    "dfT=dfT.fillna(method='ffill')"
   ]
  },
  {
   "cell_type": "code",
   "execution_count": 351,
   "metadata": {
    "collapsed": true
   },
   "outputs": [
    {
     "data": {
      "text/plain": [
       "ID                 False\n",
       "注册时间               False\n",
       "注册资本               False\n",
       "行业                 False\n",
       "区域                 False\n",
       "企业类型               False\n",
       "控制人类型              False\n",
       "控制人持股比例            False\n",
       "专利                 False\n",
       "商标                 False\n",
       "著作权                False\n",
       "债权融资额度2015         False\n",
       "债权融资成本2015         False\n",
       "股权融资额度2015         False\n",
       "股权融资成本2015         False\n",
       "内部融资和贸易融资额度2015    False\n",
       "内部融资和贸易融资成本2015    False\n",
       "项目融资和政策融资额度2015    False\n",
       "项目融资和政策融资成本2015    False\n",
       "债权融资额度2016         False\n",
       "债权融资成本2016         False\n",
       "股权融资额度2016         False\n",
       "股权融资成本2016         False\n",
       "内部融资和贸易融资额度2016    False\n",
       "内部融资和贸易融资成本2016    False\n",
       "项目融资和政策融资额度2016    False\n",
       "项目融资和政策融资成本2016    False\n",
       "债权融资额度2017         False\n",
       "债权融资成本2017         False\n",
       "股权融资额度2017         False\n",
       "股权融资成本2017         False\n",
       "内部融资和贸易融资额度2017    False\n",
       "内部融资和贸易融资成本2017    False\n",
       "项目融资和政策融资额度2017    False\n",
       "项目融资和政策融资成本2017    False\n",
       "从业人数2015           False\n",
       "资产总额2015           False\n",
       "负债总额2015           False\n",
       "营业总收入2015          False\n",
       "主营业务收入2015         False\n",
       "利润总额2015           False\n",
       "纳税总额2015           False\n",
       "所有者权益合计2015        False\n",
       "从业人数2016           False\n",
       "资产总额2016           False\n",
       "负债总额2016           False\n",
       "营业总收入2016          False\n",
       "主营业务收入2016         False\n",
       "利润总额2016           False\n",
       "纳税总额2016           False\n",
       "所有者权益合计2016        False\n",
       "从业人数2017           False\n",
       "资产总额2017           False\n",
       "负债总额2017           False\n",
       "营业总收入2017          False\n",
       "主营业务收入2017         False\n",
       "利润总额2017           False\n",
       "纳税总额2017           False\n",
       "所有者权益合计2017        False\n",
       "flag               False\n",
       "dtype: bool"
      ]
     },
     "execution_count": 351,
     "metadata": {},
     "output_type": "execute_result"
    }
   ],
   "source": [
    "df.isnull().any()"
   ]
  },
  {
   "cell_type": "markdown",
   "metadata": {},
   "source": [
    "#### 获得训练向量$X(n\\_samples, n\\_features)$和目标值$y(n\\_samples)$"
   ]
  },
  {
   "cell_type": "code",
   "execution_count": 387,
   "metadata": {},
   "outputs": [
    {
     "name": "stdout",
     "output_type": "stream",
     "text": [
      "[[ 2.010000e+03  8.790000e+03  3.000000e+00 ...  3.414915e+05\n",
      "   0.000000e+00 -1.406400e+05]\n",
      " [ 2.005000e+03  2.700000e+02  4.000000e+00 ...  3.110400e+03\n",
      "   1.866240e+04 -2.835000e+03]\n",
      " [ 2.012000e+03  2.300000e+02  4.000000e+00 ...  2.070000e+02\n",
      "   4.140000e+02 -1.840000e+03]\n",
      " ...\n",
      " [ 2.010000e+03  1.280000e+03  2.000000e+00 ...  8.960000e+03\n",
      "   0.000000e+00 -1.536000e+04]\n",
      " [ 2.000000e+03  8.320000e+03  2.000000e+00 ...  1.810432e+05\n",
      "   0.000000e+00  8.320000e+03]\n",
      " [ 2.004000e+03  2.300000e+03  1.000000e+00 ...  2.242500e+04\n",
      "   0.000000e+00 -4.140000e+04]]\n"
     ]
    }
   ],
   "source": [
    "values=df.values\n",
    "\n",
    "X=values[:,1:-1]\n",
    "y=values[:,-1]\n",
    "\n",
    "#无标签测试向量\n",
    "valuesT=dfT.values\n",
    "X_t=valuesT[:,1:]\n",
    "print(X_t)\n",
    "\n",
    "#按8:2分割数据集为训练集和测试集，固定随机种子\n",
    "X_train,X_test,y_train,y_test=train_test_split(X,y,test_size=0.2,random_state=2020)\n",
    "\n",
    "#对数据集进行标准化\n",
    "scaler=preprocessing.StandardScaler().fit(X_train)#通过训练集获得归一化函数\n",
    "#使用相同的归一化函数处理训练向量和测试向量，以及无标签测试向量\n",
    "X_train=scaler.transform(X_train)\n",
    "X_test=scaler.transform(X_test)\n",
    "X_t=scaler.transform(X_t)\n",
    "# X_t\n",
    "\n",
    "#训练集中正例和负例个数\n",
    "# y_list=y_train.tolist()\n",
    "# print(\"正例：\",y_list.count(0))\n",
    "# print(\"负例：\",y_list.count(1))"
   ]
  },
  {
   "cell_type": "markdown",
   "metadata": {},
   "source": [
    "# 训练模型  \n",
    "使用SVM作为模型时，通常采用如下流程：  \n",
    "\n",
    "- 对样本数据进行归一化\n",
    "- 应用核函数对样本进行映射\n",
    "- 用cross-validation和grid-search对超参数进行优选\n",
    "- 用最优参数训练得到模型\n",
    "- 测试"
   ]
  },
  {
   "cell_type": "code",
   "execution_count": 164,
   "metadata": {},
   "outputs": [
    {
     "name": "stdout",
     "output_type": "stream",
     "text": [
      "The best parameters are {'C': 10, 'gamma': 0.01} with a score of 0.96\n"
     ]
    }
   ],
   "source": [
    "#SVM rbf核函数，C，gamma参数调优\n",
    "grid = GridSearchCV(SVC(), param_grid={\"C\":[0.1, 1, 10], \"gamma\":[1, 0.1, 0.01]}, cv=4)  \n",
    "grid.fit(X_train, y_train)  \n",
    "print(\"The best parameters are %s with a score of %0.2f\" %(grid.best_params_, grid.best_score_))"
   ]
  },
  {
   "cell_type": "markdown",
   "metadata": {},
   "source": [
    "The best parameters are {'C': 10, 'gamma': 0.01} with a score of 0.96"
   ]
  },
  {
   "cell_type": "code",
   "execution_count": 388,
   "metadata": {
    "scrolled": true
   },
   "outputs": [
    {
     "name": "stdout",
     "output_type": "stream",
     "text": [
      "训练时间： 16.388002s\n",
      "支持向量： [1961 2786]\n",
      "正例： 1961\n",
      "负例： 2786\n"
     ]
    }
   ],
   "source": [
    "#SVM模型训练\n",
    "clf=SVC(C=10,gamma=0.01)\n",
    "t1=time.time()\n",
    "clf.fit(X_train,y_train)\n",
    "t2=time.time()\n",
    "print(\"训练时间： %fs\"%(t2-t1))\n",
    "sv=clf.n_support_\n",
    "print(\"支持向量：\",sv)\n",
    "\n",
    "#支持向量中正例负例个数\n",
    "print(\"正例：\",sv[0])\n",
    "print(\"负例：\",sv[1])"
   ]
  },
  {
   "cell_type": "code",
   "execution_count": 389,
   "metadata": {},
   "outputs": [
    {
     "name": "stdout",
     "output_type": "stream",
     "text": [
      "准确率: 0.9680925666199158\n"
     ]
    }
   ],
   "source": [
    "accur=clf.score(X_test,y_test)\n",
    "print(\"准确率:\",accur)"
   ]
  },
  {
   "cell_type": "markdown",
   "metadata": {},
   "source": [
    "# 预测无标签数据集"
   ]
  },
  {
   "cell_type": "code",
   "execution_count": 390,
   "metadata": {},
   "outputs": [],
   "source": [
    "#预测标签向量\n",
    "y_pre=clf.predict(X_t)"
   ]
  },
  {
   "cell_type": "code",
   "execution_count": 396,
   "metadata": {},
   "outputs": [
    {
     "data": {
      "text/plain": [
       "2993"
      ]
     },
     "execution_count": 396,
     "metadata": {},
     "output_type": "execute_result"
    }
   ],
   "source": [
    "# pd.DataFrame(valuesT)\n",
    "list(y_pre).count(1)"
   ]
  },
  {
   "cell_type": "markdown",
   "metadata": {},
   "source": [
    "#### 添加id列"
   ]
  },
  {
   "cell_type": "code",
   "execution_count": 397,
   "metadata": {
    "collapsed": true
   },
   "outputs": [
    {
     "data": {
      "text/html": [
       "<div>\n",
       "<style scoped>\n",
       "    .dataframe tbody tr th:only-of-type {\n",
       "        vertical-align: middle;\n",
       "    }\n",
       "\n",
       "    .dataframe tbody tr th {\n",
       "        vertical-align: top;\n",
       "    }\n",
       "\n",
       "    .dataframe thead th {\n",
       "        text-align: right;\n",
       "    }\n",
       "</style>\n",
       "<table border=\"1\" class=\"dataframe\">\n",
       "  <thead>\n",
       "    <tr style=\"text-align: right;\">\n",
       "      <th></th>\n",
       "      <th>ID</th>\n",
       "    </tr>\n",
       "  </thead>\n",
       "  <tbody>\n",
       "    <tr>\n",
       "      <td>0</td>\n",
       "      <td>5991927.0</td>\n",
       "    </tr>\n",
       "    <tr>\n",
       "      <td>1</td>\n",
       "      <td>5998351.0</td>\n",
       "    </tr>\n",
       "    <tr>\n",
       "      <td>2</td>\n",
       "      <td>5992703.0</td>\n",
       "    </tr>\n",
       "    <tr>\n",
       "      <td>3</td>\n",
       "      <td>5979231.0</td>\n",
       "    </tr>\n",
       "    <tr>\n",
       "      <td>4</td>\n",
       "      <td>5995422.0</td>\n",
       "    </tr>\n",
       "    <tr>\n",
       "      <td>...</td>\n",
       "      <td>...</td>\n",
       "    </tr>\n",
       "    <tr>\n",
       "      <td>7127</td>\n",
       "      <td>80564.0</td>\n",
       "    </tr>\n",
       "    <tr>\n",
       "      <td>7128</td>\n",
       "      <td>978515.0</td>\n",
       "    </tr>\n",
       "    <tr>\n",
       "      <td>7129</td>\n",
       "      <td>568065.0</td>\n",
       "    </tr>\n",
       "    <tr>\n",
       "      <td>7130</td>\n",
       "      <td>1889883.0</td>\n",
       "    </tr>\n",
       "    <tr>\n",
       "      <td>7131</td>\n",
       "      <td>2507377.0</td>\n",
       "    </tr>\n",
       "  </tbody>\n",
       "</table>\n",
       "<p>7132 rows × 1 columns</p>\n",
       "</div>"
      ],
      "text/plain": [
       "             ID\n",
       "0     5991927.0\n",
       "1     5998351.0\n",
       "2     5992703.0\n",
       "3     5979231.0\n",
       "4     5995422.0\n",
       "...         ...\n",
       "7127    80564.0\n",
       "7128   978515.0\n",
       "7129   568065.0\n",
       "7130  1889883.0\n",
       "7131  2507377.0\n",
       "\n",
       "[7132 rows x 1 columns]"
      ]
     },
     "execution_count": 397,
     "metadata": {},
     "output_type": "execute_result"
    }
   ],
   "source": [
    "ID=valuesT[:,0]\n",
    "df1=pd.DataFrame(ID)\n",
    "df1.columns=['ID']\n",
    "df1"
   ]
  },
  {
   "cell_type": "markdown",
   "metadata": {},
   "source": [
    "#### 合并id列与flag列"
   ]
  },
  {
   "cell_type": "code",
   "execution_count": 404,
   "metadata": {
    "collapsed": true
   },
   "outputs": [
    {
     "data": {
      "text/html": [
       "<div>\n",
       "<style scoped>\n",
       "    .dataframe tbody tr th:only-of-type {\n",
       "        vertical-align: middle;\n",
       "    }\n",
       "\n",
       "    .dataframe tbody tr th {\n",
       "        vertical-align: top;\n",
       "    }\n",
       "\n",
       "    .dataframe thead th {\n",
       "        text-align: right;\n",
       "    }\n",
       "</style>\n",
       "<table border=\"1\" class=\"dataframe\">\n",
       "  <thead>\n",
       "    <tr style=\"text-align: right;\">\n",
       "      <th></th>\n",
       "      <th>ID</th>\n",
       "      <th>flag</th>\n",
       "    </tr>\n",
       "  </thead>\n",
       "  <tbody>\n",
       "    <tr>\n",
       "      <td>0</td>\n",
       "      <td>5991927.0</td>\n",
       "      <td>0.0</td>\n",
       "    </tr>\n",
       "    <tr>\n",
       "      <td>1</td>\n",
       "      <td>5998351.0</td>\n",
       "      <td>0.0</td>\n",
       "    </tr>\n",
       "    <tr>\n",
       "      <td>2</td>\n",
       "      <td>5992703.0</td>\n",
       "      <td>1.0</td>\n",
       "    </tr>\n",
       "    <tr>\n",
       "      <td>3</td>\n",
       "      <td>5979231.0</td>\n",
       "      <td>0.0</td>\n",
       "    </tr>\n",
       "    <tr>\n",
       "      <td>4</td>\n",
       "      <td>5995422.0</td>\n",
       "      <td>1.0</td>\n",
       "    </tr>\n",
       "    <tr>\n",
       "      <td>...</td>\n",
       "      <td>...</td>\n",
       "      <td>...</td>\n",
       "    </tr>\n",
       "    <tr>\n",
       "      <td>7127</td>\n",
       "      <td>80564.0</td>\n",
       "      <td>1.0</td>\n",
       "    </tr>\n",
       "    <tr>\n",
       "      <td>7128</td>\n",
       "      <td>978515.0</td>\n",
       "      <td>1.0</td>\n",
       "    </tr>\n",
       "    <tr>\n",
       "      <td>7129</td>\n",
       "      <td>568065.0</td>\n",
       "      <td>1.0</td>\n",
       "    </tr>\n",
       "    <tr>\n",
       "      <td>7130</td>\n",
       "      <td>1889883.0</td>\n",
       "      <td>1.0</td>\n",
       "    </tr>\n",
       "    <tr>\n",
       "      <td>7131</td>\n",
       "      <td>2507377.0</td>\n",
       "      <td>1.0</td>\n",
       "    </tr>\n",
       "  </tbody>\n",
       "</table>\n",
       "<p>7132 rows × 2 columns</p>\n",
       "</div>"
      ],
      "text/plain": [
       "             ID  flag\n",
       "0     5991927.0   0.0\n",
       "1     5998351.0   0.0\n",
       "2     5992703.0   1.0\n",
       "3     5979231.0   0.0\n",
       "4     5995422.0   1.0\n",
       "...         ...   ...\n",
       "7127    80564.0   1.0\n",
       "7128   978515.0   1.0\n",
       "7129   568065.0   1.0\n",
       "7130  1889883.0   1.0\n",
       "7131  2507377.0   1.0\n",
       "\n",
       "[7132 rows x 2 columns]"
      ]
     },
     "execution_count": 404,
     "metadata": {},
     "output_type": "execute_result"
    }
   ],
   "source": [
    "df2=pd.DataFrame(y_pre)\n",
    "df2.columns=['flag']\n",
    "df=pd.merge(df1,df2,left_index=True,right_index=True)#按行索引合并"
   ]
  },
  {
   "cell_type": "code",
   "execution_count": 409,
   "metadata": {},
   "outputs": [],
   "source": [
    "df=df.astype(int)"
   ]
  },
  {
   "cell_type": "code",
   "execution_count": 410,
   "metadata": {},
   "outputs": [
    {
     "data": {
      "text/html": [
       "<div>\n",
       "<style scoped>\n",
       "    .dataframe tbody tr th:only-of-type {\n",
       "        vertical-align: middle;\n",
       "    }\n",
       "\n",
       "    .dataframe tbody tr th {\n",
       "        vertical-align: top;\n",
       "    }\n",
       "\n",
       "    .dataframe thead th {\n",
       "        text-align: right;\n",
       "    }\n",
       "</style>\n",
       "<table border=\"1\" class=\"dataframe\">\n",
       "  <thead>\n",
       "    <tr style=\"text-align: right;\">\n",
       "      <th></th>\n",
       "      <th>ID</th>\n",
       "      <th>flag</th>\n",
       "    </tr>\n",
       "  </thead>\n",
       "  <tbody>\n",
       "    <tr>\n",
       "      <td>0</td>\n",
       "      <td>5991927</td>\n",
       "      <td>0</td>\n",
       "    </tr>\n",
       "    <tr>\n",
       "      <td>1</td>\n",
       "      <td>5998351</td>\n",
       "      <td>0</td>\n",
       "    </tr>\n",
       "    <tr>\n",
       "      <td>2</td>\n",
       "      <td>5992703</td>\n",
       "      <td>1</td>\n",
       "    </tr>\n",
       "    <tr>\n",
       "      <td>3</td>\n",
       "      <td>5979231</td>\n",
       "      <td>0</td>\n",
       "    </tr>\n",
       "    <tr>\n",
       "      <td>4</td>\n",
       "      <td>5995422</td>\n",
       "      <td>1</td>\n",
       "    </tr>\n",
       "    <tr>\n",
       "      <td>...</td>\n",
       "      <td>...</td>\n",
       "      <td>...</td>\n",
       "    </tr>\n",
       "    <tr>\n",
       "      <td>7127</td>\n",
       "      <td>80564</td>\n",
       "      <td>1</td>\n",
       "    </tr>\n",
       "    <tr>\n",
       "      <td>7128</td>\n",
       "      <td>978515</td>\n",
       "      <td>1</td>\n",
       "    </tr>\n",
       "    <tr>\n",
       "      <td>7129</td>\n",
       "      <td>568065</td>\n",
       "      <td>1</td>\n",
       "    </tr>\n",
       "    <tr>\n",
       "      <td>7130</td>\n",
       "      <td>1889883</td>\n",
       "      <td>1</td>\n",
       "    </tr>\n",
       "    <tr>\n",
       "      <td>7131</td>\n",
       "      <td>2507377</td>\n",
       "      <td>1</td>\n",
       "    </tr>\n",
       "  </tbody>\n",
       "</table>\n",
       "<p>7132 rows × 2 columns</p>\n",
       "</div>"
      ],
      "text/plain": [
       "           ID  flag\n",
       "0     5991927     0\n",
       "1     5998351     0\n",
       "2     5992703     1\n",
       "3     5979231     0\n",
       "4     5995422     1\n",
       "...       ...   ...\n",
       "7127    80564     1\n",
       "7128   978515     1\n",
       "7129   568065     1\n",
       "7130  1889883     1\n",
       "7131  2507377     1\n",
       "\n",
       "[7132 rows x 2 columns]"
      ]
     },
     "execution_count": 410,
     "metadata": {},
     "output_type": "execute_result"
    }
   ],
   "source": [
    "df"
   ]
  },
  {
   "cell_type": "markdown",
   "metadata": {},
   "source": [
    "#### 输出结果写入到文件"
   ]
  },
  {
   "cell_type": "code",
   "execution_count": 411,
   "metadata": {},
   "outputs": [],
   "source": [
    "df.to_csv(\"output/res.txt\",index=False)#输出到文件，不加行索引"
   ]
  }
 ],
 "metadata": {
  "kernelspec": {
   "display_name": "Python 3",
   "language": "python",
   "name": "python3"
  },
  "language_info": {
   "codemirror_mode": {
    "name": "ipython",
    "version": 3
   },
   "file_extension": ".py",
   "mimetype": "text/x-python",
   "name": "python",
   "nbconvert_exporter": "python",
   "pygments_lexer": "ipython3",
   "version": "3.7.4"
  }
 },
 "nbformat": 4,
 "nbformat_minor": 2
}
